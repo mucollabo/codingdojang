{
 "cells": [
  {
   "cell_type": "markdown",
   "metadata": {
    "collapsed": true,
    "pycharm": {
     "name": "#%% md\n"
    }
   },
   "source": [
    "리스트 회전\n",
    "===\n",
    "[문제] 아래 조건에 따라 리스트를 회전하는 프로그램을 작성하시오.\n",
    "---\n",
    "## 조건\n",
    "* 입력값은 한 행의 문자열로 주어지며, 각 값은 공백으로 구분된다.\n",
    "* 첫 번째 값은 리스트를 회전하는 양과 방향(음수의 경우 좌측으로, 양수의 경우 우측으로 회전)이다.\n",
    "* 첫 번째 값을 제외한 나머지 값은 리스트의 각 항목의 값이다.\n",
    "* 회전된 리스트를 문자열로 출력한다.\n",
    "* 구현에 이용할 자료구조에 대한 조건이나 제약은 없다.\n",
    "* 입력되는 리스트의 항목의 개수는 유한하다.\n",
    "\n",
    "## 입출력예\n",
    "#### 예 1)\n",
    "* 입력: 1 10 20 30 40 50\n",
    "* 출력: 50 10 20 30 40\n",
    "\n",
    "#### 예 2)\n",
    "* 입력: 4 가 나 다 라 마 바 사\n",
    "* 출력: 라 마 바 사 가 나 다\n",
    "\n",
    "#### 예 3)\n",
    "* 입력: -2 A B C D E F G\n",
    "* 출력: C D E F G A B\n",
    "\n",
    "#### 예 4)\n",
    "* 입력: 0 똘기 떵이 호치 새초미\n",
    "* 출력: 똘기 떵이 호치 새초미"
   ]
  },
  {
   "cell_type": "code",
   "execution_count": 62,
   "outputs": [],
   "source": [
    "def rotationList():\n",
    "    in_list = list(map(int, input().split()))\n",
    "    rotationNum = (in_list[0])%(len(in_list)-1)\n",
    "    print(rotationNum)\n",
    "    if rotationNum == 0:\n",
    "        [print(x, end=' ') for x in in_list[1:]]\n",
    "    elif in_list[0] > 0:\n",
    "        [print(x, end=' ') for x in in_list[-rotationNum:]]\n",
    "        [print(x, end=' ') for x in in_list[1:-rotationNum]]\n",
    "    else:\n",
    "        print(rotationNum)\n",
    "        # [print(x, end=' ') for x in in_list[-rotationNum:]]\n",
    "        # [print(x, end=' ') for x in in_list[1:rotationNum]]\n"
   ],
   "metadata": {
    "collapsed": false,
    "pycharm": {
     "name": "#%%\n"
    }
   }
  },
  {
   "cell_type": "code",
   "execution_count": 66,
   "outputs": [
    {
     "name": "stdout",
     "output_type": "stream",
     "text": [
      "4\n",
      "4\n"
     ]
    }
   ],
   "source": [
    "rotationList()"
   ],
   "metadata": {
    "collapsed": false,
    "pycharm": {
     "name": "#%%\n"
    }
   }
  },
  {
   "cell_type": "code",
   "execution_count": null,
   "outputs": [],
   "source": [],
   "metadata": {
    "collapsed": false,
    "pycharm": {
     "name": "#%%\n"
    }
   }
  }
 ],
 "metadata": {
  "kernelspec": {
   "display_name": "Python 3",
   "language": "python",
   "name": "python3"
  },
  "language_info": {
   "codemirror_mode": {
    "name": "ipython",
    "version": 2
   },
   "file_extension": ".py",
   "mimetype": "text/x-python",
   "name": "python",
   "nbconvert_exporter": "python",
   "pygments_lexer": "ipython2",
   "version": "2.7.6"
  }
 },
 "nbformat": 4,
 "nbformat_minor": 0
}