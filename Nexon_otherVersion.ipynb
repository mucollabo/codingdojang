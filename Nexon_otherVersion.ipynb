{
  "nbformat": 4,
  "nbformat_minor": 0,
  "metadata": {
    "colab": {
      "name": "Nexon_otherVersion.ipynb",
      "provenance": [],
      "authorship_tag": "ABX9TyMXNYJ/ed0e1vTIto5WySyN",
      "include_colab_link": true
    },
    "kernelspec": {
      "name": "python3",
      "display_name": "Python 3"
    },
    "language_info": {
      "name": "python"
    }
  },
  "cells": [
    {
      "cell_type": "markdown",
      "metadata": {
        "id": "view-in-github",
        "colab_type": "text"
      },
      "source": [
        "<a href=\"https://colab.research.google.com/github/mucollabo/codingdojang/blob/main/Nexon_otherVersion.ipynb\" target=\"_parent\"><img src=\"https://colab.research.google.com/assets/colab-badge.svg\" alt=\"Open In Colab\"/></a>"
      ]
    },
    {
      "cell_type": "code",
      "execution_count": 1,
      "metadata": {
        "colab": {
          "base_uri": "https://localhost:8080/"
        },
        "id": "JIWq7KWvS-61",
        "outputId": "1dc397b9-d378-40a2-e9d0-8047d8155d4f"
      },
      "outputs": [
        {
          "output_type": "stream",
          "name": "stdout",
          "text": [
            "1227365\n"
          ]
        }
      ],
      "source": [
        "generator = lambda a: sum(int(i) for i in str(a))+a\n",
        "dn_list = [generator(x) for x in range(5000)]\n",
        "print(sum(set([x for x in range(5000)]) - set(dn_list)))"
      ]
    },
    {
      "cell_type": "code",
      "source": [
        ""
      ],
      "metadata": {
        "id": "FMzZes1sTBCB"
      },
      "execution_count": null,
      "outputs": []
    }
  ]
}