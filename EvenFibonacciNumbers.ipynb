{
  "nbformat": 4,
  "nbformat_minor": 0,
  "metadata": {
    "colab": {
      "name": "EvenFibonacciNumbers.ipynb",
      "provenance": [],
      "authorship_tag": "ABX9TyNnlOB19rzQQlS8iJKZMUQ7",
      "include_colab_link": true
    },
    "kernelspec": {
      "name": "python3",
      "display_name": "Python 3"
    },
    "language_info": {
      "name": "python"
    }
  },
  "cells": [
    {
      "cell_type": "markdown",
      "metadata": {
        "id": "view-in-github",
        "colab_type": "text"
      },
      "source": [
        "<a href=\"https://colab.research.google.com/github/mucollabo/codingdojang/blob/main/EvenFibonacciNumbers.ipynb\" target=\"_parent\"><img src=\"https://colab.research.google.com/assets/colab-badge.svg\" alt=\"Open In Colab\"/></a>"
      ]
    },
    {
      "cell_type": "markdown",
      "metadata": {
        "id": "Wl9GyroXrsvZ"
      },
      "source": [
        "## Even Fibonacci numbers\n",
        "##### 출처 : 프로젝트 오일러 2번문제, 한글 번역판\n",
        "### [문제] 피보나치 수열의 각 항은 바로 앞의 항 두 개를 더한 것이 됩니다. 1과 2로 시작하는 경우 이 수열은 아래와 같습니다.\n",
        "### [예] 1, 2, 3, 5, 8, 13, 21, 34, 55, 89, ...\n",
        "### 짝수이면서 4백만 이하인 모든 항을 더하면 얼마가 됩니까?\n"
      ]
    },
    {
      "cell_type": "code",
      "metadata": {
        "colab": {
          "base_uri": "https://localhost:8080/"
        },
        "id": "sJwGohDFsIxB",
        "outputId": "426397ab-9ee5-4cac-d6c7-b8befe8f2adb"
      },
      "source": [
        "totalSum = 0\n",
        "fibonacciNums = [1, 2]\n",
        "\n",
        "print(fibonacciNums)\n",
        "nextNum = fibonacciNums[0] + fibonacciNums[1]\n",
        "totalSum += nextNum\n",
        "print(totalSum)\n",
        "\n",
        "fibonacciNums.append(nextNum)\n",
        "print(fibonacciNums)\n",
        "\n",
        "nextNum = fibonacciNums[1] + fibonacciNums[2]\n",
        "totalSum += nextNum\n",
        "print(totalSum)\n",
        "\n",
        "fibonacciNums.append(nextNum)\n",
        "print(fibonacciNums)"
      ],
      "execution_count": 15,
      "outputs": [
        {
          "output_type": "stream",
          "name": "stdout",
          "text": [
            "[1, 2]\n",
            "3\n",
            "[1, 2, 3]\n",
            "8\n",
            "[1, 2, 3, 5]\n"
          ]
        }
      ]
    },
    {
      "cell_type": "code",
      "metadata": {
        "id": "XS147DoxtdQz"
      },
      "source": [
        ""
      ],
      "execution_count": null,
      "outputs": []
    }
  ]
}