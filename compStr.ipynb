{
  "nbformat": 4,
  "nbformat_minor": 0,
  "metadata": {
    "colab": {
      "name": "compStr.ipynb",
      "provenance": [],
      "authorship_tag": "ABX9TyPOMGFUq146ILzHsH8aMrbI",
      "include_colab_link": true
    },
    "kernelspec": {
      "name": "python3",
      "display_name": "Python 3"
    },
    "language_info": {
      "name": "python"
    }
  },
  "cells": [
    {
      "cell_type": "markdown",
      "metadata": {
        "id": "view-in-github",
        "colab_type": "text"
      },
      "source": [
        "<a href=\"https://colab.research.google.com/github/mucollabo/codingdojang/blob/main/compStr.ipynb\" target=\"_parent\"><img src=\"https://colab.research.google.com/assets/colab-badge.svg\" alt=\"Open In Colab\"/></a>"
      ]
    },
    {
      "cell_type": "code",
      "execution_count": 16,
      "metadata": {
        "id": "1ifUDrpU_RnW"
      },
      "outputs": [],
      "source": [
        "def compStr():\n",
        "  s = input()\n",
        "  cnt = 1\n",
        "  result = ''\n",
        "  for e in range(len(s)-1):\n",
        "    if s[e] == s[e+1]:\n",
        "      cnt += 1\n",
        "    else:\n",
        "      result += s[e] + str(cnt)\n",
        "      cnt = 1\n",
        "  result += s[-1] + str(cnt)\n",
        "\n",
        "  return result"
      ]
    },
    {
      "cell_type": "code",
      "source": [
        "compStr()"
      ],
      "metadata": {
        "colab": {
          "base_uri": "https://localhost:8080/",
          "height": 54
        },
        "id": "8cZcdJDnBtKm",
        "outputId": "6cbdf8f0-2679-40d7-d885-090526cd1df1"
      },
      "execution_count": 17,
      "outputs": [
        {
          "name": "stdout",
          "output_type": "stream",
          "text": [
            "aaabbcccccaa\n"
          ]
        },
        {
          "output_type": "execute_result",
          "data": {
            "text/plain": [
              "'a3b2c5a2'"
            ],
            "application/vnd.google.colaboratory.intrinsic+json": {
              "type": "string"
            }
          },
          "metadata": {},
          "execution_count": 17
        }
      ]
    },
    {
      "cell_type": "code",
      "source": [
        "compStr()"
      ],
      "metadata": {
        "colab": {
          "base_uri": "https://localhost:8080/",
          "height": 54
        },
        "id": "X3JCosNCELRL",
        "outputId": "fa996a86-b504-40ae-f4a1-5e6fbddc2fc9"
      },
      "execution_count": 18,
      "outputs": [
        {
          "name": "stdout",
          "output_type": "stream",
          "text": [
            "abbcccddddeeeeefggh\n"
          ]
        },
        {
          "output_type": "execute_result",
          "data": {
            "text/plain": [
              "'a1b2c3d4e5f1g2h1'"
            ],
            "application/vnd.google.colaboratory.intrinsic+json": {
              "type": "string"
            }
          },
          "metadata": {},
          "execution_count": 18
        }
      ]
    },
    {
      "cell_type": "code",
      "source": [
        ""
      ],
      "metadata": {
        "id": "xpw-IFXfF1DK"
      },
      "execution_count": null,
      "outputs": []
    }
  ]
}