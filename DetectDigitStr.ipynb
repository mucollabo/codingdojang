{
  "nbformat": 4,
  "nbformat_minor": 0,
  "metadata": {
    "colab": {
      "name": "DetectDigitStr.ipynb",
      "provenance": [],
      "authorship_tag": "ABX9TyO5NaJhTpFSsrUN+ogLkoRV",
      "include_colab_link": true
    },
    "kernelspec": {
      "name": "python3",
      "display_name": "Python 3"
    },
    "language_info": {
      "name": "python"
    }
  },
  "cells": [
    {
      "cell_type": "markdown",
      "metadata": {
        "id": "view-in-github",
        "colab_type": "text"
      },
      "source": [
        "<a href=\"https://colab.research.google.com/github/mucollabo/codingdojang/blob/main/DetectDigitStr.ipynb\" target=\"_parent\"><img src=\"https://colab.research.google.com/assets/colab-badge.svg\" alt=\"Open In Colab\"/></a>"
      ]
    },
    {
      "cell_type": "markdown",
      "source": [
        "숫자, 문자열 구별하기\n",
        "===\n",
        "[문제] 문자와 숫자가섞인 문자열을 입력받을때 구별하여 출력하시오.\n",
        "---\n",
        "#### [예]\n",
        "#### input:\n",
        "#### \"c910m6ia 1ho\"\n",
        "#### output:\n",
        "#### str : cma ho\n",
        "#### int : 91061"
      ],
      "metadata": {
        "id": "qMVaUzDHEPrJ"
      }
    },
    {
      "cell_type": "code",
      "execution_count": 7,
      "metadata": {
        "id": "_pEkfOEWCBZB"
      },
      "outputs": [],
      "source": [
        "import re\n",
        "\n",
        "def detectDigitStr():\n",
        "  strings = input()\n",
        "  integer = re.sub(r'[^0-9]', '', strings)\n",
        "  string = re.sub(r'[0-9]', '', strings)\n",
        "  print(f\"str : {string}\\nint : {integer}\")"
      ]
    },
    {
      "cell_type": "code",
      "source": [
        "detectDigitStr()"
      ],
      "metadata": {
        "colab": {
          "base_uri": "https://localhost:8080/"
        },
        "id": "eF4Oh4M-Gjjy",
        "outputId": "53f032bc-1d28-4b73-d975-4fcb126dd579"
      },
      "execution_count": 8,
      "outputs": [
        {
          "output_type": "stream",
          "name": "stdout",
          "text": [
            "c910m6ia 1ho\n",
            "str : cmia ho\n",
            "int : 91061\n"
          ]
        }
      ]
    },
    {
      "cell_type": "code",
      "source": [
        ""
      ],
      "metadata": {
        "id": "z263oqVkGmjB"
      },
      "execution_count": null,
      "outputs": []
    }
  ]
}