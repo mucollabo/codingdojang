{
  "nbformat": 4,
  "nbformat_minor": 0,
  "metadata": {
    "colab": {
      "name": "NumWithoutStr.ipynb",
      "provenance": [],
      "authorship_tag": "ABX9TyPVE0qi5IC8f4rrTDRanLiO",
      "include_colab_link": true
    },
    "kernelspec": {
      "name": "python3",
      "display_name": "Python 3"
    },
    "language_info": {
      "name": "python"
    }
  },
  "cells": [
    {
      "cell_type": "markdown",
      "metadata": {
        "id": "view-in-github",
        "colab_type": "text"
      },
      "source": [
        "<a href=\"https://colab.research.google.com/github/mucollabo/codingdojang/blob/main/NumWithoutStr.ipynb\" target=\"_parent\"><img src=\"https://colab.research.google.com/assets/colab-badge.svg\" alt=\"Open In Colab\"/></a>"
      ]
    },
    {
      "cell_type": "markdown",
      "source": [
        "[문제] 문자열을 제거한뒤 숫자만반환\n",
        "--------------------------\n",
        "### ex) xxx : 1627000000 > xxx : 1w627r00o00p00 만 (특수문자제외)"
      ],
      "metadata": {
        "id": "U2gAac0AHv03"
      }
    },
    {
      "cell_type": "code",
      "source": [
        "import re\n",
        "\n",
        "player = input('선수 번호를 입력하세요(문자열 입력시 자동으로 제거 됨): ')\n",
        "\n",
        "numbers = re.sub(r'[^0-9]', '', player)\n",
        "\n",
        "print(numbers)\n"
      ],
      "metadata": {
        "colab": {
          "base_uri": "https://localhost:8080/"
        },
        "id": "AXJs8M1AKmMq",
        "outputId": "48169629-e538-463e-8470-a9e69851c840"
      },
      "execution_count": 1,
      "outputs": [
        {
          "output_type": "stream",
          "name": "stdout",
          "text": [
            "선수 번호를 입력하세요(문자열 입력시 자동으로 제거 됨): xxx : 1w627r00o00p00\n",
            "1627000000\n"
          ]
        }
      ]
    },
    {
      "cell_type": "code",
      "source": [
        ""
      ],
      "metadata": {
        "id": "YDTCT9-GOpMO"
      },
      "execution_count": null,
      "outputs": []
    }
  ]
}