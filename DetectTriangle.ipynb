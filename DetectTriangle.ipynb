{
  "nbformat": 4,
  "nbformat_minor": 0,
  "metadata": {
    "colab": {
      "name": "DetectTriangle.ipynb",
      "provenance": [],
      "authorship_tag": "ABX9TyPOU7/EiyVOAbCG21QBDzYg",
      "include_colab_link": true
    },
    "kernelspec": {
      "name": "python3",
      "display_name": "Python 3"
    },
    "language_info": {
      "name": "python"
    }
  },
  "cells": [
    {
      "cell_type": "markdown",
      "metadata": {
        "id": "view-in-github",
        "colab_type": "text"
      },
      "source": [
        "<a href=\"https://colab.research.google.com/github/mucollabo/codingdojang/blob/main/DetectTriangle.ipynb\" target=\"_parent\"><img src=\"https://colab.research.google.com/assets/colab-badge.svg\" alt=\"Open In Colab\"/></a>"
      ]
    },
    {
      "cell_type": "markdown",
      "source": [
        "삼각형 구별하기\n",
        "===\n",
        "[문제] 3개의 각으로 삼각형의 예각, 직각, 둔각을 구별하는 프로그램을 만들어라.\n",
        "---\n",
        "#### [예]\n",
        "#### [60, 60, 60] = 예각삼각형\n",
        "#### [30, 60, 90] = 직각삼각형\n",
        "#### [20, 40, 120] = 직각삼각형\n",
        "#### [0, 90, 90] = 삼각형이 아니다\n",
        "#### [60, 70, 80] = 삼각형이 아니다\n",
        "#### [40, 40, 50, 50] = 삼각형이 아니다\n",
        "---\n",
        "#### 예각삼각형 : 3개의 각이 모두 예각인 삼각형\n",
        "#### 직각삼각형 : 1개의 각이 직각인 삼각형\n",
        "#### 둔각삼각형 : 1개의 각이 둔각인 삼각형\n",
        "1. 각이 3개가 아닐 경우 삼각형이 아니다.\n",
        "2. 3개의 각의 합이 180° 각 아닐 경우 삼각형이 아니다."
      ],
      "metadata": {
        "id": "RMyFohE3U6t-"
      }
    },
    {
      "cell_type": "code",
      "source": [
        "def detectTriangle():\n",
        "  angles = list(map(int, input().split()))\n",
        "\n",
        "  if len(angles) != 3 or sum(angles) != 180 or 0 in angles:\n",
        "    print(f\"{angles} = 삼각형이 아니다\")\n",
        "  elif 90 in angles:\n",
        "    print(f\"{angles} = 직각삼각형\")\n",
        "  elif [angle for angle in angles if angle > 90]:\n",
        "    print(f\"{angles} = 둔각삼각형\")\n",
        "  else:\n",
        "    print(f\"{angles} = 예각삼각형\")\n"
      ],
      "metadata": {
        "id": "uuJ5KE5_uASM"
      },
      "execution_count": 1,
      "outputs": []
    },
    {
      "cell_type": "code",
      "source": [
        "detectTriangle()\n"
      ],
      "metadata": {
        "colab": {
          "base_uri": "https://localhost:8080/"
        },
        "id": "DFjR4ldhugsB",
        "outputId": "297ef247-a3e5-4549-9209-6b4dd6a52134"
      },
      "execution_count": 2,
      "outputs": [
        {
          "output_type": "stream",
          "name": "stdout",
          "text": [
            "60 60 60\n",
            "[60, 60, 60] = 예각삼각형\n"
          ]
        }
      ]
    },
    {
      "cell_type": "code",
      "source": [
        "detectTriangle()\n"
      ],
      "metadata": {
        "colab": {
          "base_uri": "https://localhost:8080/"
        },
        "id": "2a8j6YcLukCo",
        "outputId": "212df6cc-f04a-40c9-96c7-3936b7a14be9"
      },
      "execution_count": 3,
      "outputs": [
        {
          "output_type": "stream",
          "name": "stdout",
          "text": [
            "30 60 90\n",
            "[30, 60, 90] = 직각삼각형\n"
          ]
        }
      ]
    },
    {
      "cell_type": "code",
      "source": [
        "detectTriangle()\n"
      ],
      "metadata": {
        "colab": {
          "base_uri": "https://localhost:8080/"
        },
        "id": "-JjvgRK44pgY",
        "outputId": "4b0acdc9-32a8-4551-f9ec-edaa360d2c25"
      },
      "execution_count": 4,
      "outputs": [
        {
          "output_type": "stream",
          "name": "stdout",
          "text": [
            "20 40 120\n",
            "[20, 40, 120] = 둔각삼각형\n"
          ]
        }
      ]
    },
    {
      "cell_type": "code",
      "source": [
        "detectTriangle()\n"
      ],
      "metadata": {
        "colab": {
          "base_uri": "https://localhost:8080/"
        },
        "id": "0m1hb7u44sLm",
        "outputId": "c76abdb2-e857-415d-a432-1b0cdadf15f5"
      },
      "execution_count": 5,
      "outputs": [
        {
          "output_type": "stream",
          "name": "stdout",
          "text": [
            "0 90 90\n",
            "[0, 90, 90] = 삼각형이 아니다\n"
          ]
        }
      ]
    },
    {
      "cell_type": "code",
      "source": [
        "detectTriangle()\n"
      ],
      "metadata": {
        "colab": {
          "base_uri": "https://localhost:8080/"
        },
        "id": "lgTWr5Eu4vSw",
        "outputId": "7a50626a-458b-4606-e6a6-4157d41346f4"
      },
      "execution_count": 6,
      "outputs": [
        {
          "output_type": "stream",
          "name": "stdout",
          "text": [
            "60 70 80\n",
            "[60, 70, 80] = 삼각형이 아니다\n"
          ]
        }
      ]
    },
    {
      "cell_type": "code",
      "source": [
        "detectTriangle()\n"
      ],
      "metadata": {
        "colab": {
          "base_uri": "https://localhost:8080/"
        },
        "id": "E3MJc0V74xSX",
        "outputId": "23c13cfb-cde7-4bf3-d80f-c1f3f3687337"
      },
      "execution_count": 7,
      "outputs": [
        {
          "output_type": "stream",
          "name": "stdout",
          "text": [
            "40 40 50 50\n",
            "[40, 40, 50, 50] = 삼각형이 아니다\n"
          ]
        }
      ]
    },
    {
      "cell_type": "code",
      "source": [
        ""
      ],
      "metadata": {
        "id": "aw4zzZWaEO0r"
      },
      "execution_count": 7,
      "outputs": []
    }
  ]
}