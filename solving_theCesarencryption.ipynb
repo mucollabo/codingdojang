{
  "nbformat": 4,
  "nbformat_minor": 0,
  "metadata": {
    "colab": {
      "name": "solving_theCesarencryption.ipynb",
      "provenance": [],
      "authorship_tag": "ABX9TyPrnVp1Vgfx+u/yibQ7ybHW",
      "include_colab_link": true
    },
    "kernelspec": {
      "name": "python3",
      "display_name": "Python 3"
    },
    "language_info": {
      "name": "python"
    }
  },
  "cells": [
    {
      "cell_type": "markdown",
      "metadata": {
        "id": "view-in-github",
        "colab_type": "text"
      },
      "source": [
        "<a href=\"https://colab.research.google.com/github/mucollabo/codingdojang/blob/main/solving_theCesarencryption.ipynb\" target=\"_parent\"><img src=\"https://colab.research.google.com/assets/colab-badge.svg\" alt=\"Open In Colab\"/></a>"
      ]
    },
    {
      "cell_type": "markdown",
      "metadata": {
        "id": "VfiUpSs6vB6g"
      },
      "source": [
        "### 시저 암호 풀기\n",
        "#### [문제] 시저 암호는, 고대 로마의 황제 줄리어스 시저가 만들어 낸 암호인데, 예를 들어 알파벳 A를 입력했을 때, 그 알파벳의 n개 뒤에 오는(여기서는 예를 들 때 3으로 지정하였다)알파벳이 출력되는 것이다. 예를 들어 바꾸려는 단어가 'CAT\"고, n을 5로 지정하였을 때 \"HFY\"가 되는 것이다. \n",
        "#### 어떠한 암호를 만들 문장과 n을 입력했을 때 암호를 만들어 출력하는 프로그램을 작성해라."
      ]
    },
    {
      "cell_type": "code",
      "metadata": {
        "colab": {
          "base_uri": "https://localhost:8080/"
        },
        "id": "PTIoySDwr_2K",
        "outputId": "4ea974a3-5599-40b1-b545-e01454228088"
      },
      "source": [
        "enc_input = input('암호를 만들 문장을 입력하시오: ')\n",
        "n_input = input('n번째 암호를 만들기 위해 n값을 입력하시오: ')\n",
        "\n",
        "sen = ''\n",
        "for enc in enc_input:\n",
        "  n = ord(enc) + int(n_input)\n",
        "  sen = sen + chr(n)\n",
        "\n",
        "print(sen)"
      ],
      "execution_count": 12,
      "outputs": [
        {
          "output_type": "stream",
          "name": "stdout",
          "text": [
            "암호를 만들 문장을 입력하시오: CAT\n",
            "n번째 암호를 만들기 위해 n값을 입력하시오: 5\n",
            "HFY\n"
          ]
        }
      ]
    },
    {
      "cell_type": "code",
      "metadata": {
        "id": "xhHw2x3nvWYB"
      },
      "source": [
        ""
      ],
      "execution_count": null,
      "outputs": []
    }
  ]
}