{
  "nbformat": 4,
  "nbformat_minor": 0,
  "metadata": {
    "colab": {
      "name": "sumOfEachDigit.ipynb",
      "provenance": [],
      "authorship_tag": "ABX9TyOcKSgPZwiKZVoxVvxCUCas",
      "include_colab_link": true
    },
    "kernelspec": {
      "name": "python3",
      "display_name": "Python 3"
    },
    "language_info": {
      "name": "python"
    }
  },
  "cells": [
    {
      "cell_type": "markdown",
      "metadata": {
        "id": "view-in-github",
        "colab_type": "text"
      },
      "source": [
        "<a href=\"https://colab.research.google.com/github/mucollabo/codingdojang/blob/main/sumOfEachDigit.ipynb\" target=\"_parent\"><img src=\"https://colab.research.google.com/assets/colab-badge.svg\" alt=\"Open In Colab\"/></a>"
      ]
    },
    {
      "cell_type": "markdown",
      "source": [
        "각 자릿수의 합을 구할 수 있나요?\n",
        "===\n",
        "[문제] 초보자 프로그래머 홍길동은 사용자가 입력한 양의정수(범위는 int)각 자리수를 더해 출력하는 프로그램을 만들고 싶어한다.\n",
        "---\n",
        "#### [예] 5293의 결과는 5+9+2+3인 13이다.\n",
        "#### 　　200의 결과는 2+0+0인 2이다.\n",
        "#### 　　6719283의 결과는 6+7+1+9+2+8+3인 36이다."
      ],
      "metadata": {
        "id": "g_GURtTwq12W"
      }
    },
    {
      "cell_type": "code",
      "source": [
        "def sumOfEachDigit():\n",
        "  num = input(\"양의 정수를 입력하세요: \")\n",
        "  print(f\"{num}의 결과는\", end=' ')\n",
        "  digits = [int(digit) for digit in num]\n",
        "  for idx in range(len(digits)-1):\n",
        "    print(digits[idx], end='+')\n",
        "  print(f\"{digits[-1]}인 {sum(digits)}이다.\")\n",
        "\n",
        "sumOfEachDigit()"
      ],
      "metadata": {
        "colab": {
          "base_uri": "https://localhost:8080/"
        },
        "id": "-KslyDRZvTjS",
        "outputId": "92d64a0b-9216-4b3e-f424-268d32c52b31"
      },
      "execution_count": 27,
      "outputs": [
        {
          "output_type": "stream",
          "name": "stdout",
          "text": [
            "양의 정수를 입력하세요: 5923\n",
            "5923의 결과는 5+9+2+3인 19이다.\n"
          ]
        }
      ]
    },
    {
      "cell_type": "code",
      "source": [
        "sumOfEachDigit()"
      ],
      "metadata": {
        "colab": {
          "base_uri": "https://localhost:8080/"
        },
        "id": "s_9W_lknxYCe",
        "outputId": "0f56e847-513c-4f2f-db6c-1d09bf358556"
      },
      "execution_count": 28,
      "outputs": [
        {
          "output_type": "stream",
          "name": "stdout",
          "text": [
            "양의 정수를 입력하세요: 200\n",
            "200의 결과는 2+0+0인 2이다.\n"
          ]
        }
      ]
    },
    {
      "cell_type": "code",
      "source": [
        "sumOfEachDigit()"
      ],
      "metadata": {
        "colab": {
          "base_uri": "https://localhost:8080/"
        },
        "id": "U3IDjcySQERC",
        "outputId": "0e4515b4-d62a-4b3b-dc63-c549aa79c689"
      },
      "execution_count": 29,
      "outputs": [
        {
          "output_type": "stream",
          "name": "stdout",
          "text": [
            "양의 정수를 입력하세요: 671928\n",
            "671928의 결과는 6+7+1+9+2+8인 33이다.\n"
          ]
        }
      ]
    },
    {
      "cell_type": "code",
      "source": [
        ""
      ],
      "metadata": {
        "id": "TRFwyb67QGbs"
      },
      "execution_count": null,
      "outputs": []
    }
  ]
}