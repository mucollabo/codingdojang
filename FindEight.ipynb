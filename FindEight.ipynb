{
  "nbformat": 4,
  "nbformat_minor": 0,
  "metadata": {
    "colab": {
      "name": "FindEight.ipynb",
      "provenance": [],
      "authorship_tag": "ABX9TyO6cqYUSGe2sOb1YrJlGN9u",
      "include_colab_link": true
    },
    "kernelspec": {
      "name": "python3",
      "display_name": "Python 3"
    },
    "language_info": {
      "name": "python"
    }
  },
  "cells": [
    {
      "cell_type": "markdown",
      "metadata": {
        "id": "view-in-github",
        "colab_type": "text"
      },
      "source": [
        "<a href=\"https://colab.research.google.com/github/mucollabo/codingdojang/blob/main/FindEight.ipynb\" target=\"_parent\"><img src=\"https://colab.research.google.com/assets/colab-badge.svg\" alt=\"Open In Colab\"/></a>"
      ]
    },
    {
      "cell_type": "markdown",
      "source": [
        "[문제] 1부터 10,000까지 8이라는 숫자가 총 몇번 나오는가?\n",
        "===\n",
        "[부연설명] 8이 포함되어 있는 수자의 갯수를 카운팅 하는 것이 아니라 8이라는 숫자를 모두 카운팅 해야 한다.\n",
        "---\n",
        "#### (예를들어 8803은 3, 8888은 4로 카운팅 해야 함)\n"
      ],
      "metadata": {
        "id": "p1YCbrt28bcD"
      }
    },
    {
      "cell_type": "code",
      "source": [
        "count = 0\n",
        "for num in range(1, 10001):\n",
        "  if '8' in str(num):\n",
        "    eight = str(num).count('8')\n",
        "    count += eight\n",
        "print(count)"
      ],
      "metadata": {
        "colab": {
          "base_uri": "https://localhost:8080/"
        },
        "id": "yUcHcNLq9KB7",
        "outputId": "4c1e2924-c781-4dce-fcdd-f2786d213f64"
      },
      "execution_count": 41,
      "outputs": [
        {
          "output_type": "stream",
          "name": "stdout",
          "text": [
            "4000\n"
          ]
        }
      ]
    },
    {
      "cell_type": "code",
      "source": [
        "a = [str(n) for n in range(1,10001)]\n",
        "b = ''.join(a)\n",
        "print(b.count(str(8)))"
      ],
      "metadata": {
        "colab": {
          "base_uri": "https://localhost:8080/"
        },
        "id": "PRO5Wu4yIk1M",
        "outputId": "6aa84403-65b0-435a-d940-58c3e48f7f1a"
      },
      "execution_count": 46,
      "outputs": [
        {
          "output_type": "stream",
          "name": "stdout",
          "text": [
            "4000\n"
          ]
        }
      ]
    },
    {
      "cell_type": "code",
      "source": [
        "num_mat = [int(k) for i in range(1, 10001) for k in str(i)]\n",
        "print(num_mat.count(8))"
      ],
      "metadata": {
        "colab": {
          "base_uri": "https://localhost:8080/"
        },
        "id": "YVQEMa3DRXRX",
        "outputId": "41b2604c-cba8-4783-b338-d99f5c44b15a"
      },
      "execution_count": 47,
      "outputs": [
        {
          "output_type": "stream",
          "name": "stdout",
          "text": [
            "4000\n"
          ]
        }
      ]
    }
  ]
}