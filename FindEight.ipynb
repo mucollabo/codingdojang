{
  "nbformat": 4,
  "nbformat_minor": 0,
  "metadata": {
    "colab": {
      "name": "FindEight.ipynb",
      "provenance": [],
      "authorship_tag": "ABX9TyMuQqVzLcqBEeXFlkULfacd",
      "include_colab_link": true
    },
    "kernelspec": {
      "name": "python3",
      "display_name": "Python 3"
    },
    "language_info": {
      "name": "python"
    }
  },
  "cells": [
    {
      "cell_type": "markdown",
      "metadata": {
        "id": "view-in-github",
        "colab_type": "text"
      },
      "source": [
        "<a href=\"https://colab.research.google.com/github/mucollabo/codingdojang/blob/main/FindEight.ipynb\" target=\"_parent\"><img src=\"https://colab.research.google.com/assets/colab-badge.svg\" alt=\"Open In Colab\"/></a>"
      ]
    },
    {
      "cell_type": "markdown",
      "source": [
        "[문제] 1부터 10,000까지 8이라는 숫자가 총 몇번 나오는가?\n",
        "===\n",
        "[부연설명] 8이 포함되어 있는 수자의 갯수를 카운팅 하는 것이 아니라 8이라는 숫자를 모두 카운팅 해야 한다.\n",
        "---\n",
        "#### (예를들어 8803은 3, 8888은 4로 카운팅 해야 함)\n"
      ],
      "metadata": {
        "id": "p1YCbrt28bcD"
      }
    },
    {
      "cell_type": "code",
      "source": [
        "count = 0\n",
        "for num in range(1, 10001):\n",
        "  if '8' in str(num):\n",
        "    for digit in str(num):\n",
        "      if digit == '8':\n",
        "        count += 1\n",
        "print(count)"
      ],
      "metadata": {
        "colab": {
          "base_uri": "https://localhost:8080/"
        },
        "id": "yUcHcNLq9KB7",
        "outputId": "68a1c526-9b3d-4b10-8f44-1836ea543dcb"
      },
      "execution_count": 13,
      "outputs": [
        {
          "output_type": "stream",
          "name": "stdout",
          "text": [
            "4000\n"
          ]
        }
      ]
    },
    {
      "cell_type": "code",
      "source": [
        ""
      ],
      "metadata": {
        "id": "jQYt71EnDNO8"
      },
      "execution_count": null,
      "outputs": []
    }
  ]
}