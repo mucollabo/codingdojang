{
  "nbformat": 4,
  "nbformat_minor": 0,
  "metadata": {
    "colab": {
      "name": "MiddleNumber.ipynb",
      "provenance": [],
      "authorship_tag": "ABX9TyOpYz3PxIyxhp75zUvSxrOB",
      "include_colab_link": true
    },
    "kernelspec": {
      "name": "python3",
      "display_name": "Python 3"
    },
    "language_info": {
      "name": "python"
    }
  },
  "cells": [
    {
      "cell_type": "markdown",
      "metadata": {
        "id": "view-in-github",
        "colab_type": "text"
      },
      "source": [
        "<a href=\"https://colab.research.google.com/github/mucollabo/codingdojang/blob/main/MiddleNumber.ipynb\" target=\"_parent\"><img src=\"https://colab.research.google.com/assets/colab-badge.svg\" alt=\"Open In Colab\"/></a>"
      ]
    },
    {
      "cell_type": "markdown",
      "source": [
        "### 어느 숫자가 중간값을 가지는 숫자일까?\n",
        "### [문제] 3개의 숫자를 입력으로 받고 3개의 숫자 중에 중간값을 가지는 숫자를 출력하세요. ex1) 2, 5, 3 => 3 ex2) 4, 6, 4 => 4"
      ],
      "metadata": {
        "id": "NZc62TvDZjnx"
      }
    },
    {
      "cell_type": "code",
      "source": [
        "a, b, c = input('3개의 숫자를 입력하세요: ').split(' ')\n",
        "num = [a, b, c]\n",
        "num.sort()\n",
        "print(num[1])"
      ],
      "metadata": {
        "colab": {
          "base_uri": "https://localhost:8080/"
        },
        "id": "PX83UHdeaDx0",
        "outputId": "c605d2b0-d7cc-421d-a094-86083a3097b8"
      },
      "execution_count": 23,
      "outputs": [
        {
          "output_type": "stream",
          "name": "stdout",
          "text": [
            "3개의 숫자를 입력하세요: 2 5 3\n",
            "3\n"
          ]
        }
      ]
    },
    {
      "cell_type": "code",
      "source": [
        ""
      ],
      "metadata": {
        "id": "H6zV8ydrhhLl"
      },
      "execution_count": null,
      "outputs": []
    }
  ]
}