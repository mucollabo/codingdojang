{
 "cells": [
  {
   "cell_type": "markdown",
   "source": [
    "Every Other Digit\n",
    "===\n",
    "### [문제] 모든 짝수번째 숫자를 * 로 치환하시오. (홀수번째 숫자, 또는 짝수번째 문자를 치환하면 안됩니다.) 로직을 이용하면 쉬운데 정규식으로는 어려울거 같아요.\n",
    "### [Example] : a1b2cde3~g45hi6 → a*b*cde*~g4*hi6\n",
    "### 출처: [http://regex101.com/quiz/](http://regex101.com/quiz/)"
   ],
   "metadata": {
    "collapsed": false,
    "pycharm": {
     "name": "#%% md\n"
    }
   }
  },
  {
   "cell_type": "code",
   "execution_count": 27,
   "outputs": [],
   "source": [
    "import re\n",
    "\n",
    "def EveryOtherDigit():\n",
    "    string = input()\n",
    "    for i in range(len(string)):\n",
    "        if i % 2 == 1:\n",
    "            if re.search('\\d', string[i]):\n",
    "                string = string.replace(string[i], '*')\n",
    "\n",
    "    return print(string)"
   ],
   "metadata": {
    "collapsed": false,
    "pycharm": {
     "name": "#%%\n"
    }
   }
  },
  {
   "cell_type": "code",
   "execution_count": 28,
   "outputs": [
    {
     "name": "stdout",
     "output_type": "stream",
     "text": [
      "a*b*cde*~g4*hi6\n"
     ]
    }
   ],
   "source": [
    "EveryOtherDigit()        # a1b2cde3~g45hi6"
   ],
   "metadata": {
    "collapsed": false,
    "pycharm": {
     "name": "#%%\n"
    }
   }
  },
  {
   "cell_type": "code",
   "execution_count": null,
   "outputs": [],
   "source": [],
   "metadata": {
    "collapsed": false,
    "pycharm": {
     "name": "#%%\n"
    }
   }
  }
 ],
 "metadata": {
  "kernelspec": {
   "display_name": "Python 3",
   "language": "python",
   "name": "python3"
  },
  "language_info": {
   "codemirror_mode": {
    "name": "ipython",
    "version": 2
   },
   "file_extension": ".py",
   "mimetype": "text/x-python",
   "name": "python",
   "nbconvert_exporter": "python",
   "pygments_lexer": "ipython2",
   "version": "2.7.6"
  }
 },
 "nbformat": 4,
 "nbformat_minor": 0
}