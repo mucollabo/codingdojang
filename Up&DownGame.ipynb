{
  "nbformat": 4,
  "nbformat_minor": 0,
  "metadata": {
    "colab": {
      "name": "Up&DownGame.ipynb",
      "provenance": [],
      "authorship_tag": "ABX9TyNmH9UaXATfmx556BI6b97F",
      "include_colab_link": true
    },
    "kernelspec": {
      "name": "python3",
      "display_name": "Python 3"
    },
    "language_info": {
      "name": "python"
    }
  },
  "cells": [
    {
      "cell_type": "markdown",
      "metadata": {
        "id": "view-in-github",
        "colab_type": "text"
      },
      "source": [
        "<a href=\"https://colab.research.google.com/github/mucollabo/codingdojang/blob/main/Up%26DownGame.ipynb\" target=\"_parent\"><img src=\"https://colab.research.google.com/assets/colab-badge.svg\" alt=\"Open In Colab\"/></a>"
      ]
    },
    {
      "cell_type": "markdown",
      "source": [
        "업앤다운 Up&Down 숫자맞추기 게임\n",
        "===\n",
        "[문제] 컴퓨터가 1~100 숫자(정수 범위) 중 하나를 랜덤으로 정합니다.(이를 알려주지 않습니다.)\n",
        "---\n",
        "#### 입력한 숫자보다 정답이 크면 → \"UP\" 출력,\n",
        "#### 입력한 숫자보다 정답이 작으면 → \"DOWN\" 출력,\n",
        "#### 정답을 맞추면 → \"정답\"을 출력하고, 지금까지 숫자를 입력한 횟수를 알려줍니다.\n",
        "### [예시]\n",
        "##### 컴퓨터가 1~100 중 랜덤 숫자 하나를 정합니다.\n",
        "##### 이 숫자를 맞춰주세요.\n",
        "##### 1~100 숫자 입력:50\n",
        "##### DOWN\n",
        "##### 1~100 숫자 입력:25\n",
        "##### UP\n",
        "##### 1~100 숫자 입력:38\n",
        "##### DOWN\n",
        "##### 1~100 숫자 입력:32\n",
        "##### UP\n",
        "##### 1~100 숫자 입력:35\n",
        "##### UP\n",
        "##### 1~100 숫자 입력:37\n",
        "##### DOWN\n",
        "##### 1~100 숫자 입력:36\n",
        "##### 정답입니다! 7회 만에 맞혔어요.\n"
      ],
      "metadata": {
        "id": "UNgrLHHI6AXK"
      }
    },
    {
      "cell_type": "code",
      "source": [
        "import random\n",
        "\n",
        "def updown_game():\n",
        "  answer = random.randint(1, 100)\n",
        "  print(\"컴퓨터가 1~100 중 랜덤 숫자 하나를 정합니다.\")\n",
        "  print(\"이 숫자를 맞춰주세요.\")\n",
        "  count = 0\n",
        "  while True:\n",
        "    count += 1\n",
        "    inNum = int(input(\"1~100 숫자 입력\"))\n",
        "    if inNum < answer:\n",
        "      print(\"UP\")\n",
        "    elif inNum > answer:\n",
        "      print(\"DOWN\")\n",
        "    else:\n",
        "      print(f\"정답입니다! {count}회 만에 맞췄어요.\")\n",
        "      break\n",
        "\n",
        "updown_game()"
      ],
      "metadata": {
        "colab": {
          "base_uri": "https://localhost:8080/"
        },
        "id": "z-wUO0y778AO",
        "outputId": "ede8869b-2f9e-4138-c139-66e13e157100"
      },
      "execution_count": 12,
      "outputs": [
        {
          "output_type": "stream",
          "name": "stdout",
          "text": [
            "컴퓨터가 1~100 중 랜덤 숫자 하나를 정합니다.\n",
            "이 숫자를 맞춰주세요.\n",
            "1~100 숫자 입력50\n",
            "DOWN\n",
            "1~100 숫자 입력25\n",
            "UP\n",
            "1~100 숫자 입력35\n",
            "UP\n",
            "1~100 숫자 입력43\n",
            "UP\n",
            "1~100 숫자 입력47\n",
            "DOWN\n",
            "1~100 숫자 입력45\n",
            "DOWN\n",
            "1~100 숫자 입력44\n",
            "정답입니다! 7회 만에 맞췄어요.\n"
          ]
        }
      ]
    },
    {
      "cell_type": "code",
      "source": [
        ""
      ],
      "metadata": {
        "id": "DztVebN-_boe"
      },
      "execution_count": null,
      "outputs": []
    }
  ]
}