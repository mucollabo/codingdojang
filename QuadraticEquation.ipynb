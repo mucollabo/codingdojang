{
  "nbformat": 4,
  "nbformat_minor": 0,
  "metadata": {
    "colab": {
      "name": "QuadraticEquation.ipynb",
      "provenance": [],
      "authorship_tag": "ABX9TyOiYGx6RfFH4IlTBrkOC8xI",
      "include_colab_link": true
    },
    "kernelspec": {
      "name": "python3",
      "display_name": "Python 3"
    },
    "language_info": {
      "name": "python"
    }
  },
  "cells": [
    {
      "cell_type": "markdown",
      "metadata": {
        "id": "view-in-github",
        "colab_type": "text"
      },
      "source": [
        "<a href=\"https://colab.research.google.com/github/mucollabo/codingdojang/blob/main/QuadraticEquation.ipynb\" target=\"_parent\"><img src=\"https://colab.research.google.com/assets/colab-badge.svg\" alt=\"Open In Colab\"/></a>"
      ]
    },
    {
      "cell_type": "markdown",
      "source": [
        "### 이차방정식\n",
        "#### [문제] A씨는 학교숙제로 이차방정식 문제를 풀어야 한다. 하지만 시간이 얼마 없다. 이 A씨를 도와주기 위한 이차방정식 풀이 프로그램을 작성해라.(단, 일차방정식은 ax^2 + bx + c = 0의 꼴에서 a, b와 c를 입력받아 해를 구하고 해를 구하기 위해 근의 공식을 사용해야 한다. 또, 해는 정수로 반올림한 값을 구하고 해가 없거나 여러개인 경우도 모두 구해야 한다.)"
      ],
      "metadata": {
        "id": "vLF9yb10KKts"
      }
    },
    {
      "cell_type": "code",
      "execution_count": 10,
      "metadata": {
        "id": "cEH1DBXODrEV"
      },
      "outputs": [],
      "source": [
        "import math\n",
        "def quadfun(a, b, c):\n",
        "  return (int((round((-b + math.sqrt(b**2 - 4*a*c))/2*a, 1))), int((round((-b - math.sqrt(b**2 - 4*a*c))/2*a, 1))))\n"
      ]
    },
    {
      "cell_type": "code",
      "source": [
        "quadfun(1, 0, 0)"
      ],
      "metadata": {
        "colab": {
          "base_uri": "https://localhost:8080/"
        },
        "id": "-_Dj2S7kHyCP",
        "outputId": "c8a9c795-71af-4ea1-c2ee-948a95509625"
      },
      "execution_count": 11,
      "outputs": [
        {
          "output_type": "execute_result",
          "data": {
            "text/plain": [
              "(0, 0)"
            ]
          },
          "metadata": {},
          "execution_count": 11
        }
      ]
    },
    {
      "cell_type": "code",
      "source": [
        "quadfun(1, 4, -21)"
      ],
      "metadata": {
        "colab": {
          "base_uri": "https://localhost:8080/"
        },
        "id": "GyArhygBH28L",
        "outputId": "885605f2-97e5-4ec0-dbdb-ef412dc2a4bb"
      },
      "execution_count": 12,
      "outputs": [
        {
          "output_type": "execute_result",
          "data": {
            "text/plain": [
              "(3, -7)"
            ]
          },
          "metadata": {},
          "execution_count": 12
        }
      ]
    }
  ]
}