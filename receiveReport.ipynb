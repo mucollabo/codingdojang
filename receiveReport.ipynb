{
  "nbformat": 4,
  "nbformat_minor": 0,
  "metadata": {
    "colab": {
      "name": "receiveReport.ipynb",
      "provenance": [],
      "authorship_tag": "ABX9TyM27FJ3lIGNziGoi38Agea4",
      "include_colab_link": true
    },
    "kernelspec": {
      "name": "python3",
      "display_name": "Python 3"
    },
    "language_info": {
      "name": "python"
    }
  },
  "cells": [
    {
      "cell_type": "markdown",
      "metadata": {
        "id": "view-in-github",
        "colab_type": "text"
      },
      "source": [
        "<a href=\"https://colab.research.google.com/github/mucollabo/codingdojang/blob/main/receiveReport.ipynb\" target=\"_parent\"><img src=\"https://colab.research.google.com/assets/colab-badge.svg\" alt=\"Open In Colab\"/></a>"
      ]
    },
    {
      "cell_type": "code",
      "execution_count": 160,
      "metadata": {
        "id": "MZnpLVKNNPNF"
      },
      "outputs": [],
      "source": [
        "def solution(id_list, report, k):\n",
        "  answer = []\n",
        "  target_list = [x.split(' ')[1] for x in set(report)]\n",
        "  num_event = {user:target_list.count(user) for user in id_list}\n",
        "  dict_idlist = dict.fromkeys(id_list, [])\n",
        "  print(dict_idlist)\n",
        "  for key, value in dict_idlist.items():\n",
        "    print(key, value)\n",
        "    for e in set(report):\n",
        "      if key == e.split(' ')[0]:\n",
        "        print(key, e.split(' ')[0], e.split(' ')[1])\n",
        "        dict_idlist[key].append(e.split(' ')[1])\n",
        "        print(dict_idlist)\n",
        "  print(dict_idlist)\n",
        "  \n",
        "  return answer\n"
      ]
    },
    {
      "cell_type": "code",
      "source": [
        "id_list = [\"muzi\", \"frodo\", \"apeach\", \"neo\"]\n",
        "report = [\"muzi frodo\",\"apeach frodo\",\"frodo neo\",\"muzi neo\",\"apeach muzi\"]\n",
        "k = 2"
      ],
      "metadata": {
        "id": "ztxDi4OqOMti"
      },
      "execution_count": 161,
      "outputs": []
    },
    {
      "cell_type": "code",
      "source": [
        "solution(id_list, report, k)"
      ],
      "metadata": {
        "colab": {
          "base_uri": "https://localhost:8080/"
        },
        "id": "QN6nHBMmOfjz",
        "outputId": "cf4a0b53-9ec4-4a81-b2a6-4f30a9dc6eaf"
      },
      "execution_count": 162,
      "outputs": [
        {
          "output_type": "stream",
          "name": "stdout",
          "text": [
            "{'muzi': [], 'frodo': [], 'apeach': [], 'neo': []}\n",
            "muzi []\n",
            "muzi muzi frodo\n",
            "{'muzi': ['frodo'], 'frodo': ['frodo'], 'apeach': ['frodo'], 'neo': ['frodo']}\n",
            "muzi muzi neo\n",
            "{'muzi': ['frodo', 'neo'], 'frodo': ['frodo', 'neo'], 'apeach': ['frodo', 'neo'], 'neo': ['frodo', 'neo']}\n",
            "frodo ['frodo', 'neo']\n",
            "frodo frodo neo\n",
            "{'muzi': ['frodo', 'neo', 'neo'], 'frodo': ['frodo', 'neo', 'neo'], 'apeach': ['frodo', 'neo', 'neo'], 'neo': ['frodo', 'neo', 'neo']}\n",
            "apeach ['frodo', 'neo', 'neo']\n",
            "apeach apeach muzi\n",
            "{'muzi': ['frodo', 'neo', 'neo', 'muzi'], 'frodo': ['frodo', 'neo', 'neo', 'muzi'], 'apeach': ['frodo', 'neo', 'neo', 'muzi'], 'neo': ['frodo', 'neo', 'neo', 'muzi']}\n",
            "apeach apeach frodo\n",
            "{'muzi': ['frodo', 'neo', 'neo', 'muzi', 'frodo'], 'frodo': ['frodo', 'neo', 'neo', 'muzi', 'frodo'], 'apeach': ['frodo', 'neo', 'neo', 'muzi', 'frodo'], 'neo': ['frodo', 'neo', 'neo', 'muzi', 'frodo']}\n",
            "neo ['frodo', 'neo', 'neo', 'muzi', 'frodo']\n",
            "{'muzi': ['frodo', 'neo', 'neo', 'muzi', 'frodo'], 'frodo': ['frodo', 'neo', 'neo', 'muzi', 'frodo'], 'apeach': ['frodo', 'neo', 'neo', 'muzi', 'frodo'], 'neo': ['frodo', 'neo', 'neo', 'muzi', 'frodo']}\n"
          ]
        },
        {
          "output_type": "execute_result",
          "data": {
            "text/plain": [
              "[]"
            ]
          },
          "metadata": {},
          "execution_count": 162
        }
      ]
    },
    {
      "cell_type": "code",
      "source": [
        "id_list2 = [\"con\", \"ryan\"]\n",
        "report2 = [\"ryan con\", \"ryan con\", \"ryan con\", \"ryan con\"]\n",
        "k2 = 3"
      ],
      "metadata": {
        "id": "WO_hg08hPfXK"
      },
      "execution_count": 135,
      "outputs": []
    },
    {
      "cell_type": "code",
      "source": [
        "solution(id_list2, report2, k2)"
      ],
      "metadata": {
        "colab": {
          "base_uri": "https://localhost:8080/"
        },
        "id": "0OIc2iVZQgPl",
        "outputId": "e78b596f-5926-46fe-f918-00be8b1a51a7"
      },
      "execution_count": 32,
      "outputs": [
        {
          "output_type": "stream",
          "name": "stdout",
          "text": [
            "['con']\n",
            "{'con': 1, 'ryan': 0}\n"
          ]
        },
        {
          "output_type": "execute_result",
          "data": {
            "text/plain": [
              "[]"
            ]
          },
          "metadata": {},
          "execution_count": 32
        }
      ]
    },
    {
      "cell_type": "code",
      "source": [
        ""
      ],
      "metadata": {
        "id": "Xm1Ezg_k4Vpd"
      },
      "execution_count": null,
      "outputs": []
    }
  ]
}