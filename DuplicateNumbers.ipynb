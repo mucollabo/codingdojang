{
  "nbformat": 4,
  "nbformat_minor": 0,
  "metadata": {
    "colab": {
      "name": "DuplicateNumbers.ipynb",
      "provenance": [],
      "authorship_tag": "ABX9TyO5B9hIHA1Qd3pk+S16tmne",
      "include_colab_link": true
    },
    "kernelspec": {
      "name": "python3",
      "display_name": "Python 3"
    },
    "language_info": {
      "name": "python"
    }
  },
  "cells": [
    {
      "cell_type": "markdown",
      "metadata": {
        "id": "view-in-github",
        "colab_type": "text"
      },
      "source": [
        "<a href=\"https://colab.research.google.com/github/mucollabo/codingdojang/blob/main/DuplicateNumbers.ipynb\" target=\"_parent\"><img src=\"https://colab.research.google.com/assets/colab-badge.svg\" alt=\"Open In Colab\"/></a>"
      ]
    },
    {
      "cell_type": "markdown",
      "metadata": {
        "id": "URELjMqfXF0e"
      },
      "source": [
        "# [문제] 0\\~9까지의 문자로 된 숫자를 입력 받았을 때, 이 입력 값이 0~9까지의 숫자가 각각 한 번 씩만 사용된 것인지 확인하는 함수를 구하시오.\n",
        "\n",
        "*   sample inputs: 0123456789 01234 01234567890 6789012345 012322456789\n",
        "*   sample outputs: true false false true false\n",
        "\n"
      ]
    },
    {
      "cell_type": "code",
      "metadata": {
        "colab": {
          "base_uri": "https://localhost:8080/"
        },
        "id": "x8QFtSg0XyRU",
        "outputId": "bc35e43f-6fdd-4096-fafe-519e338f2743"
      },
      "source": [
        "i = input('0~9까지의 숫자를 입력하시오: ')\n",
        "nlist = i.split(' ')\n",
        "\n",
        "for e in nlist:\n",
        "  s = 0\n",
        "  if '0' and '1' and '2' and '3' and '4' and '5' and '6' and '7' and '8' and '9' in e:\n",
        "    for ind_n in e:\n",
        "      s += int(ind_n)\n",
        "    if s == 45:\n",
        "      print('true', end=' ')\n",
        "    else:\n",
        "      print('false', end=' ')\n",
        "  else:\n",
        "    print('false', end=' ')"
      ],
      "execution_count": 39,
      "outputs": [
        {
          "output_type": "stream",
          "name": "stdout",
          "text": [
            "0~9까지의 숫자를 입력하시오: 1234567890 123 0987654321 1234567890987654 1234567890\n",
            "true false true false true "
          ]
        }
      ]
    }
  ]
}