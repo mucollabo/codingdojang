{
 "cells": [
  {
   "cell_type": "markdown",
   "source": [
    "Ones\n",
    "===\n",
    "출처: [programming challenges](https://uva.onlinejudge.org/)\n",
    "\n",
    "2나 5로 나눌 수 없는 0 이상 10,000 이하의 정수 n이 주어졌는데, n의 배수 중에는 10진수로 표기했을 때 모든 자리숫자가 1인 것이 있다. 그러한 n의 배수 중에서 가장 작은 것은 몇 자리 수 일까?\n",
    "\n",
    "**Sample Input**\n",
    "> 3\n",
    "> 7\n",
    "> 9901\n",
    "\n",
    "**Sample Output**\n",
    "> 3\n",
    "> 6\n",
    "> 12"
   ],
   "metadata": {
    "collapsed": false,
    "pycharm": {
     "name": "#%% md\n"
    }
   }
  },
  {
   "cell_type": "code",
   "execution_count": 66,
   "outputs": [],
   "source": [
    "def one(n):\n",
    "    if n > 0 and n < 10000 and n % 2 != 0 and n % 5 != 0:\n",
    "        i = 1\n",
    "        while True:\n",
    "            num_digits = len(str(n * i))\n",
    "            compare_num_digits = 0\n",
    "            for num_digit in range(num_digits):\n",
    "                if str(n * i)[num_digit] == '1':\n",
    "                    compare_num_digits += 1\n",
    "            i += 1\n",
    "\n",
    "            if num_digits == compare_num_digits:\n",
    "                print(num_digits)\n",
    "                break\n",
    "\n",
    "    else:\n",
    "        print(\"잘못된 입력입니다. 0부터 10000사이의 정수, 2 그리고 5로 나눠질 수 없는 정수를 입력하세요\")\n"
   ],
   "metadata": {
    "collapsed": false,
    "pycharm": {
     "name": "#%%\n"
    }
   }
  },
  {
   "cell_type": "code",
   "execution_count": 67,
   "outputs": [
    {
     "name": "stdout",
     "output_type": "stream",
     "text": [
      "3\n",
      "CPU times: user 270 µs, sys: 62 µs, total: 332 µs\n",
      "Wall time: 329 µs\n"
     ]
    }
   ],
   "source": [
    "%%time\n",
    "one(3)"
   ],
   "metadata": {
    "collapsed": false,
    "pycharm": {
     "name": "#%%\n"
    }
   }
  },
  {
   "cell_type": "code",
   "execution_count": 68,
   "outputs": [
    {
     "name": "stdout",
     "output_type": "stream",
     "text": [
      "6\n",
      "CPU times: user 27.8 ms, sys: 995 µs, total: 28.8 ms\n",
      "Wall time: 27.9 ms\n"
     ]
    }
   ],
   "source": [
    "%%time\n",
    "one(7)"
   ],
   "metadata": {
    "collapsed": false,
    "pycharm": {
     "name": "#%%\n"
    }
   }
  },
  {
   "cell_type": "code",
   "execution_count": 69,
   "outputs": [
    {
     "name": "stdout",
     "output_type": "stream",
     "text": [
      "12\n",
      "CPU times: user 36 s, sys: 18.8 ms, total: 36 s\n",
      "Wall time: 36 s\n"
     ]
    }
   ],
   "source": [
    "%%time\n",
    "one(9901)"
   ],
   "metadata": {
    "collapsed": false,
    "pycharm": {
     "name": "#%%\n"
    }
   }
  },
  {
   "cell_type": "markdown",
   "source": [
    "- 위 방법은 각각의 경우의 수를 모두 확인하는 방법으로 시간과 컴퓨팅 자원이 많이 소모된다.\n",
    "- 각 자리의 수가 1일 경우 n으로 나눠서 나머지가 0 인 경우 자리수를 반환하는 방식으로 코딩한다."
   ],
   "metadata": {
    "collapsed": false,
    "pycharm": {
     "name": "#%% md\n"
    }
   }
  },
  {
   "cell_type": "code",
   "execution_count": 58,
   "outputs": [
    {
     "name": "stdout",
     "output_type": "stream",
     "text": [
      "CPU times: user 5 µs, sys: 0 ns, total: 5 µs\n",
      "Wall time: 7.15 µs\n"
     ]
    }
   ],
   "source": [
    "def one(n):\n",
    "    if n > 0 and n < 10000 and n % 2 != 0 and n % 5 != 0:\n",
    "        ones = '1'\n",
    "        while True:\n",
    "            if int(ones) % n == 0:\n",
    "                print(len(ones))\n",
    "                break\n",
    "            else:\n",
    "                ones += '1'\n",
    "\n",
    "    else:\n",
    "        print(\"잘못된 입력입니다. 0부터 10000사이의 정수, 2 그리고 5로 나눠질 수 없는 정수를 입력하세요\")"
   ],
   "metadata": {
    "collapsed": false,
    "pycharm": {
     "name": "#%%\n"
    }
   }
  },
  {
   "cell_type": "code",
   "execution_count": 60,
   "outputs": [
    {
     "name": "stdout",
     "output_type": "stream",
     "text": [
      "3\n",
      "CPU times: user 198 µs, sys: 67 µs, total: 265 µs\n",
      "Wall time: 243 µs\n"
     ]
    }
   ],
   "source": [
    "%%time\n",
    "one(3)"
   ],
   "metadata": {
    "collapsed": false,
    "pycharm": {
     "name": "#%%\n"
    }
   }
  },
  {
   "cell_type": "code",
   "execution_count": 62,
   "outputs": [
    {
     "name": "stdout",
     "output_type": "stream",
     "text": [
      "6\n",
      "CPU times: user 185 µs, sys: 46 µs, total: 231 µs\n",
      "Wall time: 228 µs\n"
     ]
    }
   ],
   "source": [
    "%%time\n",
    "one(7)"
   ],
   "metadata": {
    "collapsed": false,
    "pycharm": {
     "name": "#%%\n"
    }
   }
  },
  {
   "cell_type": "code",
   "execution_count": 63,
   "outputs": [
    {
     "name": "stdout",
     "output_type": "stream",
     "text": [
      "12\n",
      "CPU times: user 250 µs, sys: 80 µs, total: 330 µs\n",
      "Wall time: 307 µs\n"
     ]
    }
   ],
   "source": [
    "%%time\n",
    "one(9901)"
   ],
   "metadata": {
    "collapsed": false,
    "pycharm": {
     "name": "#%%\n"
    }
   }
  },
  {
   "cell_type": "code",
   "execution_count": null,
   "outputs": [],
   "source": [],
   "metadata": {
    "collapsed": false,
    "pycharm": {
     "name": "#%%\n"
    }
   }
  }
 ],
 "metadata": {
  "kernelspec": {
   "display_name": "Python 3",
   "language": "python",
   "name": "python3"
  },
  "language_info": {
   "codemirror_mode": {
    "name": "ipython",
    "version": 2
   },
   "file_extension": ".py",
   "mimetype": "text/x-python",
   "name": "python",
   "nbconvert_exporter": "python",
   "pygments_lexer": "ipython2",
   "version": "2.7.6"
  }
 },
 "nbformat": 4,
 "nbformat_minor": 0
}