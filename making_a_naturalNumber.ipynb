{
  "nbformat": 4,
  "nbformat_minor": 0,
  "metadata": {
    "colab": {
      "name": "making_a naturalNumber.ipynb",
      "provenance": [],
      "authorship_tag": "ABX9TyM9xeYGF3XuElq4ftqSDrqi",
      "include_colab_link": true
    },
    "kernelspec": {
      "name": "python3",
      "display_name": "Python 3"
    },
    "language_info": {
      "name": "python"
    }
  },
  "cells": [
    {
      "cell_type": "markdown",
      "metadata": {
        "id": "view-in-github",
        "colab_type": "text"
      },
      "source": [
        "<a href=\"https://colab.research.google.com/github/mucollabo/codingdojang/blob/main/making_a_naturalNumber.ipynb\" target=\"_parent\"><img src=\"https://colab.research.google.com/assets/colab-badge.svg\" alt=\"Open In Colab\"/></a>"
      ]
    },
    {
      "cell_type": "code",
      "metadata": {
        "colab": {
          "base_uri": "https://localhost:8080/"
        },
        "id": "1KcmZyQVJTBu",
        "outputId": "793d99e1-d855-4032-ad0d-75a7bd23d01f"
      },
      "source": [
        "num = int(input('숫자를 입력하시오: '))\n",
        "bin = []\n",
        "\n",
        "while num > 0:\n",
        "  bin.append(num%2)\n",
        "  num = num//2\n",
        "bin.reverse()\n",
        "\n",
        "for i in bin:\n",
        "  print(i, end='')"
      ],
      "execution_count": 72,
      "outputs": [
        {
          "output_type": "stream",
          "name": "stdout",
          "text": [
            "숫자를 입력하시오: 73\n",
            "1001001"
          ]
        }
      ]
    },
    {
      "cell_type": "code",
      "metadata": {
        "id": "oGzlcL77pSub"
      },
      "source": [
        ""
      ],
      "execution_count": null,
      "outputs": []
    }
  ]
}