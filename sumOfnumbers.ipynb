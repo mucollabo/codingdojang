{
  "nbformat": 4,
  "nbformat_minor": 0,
  "metadata": {
    "colab": {
      "name": "sumOfnumbers.ipynb",
      "provenance": [],
      "authorship_tag": "ABX9TyNlniP1l/YF8jba/WR8MydC",
      "include_colab_link": true
    },
    "kernelspec": {
      "name": "python3",
      "display_name": "Python 3"
    },
    "language_info": {
      "name": "python"
    }
  },
  "cells": [
    {
      "cell_type": "markdown",
      "metadata": {
        "id": "view-in-github",
        "colab_type": "text"
      },
      "source": [
        "<a href=\"https://colab.research.google.com/github/mucollabo/codingdojang/blob/main/sumOfnumbers.ipynb\" target=\"_parent\"><img src=\"https://colab.research.google.com/assets/colab-badge.svg\" alt=\"Open In Colab\"/></a>"
      ]
    },
    {
      "cell_type": "markdown",
      "metadata": {
        "id": "gO6mVTle_mtR"
      },
      "source": [
        "# [문제] 10~1000까지 각 숫자 분해하여 곱하기의 전체 합 구하기\n",
        "### [예] 예로, 10~15까지의 각 숫자 분해하여 곱하기의 전체 합은 다음과 같다.\n",
        "#### 10 = 1 * 0 = 0\n",
        "#### 11 = 1 * 1 = 1\n",
        "#### 12 = 1 * 2 = 2\n",
        "#### 13 = 1 * 3 = 3\n",
        "#### 14 = 1 * 4 = 4\n",
        "#### 15 = 1 * 5 = 5\n",
        "### 그러므로, 이 경우의 답은 0+1+2+3+4+5 = 15\n"
      ]
    },
    {
      "cell_type": "code",
      "metadata": {
        "colab": {
          "base_uri": "https://localhost:8080/"
        },
        "id": "RaBGp8-DB16N",
        "outputId": "5ae5cd6d-15d2-45a8-9f3c-00a1ed5e310b"
      },
      "source": [
        "fn, sn = map(int, input('10~1000까지 두개의 정수를 입력하시오: ').split())\n",
        "\n",
        "totals = 0\n",
        "for en in range(fn, sn+1):\n",
        "  mulnum = 1  \n",
        "  for estrnum in str(en):\n",
        "    mulnum *= int(estrnum)\n",
        "  totals += mulnum\n",
        "\n",
        "print(f'{fn} ~ {sn} 까지의 각 숫자를 분해하여 곱한 전체의 총 합은: {totals}')"
      ],
      "execution_count": 27,
      "outputs": [
        {
          "output_type": "stream",
          "name": "stdout",
          "text": [
            "10~1000까지 두개의 정수를 입력하시오: 10 15\n",
            "10 ~ 15 까지의 각 숫자를 분해하여 곱한 전체의 총 합은: 15\n"
          ]
        }
      ]
    },
    {
      "cell_type": "code",
      "metadata": {
        "id": "9Z0V2KMkDXiG"
      },
      "source": [
        ""
      ],
      "execution_count": null,
      "outputs": []
    }
  ]
}