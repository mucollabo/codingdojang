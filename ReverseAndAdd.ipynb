{
 "cells": [
  {
   "cell_type": "markdown",
   "source": [
    "# Reverse And Add\n",
    "출처: [programming-challenges](https://uva.onlinejudge.org/)\n",
    "\n",
    "일단 어떤 수를 받아서 그 수를 뒤집은 다음 뒤집어진 수를 원래의 수에 더하는 과정을 '뒤집어서 더하기'라고 부르자. 그 합이 회문(palindrome, 앞뒤 어느 쪽에서 읽어도 같은 말이 되는 어구. 예:eye madam, 소주만병만주소)이 아니면 회문이 될 때까지 이 과정을 반복한다.\n",
    "예를 들어 처음에 195에서 시작해서 다음과 같이 네 번 뒤집어서 더하기를 반복하면 9339라는 회문이 만들어진다.\n",
    "\n",
    "> 195      786     1473        5214\n",
    ">+591     +687    +3741       +4125\n",
    "> ____     ____    _____       _____\n",
    ">786      1473    5214         9339\n",
    "\n",
    "대부분의 정수는 이 방법을 몇 단계만 반복하면 회문이 된다. 하지만 예외도 있다. 회문을 찾을 수 없는 것으로 밝하진 첫번째 수는 196이다. 하지만 회문이 없다는 것이 증명된 적은 없다.\n",
    "어떤 수가 주어졌을 때 회문이 있으면 출력하고. 그 회문을 찾기까지 뒤집어서 더하기를 반복한 횟수를 출력하는 프로그램을 만들어야 한다.\n",
    "테스트 데이터로 사용되는 수는 모두 뒤집어서 더하기를 1,000번 미만 반복해서 회문을 찾을 수 있는 수고, 그렇게 만들어진 회문을 4,294,967,295보다 크지 않다고 가정해도 된다.\n",
    "\n",
    "**Input**\n",
    "첫 번째 줄에는 테스트 케이스를 나타내는 정수 N(0<N<=100)이 들어있고, 그 아래로 N개의 줄에 걸쳐서 회문을 구해야 하는 정수가 한 줄에 하나씩 들어있다.\n",
    "\n",
    "**Output**\n",
    "N개의 각 정수에 대해 회문을 발견하는 데 필요한 최소한의 반복 횟수를 출력하고, 스페이스를 한 칸 출력한 다음, 그 회문을 출력한다.\n",
    "\n",
    "**Sample Input**\n",
    "> 3\n",
    "> 195\n",
    "> 265\n",
    "> 750\n",
    "\n",
    "**Sample Output**\n",
    "> 4  9339\n",
    "> 5 45254\n",
    "> 3 6666"
   ],
   "metadata": {
    "collapsed": false,
    "pycharm": {
     "name": "#%% md\n"
    }
   }
  },
  {
   "cell_type": "code",
   "execution_count": 34,
   "outputs": [
    {
     "name": "stdout",
     "output_type": "stream",
     "text": [
      "3 4884\n",
      "5 45254\n",
      "3 6666\n"
     ]
    }
   ],
   "source": [
    "while True:\n",
    "    n = int(input(\"input the number of the Test Case: \"))\n",
    "    if n > 0 and n <= 100:\n",
    "        nums = []\n",
    "        for k in range(n):\n",
    "            nums.append(input())\n",
    "\n",
    "        for value in nums:\n",
    "            count = 0\n",
    "            while count < 1000 and int(value) <= 4294967295:\n",
    "                if str(value)[::-1] != str(value):\n",
    "                    value = int(value) + int(str(value)[::-1])\n",
    "                    count += 1\n",
    "                else:\n",
    "                    print(count, value)\n",
    "                    break\n",
    "        break\n",
    "    else:\n",
    "        print(\"You wrote wrong number, you need to write the integer 0 < n <= 100\")"
   ],
   "metadata": {
    "collapsed": false,
    "pycharm": {
     "name": "#%%\n"
    }
   }
  },
  {
   "cell_type": "code",
   "execution_count": null,
   "outputs": [],
   "source": [],
   "metadata": {
    "collapsed": false,
    "pycharm": {
     "name": "#%%\n"
    }
   }
  }
 ],
 "metadata": {
  "kernelspec": {
   "display_name": "Python 3",
   "language": "python",
   "name": "python3"
  },
  "language_info": {
   "codemirror_mode": {
    "name": "ipython",
    "version": 2
   },
   "file_extension": ".py",
   "mimetype": "text/x-python",
   "name": "python",
   "nbconvert_exporter": "python",
   "pygments_lexer": "ipython2",
   "version": "2.7.6"
  }
 },
 "nbformat": 4,
 "nbformat_minor": 0
}