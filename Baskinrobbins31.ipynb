{
  "nbformat": 4,
  "nbformat_minor": 0,
  "metadata": {
    "colab": {
      "name": "Baskinrobbins31.ipynb",
      "provenance": [],
      "authorship_tag": "ABX9TyMIOaAorWb8TVuWWEM6l+9h",
      "include_colab_link": true
    },
    "kernelspec": {
      "name": "python3",
      "display_name": "Python 3"
    },
    "language_info": {
      "name": "python"
    }
  },
  "cells": [
    {
      "cell_type": "markdown",
      "metadata": {
        "id": "view-in-github",
        "colab_type": "text"
      },
      "source": [
        "<a href=\"https://colab.research.google.com/github/mucollabo/codingdojang/blob/main/Baskinrobbins31.ipynb\" target=\"_parent\"><img src=\"https://colab.research.google.com/assets/colab-badge.svg\" alt=\"Open In Colab\"/></a>"
      ]
    },
    {
      "cell_type": "markdown",
      "source": [
        "배스킨라빈스31게임\n",
        "===\n",
        "[문제]\n",
        "\n",
        "게임의 참여자들은 차례를 정해 1부터 31까지의 수를 순차적으로 부른다. 한번에 1~3개까지 수를 연달아 부를 수 있으며, 마지막 31을 부른 사람이 진다.\n",
        "* 컴퓨터가 무조건 먼저 시작하고, 1p는 무조건 2번째로 말한다.\n",
        "* 컴퓨터가 무조거 이기게 만들어라.\n",
        "* 1부터 시작하고, 한번에 3개까지 부를 수 있다.\n",
        "\n",
        "[힌트]\n",
        "* 4n-2라는 공식을 사용하면 된다.\n",
        "* 31을 부르면 지는 게임으로 30을 부르면 이긴다."
      ],
      "metadata": {
        "id": "cxDxgugOGuMp"
      }
    },
    {
      "cell_type": "code",
      "source": [
        "import random\n",
        "\n",
        "def game():\n",
        "    x=0\n",
        "\n",
        "    while True:\n",
        "        if x>26:\n",
        "            computer = [x+i for i in range(1,31-x)]\n",
        "        else :\n",
        "            computer = [x+i for i in range(1,random.randint(2,4))]\n",
        "        print('computer : {}'.format(computer))\n",
        "        x = computer[-1]\n",
        "        if x==31:\n",
        "            print(\"당신이 이겼습니다.\")\n",
        "            break\n",
        "        count = int(input(\"몇 개의 숫자를 입력하시겠습니까?: \"))\n",
        "        user = [x+j for j in range(1,count+1)]\n",
        "        print('user : {}'.format(user),end=\"\\n\")\n",
        "        x=user[-1]\n",
        "        if x>=31:\n",
        "            print(\"당신이 졌습니다.\")\n",
        "            break\n",
        "\n",
        "game()"
      ],
      "metadata": {
        "colab": {
          "base_uri": "https://localhost:8080/"
        },
        "id": "uYrLl6ezEzgx",
        "outputId": "a33ee0c2-c6c9-4c2a-d1af-774ef5f5cb99"
      },
      "execution_count": null,
      "outputs": [
        {
          "output_type": "stream",
          "name": "stdout",
          "text": [
            "computer : [1, 2]\n",
            "몇 개의 숫자를 입력하시겠습니까?: 2\n",
            "user : [3, 4]\n",
            "computer : [5, 6, 7]\n",
            "몇 개의 숫자를 입력하시겠습니까?: 1\n",
            "user : [8]\n",
            "computer : [9, 10, 11]\n",
            "몇 개의 숫자를 입력하시겠습니까?: 3\n",
            "user : [12, 13, 14]\n",
            "computer : [15]\n",
            "몇 개의 숫자를 입력하시겠습니까?: 2\n",
            "user : [16, 17]\n",
            "computer : [18, 19]\n",
            "몇 개의 숫자를 입력하시겠습니까?: 3\n",
            "user : [20, 21, 22]\n",
            "computer : [23]\n",
            "몇 개의 숫자를 입력하시겠습니까?: 3\n",
            "user : [24, 25, 26]\n",
            "computer : [27]\n",
            "몇 개의 숫자를 입력하시겠습니까?: 2\n",
            "user : [28, 29]\n",
            "computer : [30]\n",
            "몇 개의 숫자를 입력하시겠습니까?: 1\n",
            "user : [31]\n",
            "당신이 졌습니다.\n"
          ]
        }
      ]
    },
    {
      "cell_type": "code",
      "source": [
        ""
      ],
      "metadata": {
        "id": "OTe_T2YyGMRa"
      },
      "execution_count": null,
      "outputs": []
    }
  ]
}