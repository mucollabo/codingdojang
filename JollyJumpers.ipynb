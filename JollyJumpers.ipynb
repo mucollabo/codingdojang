{
 "cells": [
  {
   "cell_type": "markdown",
   "source": [
    "Jolly Jumpers\n",
    "===\n",
    "출처 : [programming-challenges.com]\n",
    "\n",
    "[문제] n개의 정수(n>0)로 이루 어진 수열에 대해 서로 인접해 있는 두 수의 차가 1에서 n-1까지의 값을 모두 가지면 그 수열을 유쾌한 점퍼(jolly jumper)라고 부른다. 예를 들어 다음과 같은 수열에서\n",
    "> 1 4 2 3\n",
    "\n",
    "앞 뒤에 있는 숫자 차의 절대 값이 각각 3, 2, 1 이므로 이 수열은 유쾌한 점퍼가 된다. 어떤 수열이 유쾌한 점퍼인지 판단 할 수 있는 프로그램을 작성하라.\n",
    "\n",
    "**Input**\n",
    "\n",
    "각 줄 맨 앞에는 3000 이하의 정수가 있으며 그 뒤에는 수열 나타내는 n개의 정수가 입력된다. 맨 앞 숫자가 0이면 출력하고 종료한다.\n",
    "\n",
    "**output**\n",
    "\n",
    "입력된 각 줄에 대해 \"Jolly\" 또는 \"Not Jolly\"를 한 줄씩 출력한다.\n",
    "\n",
    "**sample Input**\n",
    "\n",
    "> 4 1 4 2 3\n",
    "> 5 1 4 2 -1 6\n",
    "\n",
    "※ 주의: 각 줄의 맨 앞의 숫자는 수열의 갯수이다. 첫번째 입력인 4 1 4 2 3 의 맨 앞의 4는 뒤에 4개의 숫자가 온다는 것을 의미함\n",
    "\n",
    "**sample Output**\n",
    "\n",
    "> Jolly\n",
    "> Not jolly\n",
    "\n"
   ],
   "metadata": {
    "collapsed": false,
    "pycharm": {
     "name": "#%% md\n"
    }
   }
  },
  {
   "cell_type": "code",
   "execution_count": 31,
   "outputs": [],
   "source": [
    "def jollyJumpers():\n",
    "    nlist = list(map(int, input(\"jolly jumper 를 찾기 위한 n개의 정수를 입력 하시오\").split()))\n",
    "    abslist = []\n",
    "    if nlist[0] <= 3000 and nlist[0] > 1:\n",
    "        for i in range(1, nlist[0]):\n",
    "            abslist.append(abs(nlist[i] - nlist[i+1]))\n",
    "\n",
    "    abslist.sort(reverse=True)\n",
    "    n = nlist[0] - 1\n",
    "\n",
    "    for j in abslist:\n",
    "        if n == j:\n",
    "            n -= 1\n",
    "        else:\n",
    "            return 'Not jolly'\n",
    "    return 'Jolly'"
   ],
   "metadata": {
    "collapsed": false,
    "pycharm": {
     "name": "#%%\n"
    }
   }
  },
  {
   "cell_type": "code",
   "execution_count": 32,
   "outputs": [
    {
     "data": {
      "text/plain": "'Jolly'"
     },
     "execution_count": 32,
     "metadata": {},
     "output_type": "execute_result"
    }
   ],
   "source": [
    "jollyJumpers()    # 4 1 4 2 3"
   ],
   "metadata": {
    "collapsed": false,
    "pycharm": {
     "name": "#%%\n"
    }
   }
  },
  {
   "cell_type": "code",
   "execution_count": 33,
   "outputs": [
    {
     "data": {
      "text/plain": "'Not jolly'"
     },
     "execution_count": 33,
     "metadata": {},
     "output_type": "execute_result"
    }
   ],
   "source": [
    "jollyJumpers()    # 5 1 4 2 -1 6"
   ],
   "metadata": {
    "collapsed": false,
    "pycharm": {
     "name": "#%%\n"
    }
   }
  },
  {
   "cell_type": "code",
   "execution_count": null,
   "outputs": [],
   "source": [],
   "metadata": {
    "collapsed": false,
    "pycharm": {
     "name": "#%%\n"
    }
   }
  }
 ],
 "metadata": {
  "kernelspec": {
   "display_name": "Python 3",
   "language": "python",
   "name": "python3"
  },
  "language_info": {
   "codemirror_mode": {
    "name": "ipython",
    "version": 2
   },
   "file_extension": ".py",
   "mimetype": "text/x-python",
   "name": "python",
   "nbconvert_exporter": "python",
   "pygments_lexer": "ipython2",
   "version": "2.7.6"
  }
 },
 "nbformat": 4,
 "nbformat_minor": 0
}