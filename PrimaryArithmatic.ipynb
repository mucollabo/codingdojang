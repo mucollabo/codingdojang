{
 "cells": [
  {
   "cell_type": "markdown",
   "metadata": {
    "collapsed": true,
    "pycharm": {
     "name": "#%% md\n"
    }
   },
   "source": [
    "Primary Arithmatic\n",
    "===\n",
    "첫 번째 계산\n",
    "---\n",
    "### [문제] 아이들은 여러 자리 숫자들을 더하기 위해서 우에서 좌로 숫자를 하나씩 차례대로 더 하라고 배웠다. 1을 한 숫자 위치에서 다음 자리로 더하기 위해 이동하는 \"한자리올림\"연산을 많이 발견하는 것은 중요한 도전이 된다. 당신의 일은 교육자가 그들의 어려움을 평가하기 위하여, 덧셈 문제들의 각 집합에 대해서 한자리올림 연산들의 수를 계산하는 것이다.\n",
    "\n",
    "입력\n",
    "---\n",
    "### 입력의 각 라인은 10개의 숫자들보다 미만인 양의 정수들 두 개를 포함한다. 입력의 마지막 라인은 0 0 을 포함한다.\n",
    "\n",
    "출력\n",
    "---\n",
    "### 마지막을 제외한 입력의 각 라인에 대해서 당신은 두 숫자들을 더한 결과에서 한자리올림 연산들의 수를 아래처럼 보여지는 형식으로 계산하여 출력해야 한다.\n",
    "\n",
    "#### [입력 샘플]\n",
    "#### 123 456\n",
    "#### 555 555\n",
    "#### 123 594\n",
    "#### 0 0\n",
    "\n",
    "#### [출력 샘플]\n",
    "#### No carry operation.\n",
    "#### 3 carry operation.\n",
    "#### 1 carry operation.\n"
   ]
  },
  {
   "cell_type": "code",
   "execution_count": 62,
   "outputs": [],
   "source": [
    "def primaryArithmatic():\n",
    "    print(\"각 라인당 양의 정수를 두개씩 입력하되, 마지막 라인은 0 0을 입력한다.\")\n",
    "    # 입력할 변수들의 빈리스트\n",
    "    firstNum = []\n",
    "    secondNum = []\n",
    "    while True:\n",
    "        # 각각 양의 정수 입력\n",
    "        a, b = input().split()\n",
    "        # 0 0 입력 될 경우 입력 종료\n",
    "        if int(a) == 0 and int(b) == 0:\n",
    "            break\n",
    "        else:\n",
    "            # 입력된 값을 추가하여 리스트화\n",
    "            firstNum.append(a)\n",
    "            secondNum.append(b)\n",
    "\n",
    "    # 각 리스트에서 요소를 추출\n",
    "    for numA, numB in zip(firstNum, secondNum):\n",
    "        count = 0       # 한자리 올림 수 초기화\n",
    "        over = 0        # 올림이 있을 경우 다음 자리수에 합산 할 값 초기화\n",
    "        # 요소를 뒤집어서 뒷자리부터 추출\n",
    "        for digitA, digitB in zip(numA[::-1], numB[::-1]):\n",
    "            # 각 자리 숫자의 합산과 올림 수 합산이 10을 넘을 경우 올림 수(count) 증가, 다음 자리 수 합산 값(over)에 1 저장\n",
    "            if ((int(digitA) + over) + int(digitB)) >= 10:\n",
    "                count += 1\n",
    "                over = 1\n",
    "        # 올림 수가 없는 경우 'No' 저장\n",
    "        if count == 0:\n",
    "            count = 'No'\n",
    "        print(f\"{count} carry operation\")\n"
   ],
   "metadata": {
    "collapsed": false,
    "pycharm": {
     "name": "#%%\n"
    }
   }
  },
  {
   "cell_type": "code",
   "execution_count": 63,
   "outputs": [
    {
     "name": "stdout",
     "output_type": "stream",
     "text": [
      "각 라인당 양의 정수를 두개씩 입력하되, 마지막 라인은 0 0을 입력한다.\n",
      "No carry operation\n",
      "3 carry operation\n",
      "1 carry operation\n",
      "2 carry operation\n",
      "1 carry operation\n",
      "2 carry operation\n",
      "1 carry operation\n"
     ]
    }
   ],
   "source": [
    "primaryArithmatic()\n"
   ],
   "metadata": {
    "collapsed": false,
    "pycharm": {
     "name": "#%%\n"
    }
   }
  },
  {
   "cell_type": "code",
   "execution_count": null,
   "outputs": [],
   "source": [],
   "metadata": {
    "collapsed": false,
    "pycharm": {
     "name": "#%%\n"
    }
   }
  }
 ],
 "metadata": {
  "kernelspec": {
   "display_name": "Python 3",
   "language": "python",
   "name": "python3"
  },
  "language_info": {
   "codemirror_mode": {
    "name": "ipython",
    "version": 2
   },
   "file_extension": ".py",
   "mimetype": "text/x-python",
   "name": "python",
   "nbconvert_exporter": "python",
   "pygments_lexer": "ipython2",
   "version": "2.7.6"
  }
 },
 "nbformat": 4,
 "nbformat_minor": 0
}