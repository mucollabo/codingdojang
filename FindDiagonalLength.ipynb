{
  "nbformat": 4,
  "nbformat_minor": 0,
  "metadata": {
    "colab": {
      "name": "FindDiagonalLength.ipynb",
      "provenance": [],
      "authorship_tag": "ABX9TyOFyg4BBj1txZklXBL60BzS",
      "include_colab_link": true
    },
    "kernelspec": {
      "name": "python3",
      "display_name": "Python 3"
    },
    "language_info": {
      "name": "python"
    }
  },
  "cells": [
    {
      "cell_type": "markdown",
      "metadata": {
        "id": "view-in-github",
        "colab_type": "text"
      },
      "source": [
        "<a href=\"https://colab.research.google.com/github/mucollabo/codingdojang/blob/main/FindDiagonalLength.ipynb\" target=\"_parent\"><img src=\"https://colab.research.google.com/assets/colab-badge.svg\" alt=\"Open In Colab\"/></a>"
      ]
    },
    {
      "cell_type": "markdown",
      "source": [
        "대각선 길이 구하기\n",
        "===\n",
        "[문제] 직각삼각형의 밑변이 x, 높이가 y일 때 남은 변(대각선)의 길이를 구하는 함수를 만들어주세요.\n",
        "---"
      ],
      "metadata": {
        "id": "4lY6CRy2QPIQ"
      }
    },
    {
      "cell_type": "code",
      "source": [
        "import math\n",
        "\n",
        "def findDiagonal(x, y):\n",
        "  return math.sqrt(x**2 + y**2)\n",
        "  "
      ],
      "metadata": {
        "id": "gn4bvbc-TJqj"
      },
      "execution_count": 1,
      "outputs": []
    },
    {
      "cell_type": "code",
      "source": [
        "findDiagonal(3, 4)"
      ],
      "metadata": {
        "colab": {
          "base_uri": "https://localhost:8080/"
        },
        "id": "Wzy64WOBUnst",
        "outputId": "1d05d2f0-34a7-4cb6-d92b-6d484336cdcc"
      },
      "execution_count": 5,
      "outputs": [
        {
          "output_type": "execute_result",
          "data": {
            "text/plain": [
              "5.0"
            ]
          },
          "metadata": {},
          "execution_count": 5
        }
      ]
    },
    {
      "cell_type": "code",
      "source": [
        ""
      ],
      "metadata": {
        "id": "IUIHmIncUroO"
      },
      "execution_count": null,
      "outputs": []
    }
  ]
}