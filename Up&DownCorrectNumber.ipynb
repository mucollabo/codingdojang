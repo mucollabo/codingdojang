{
  "nbformat": 4,
  "nbformat_minor": 0,
  "metadata": {
    "colab": {
      "name": "Up&DownCorrectNumber.ipynb",
      "provenance": [],
      "authorship_tag": "ABX9TyMEmXqr2l04aX9Z9UWveP6q",
      "include_colab_link": true
    },
    "kernelspec": {
      "name": "python3",
      "display_name": "Python 3"
    },
    "language_info": {
      "name": "python"
    }
  },
  "cells": [
    {
      "cell_type": "markdown",
      "metadata": {
        "id": "view-in-github",
        "colab_type": "text"
      },
      "source": [
        "<a href=\"https://colab.research.google.com/github/mucollabo/codingdojang/blob/main/Up%26DownCorrectNumber.ipynb\" target=\"_parent\"><img src=\"https://colab.research.google.com/assets/colab-badge.svg\" alt=\"Open In Colab\"/></a>"
      ]
    },
    {
      "cell_type": "markdown",
      "metadata": {
        "id": "FZSxfVPBvMVs"
      },
      "source": [
        "# **-업앤다운 UP&Down 숫자맞추기 게임-**\n",
        "\n",
        "컴퓨터가 1~100 숫자(정수 범위) 중 하나를 랜덤으로 정합니다. (이를 알려주지 않습니다.)\n",
        "\n",
        "사용자는 이 숫자를 맞추어야 합니다.\n",
        "\n",
        "입력한 숫자보다 정답이 크면 → \"UP\" 출력,\n",
        "\n",
        "입력한 숫자보다 정답이 작으면 → \"DOWN\" 출력.\n",
        "\n",
        "정답을 맞추면 → \"정답\"을 출력하고, 지금까지 숫자를 입력한 횟수를 알려줍니다.\n",
        "\n",
        "코딩 초보자라도 if 함수와 while함수, 랜덤 모듈 정도까지만 배워도 재미있게 풀 수 있는 문제입니다.\n"
      ]
    },
    {
      "cell_type": "markdown",
      "metadata": {
        "id": "5q-KN7HAv7Em"
      },
      "source": [
        "(예시)\n",
        "\n",
        "컴퓨터가 1~100 중 랜덤 숫자 하나를 정합니다.\n",
        "\n",
        "이 숫자를 맞춰주세요.\n",
        "\n",
        "1~100 숫자 입력:50\n",
        "\n",
        "DOWN\n",
        "\n",
        "1~100 숫자 입력:25\n",
        "\n",
        "UP\n",
        "\n",
        "1~100 숫자 입력:38\n",
        "\n",
        "DOWN\n",
        "\n",
        "1~100 숫자 입력:32\n",
        "\n",
        "UP\n",
        "\n",
        "1~100 숫자 입력:35\n",
        "\n",
        "UP\n",
        "\n",
        "1~100 숫자 입력:37\n",
        "\n",
        "DOWN\n",
        "\n",
        "1~100 숫자 입력:36\n",
        "\n",
        "정답입니다! 7회 만에 맞췄어요."
      ]
    },
    {
      "cell_type": "code",
      "metadata": {
        "colab": {
          "base_uri": "https://localhost:8080/"
        },
        "id": "qDq4Q278yVjh",
        "outputId": "c59dbf5a-d30b-4ac3-9eaf-1290dc1e3325"
      },
      "source": [
        "import random\n",
        "\n",
        "corNum = random.randrange(1, 101)\n",
        "\n",
        "inpNo = 0\n",
        "\n",
        "while True:\n",
        "  inNum = int(input('1~100 숫자(정수 범위)를 입력하세요: '))\n",
        "\n",
        "  inpNo += 1\n",
        "\n",
        "  if inNum < corNum:\n",
        "    print('UP')\n",
        "  \n",
        "  elif inNum > corNum:\n",
        "    print('DOWN')\n",
        "\n",
        "  else:\n",
        "    print('정답입니다! {}회 만에 맞췄어요.'.format(inpNo))\n",
        "    break\n"
      ],
      "execution_count": 9,
      "outputs": [
        {
          "output_type": "stream",
          "text": [
            "1~100 숫자(정수 범위)를 입력하세요: 50\n",
            "DOWN\n",
            "1~100 숫자(정수 범위)를 입력하세요: 30\n",
            "UP\n",
            "1~100 숫자(정수 범위)를 입력하세요: 40\n",
            "UP\n",
            "1~100 숫자(정수 범위)를 입력하세요: 45\n",
            "UP\n",
            "1~100 숫자(정수 범위)를 입력하세요: 48\n",
            "DOWN\n",
            "1~100 숫자(정수 범위)를 입력하세요: 47\n",
            "DOWN\n",
            "1~100 숫자(정수 범위)를 입력하세요: 46\n",
            "정답입니다! 7회 만에 맞췄어요.\n"
          ],
          "name": "stdout"
        }
      ]
    },
    {
      "cell_type": "code",
      "metadata": {
        "id": "nvzMseLdz9ca"
      },
      "source": [
        ""
      ],
      "execution_count": null,
      "outputs": []
    }
  ]
}