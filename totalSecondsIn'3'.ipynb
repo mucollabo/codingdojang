{
  "nbformat": 4,
  "nbformat_minor": 0,
  "metadata": {
    "colab": {
      "name": "totalSecondsIn'3'.ipynb",
      "provenance": [],
      "authorship_tag": "ABX9TyP6QcOB+RUVE3VW6gT3ylNV",
      "include_colab_link": true
    },
    "kernelspec": {
      "name": "python3",
      "display_name": "Python 3"
    },
    "language_info": {
      "name": "python"
    }
  },
  "cells": [
    {
      "cell_type": "markdown",
      "metadata": {
        "id": "view-in-github",
        "colab_type": "text"
      },
      "source": [
        "<a href=\"https://colab.research.google.com/github/mucollabo/codingdojang/blob/main/totalSecondsIn'3'.ipynb\" target=\"_parent\"><img src=\"https://colab.research.google.com/assets/colab-badge.svg\" alt=\"Open In Colab\"/></a>"
      ]
    },
    {
      "cell_type": "markdown",
      "metadata": {
        "id": "rqVPXM9gBs4t"
      },
      "source": [
        "# [문제] 3이 나타나는 시간을 전부 합하면?\n",
        "\n",
        "### 디지털 시계에 하루동안(00:00~23:59) 3이 표시되는 시간을 초로 환산하면 총 몇 초(second) 일까요?\n",
        "\n",
        "### 디지털 시계는 하루동안 다음과 같이 시:분(00:00~23:59)으로 표시됩니다.\n",
        "\n",
        "#### [예]\n",
        "#### 00:00 (60초간 표시됨)\n",
        "#### 00:01\n",
        "#### 00:02\n",
        "#### ...\n",
        "#### 23:59"
      ]
    },
    {
      "cell_type": "code",
      "metadata": {
        "colab": {
          "base_uri": "https://localhost:8080/"
        },
        "id": "fJtcwOsXfJnx",
        "outputId": "b24f1772-93b0-455e-f51a-1177f15b0839"
      },
      "source": [
        "def clock(num):\n",
        "    sec = 0\n",
        "    for h in range(24):\n",
        "        for m in range(60):\n",
        "            if str(num) in str(h) + str(m): # 문자열로 변환한 시간에 해당 숫자가 들어있으면\n",
        "                sec += 60\n",
        "    return sec\n",
        "\n",
        "print(clock(3))"
      ],
      "execution_count": 26,
      "outputs": [
        {
          "output_type": "stream",
          "name": "stdout",
          "text": [
            "29700\n"
          ]
        }
      ]
    }
  ]
}