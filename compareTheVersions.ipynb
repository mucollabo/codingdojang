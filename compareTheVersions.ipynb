{
  "nbformat": 4,
  "nbformat_minor": 0,
  "metadata": {
    "colab": {
      "name": "compareTheVersions.ipynb",
      "provenance": [],
      "authorship_tag": "ABX9TyNiEPLi7NBaouWNeHi6NAuK",
      "include_colab_link": true
    },
    "kernelspec": {
      "name": "python3",
      "display_name": "Python 3"
    },
    "language_info": {
      "name": "python"
    }
  },
  "cells": [
    {
      "cell_type": "markdown",
      "metadata": {
        "id": "view-in-github",
        "colab_type": "text"
      },
      "source": [
        "<a href=\"https://colab.research.google.com/github/mucollabo/codingdojang/blob/main/compareTheVersions.ipynb\" target=\"_parent\"><img src=\"https://colab.research.google.com/assets/colab-badge.svg\" alt=\"Open In Colab\"/></a>"
      ]
    },
    {
      "cell_type": "markdown",
      "metadata": {
        "id": "rnhrKZm4mn_H"
      },
      "source": [
        "# 버젼비교\n",
        "## [문제] A씨는 두 개의 버전을 비교하는 프로그램을 작성해야 한다.\n",
        "## 버전은 다음처럼 \".\" 으로 구분된 문자열이다.\n",
        "### 버전 예) 1.0.0, 1.0.23, 1.1\n",
        "## 두 개의 버전을 비교하는 프로그램을 작성하시오.\n",
        "## 다음은 버전 비교의 예이다.\n",
        "### 0.0.2 > 0.0.1\n",
        "### 1.0.10 > 1.0.3\n",
        "### 1.2.0 > 1.1.99\n",
        "### 1.1 > 1.0.1\n"
      ]
    },
    {
      "cell_type": "code",
      "metadata": {
        "colab": {
          "base_uri": "https://localhost:8080/"
        },
        "id": "gTQsE0k0nnYs",
        "outputId": "0fbab103-42c7-476c-b202-20d4a1567bb3"
      },
      "source": [
        "ff, fs, ft = map(int, input('첫번째 버전을 입력하시오 (예) *.*.*) : ').split('.'))\n",
        "sf, ss, st = map(int, input('두번째 버전을 입력하시오 (예) *.*.*) : ').split('.'))\n",
        "\n",
        "# print(ff, fs, ft)\n",
        "# print(sf, ss, st)\n",
        "\n",
        "if ff < sf:\n",
        "  print(f'{ff}.{fs}.{ft} < {sf}.{ss}.{st}')\n",
        "elif ff == sf:\n",
        "  if fs < ss:\n",
        "    print(f'{ff}.{fs}.{ft} < {sf}.{ss}.{st}')\n",
        "  elif fs == ss:\n",
        "    if ft < st:\n",
        "      print(f'{ff}.{fs}.{ft} < {sf}.{ss}.{st}')\n",
        "    elif ft == st:\n",
        "      print(f'{ff}.{fs}.{ft} = {sf}.{ss}.{st}')\n",
        "    else:\n",
        "      print(f'{ff}.{fs}.{ft} > {sf}.{ss}.{st}')\n",
        "  else:\n",
        "    print(f'{ff}.{fs}.{ft} > {sf}.{ss}.{st}')\n",
        "else:\n",
        "  print(f'{ff}.{fs}.{ft} > {sf}.{ss}.{st}')"
      ],
      "execution_count": 19,
      "outputs": [
        {
          "output_type": "stream",
          "name": "stdout",
          "text": [
            "첫번째 버전을 입력하시오 (예) *.*.*) : 3.2.1\n",
            "두번째 버전을 입력하시오 (예) *.*.*) : 3.2.0\n",
            "3.2.1 > 3.2.0\n"
          ]
        }
      ]
    },
    {
      "cell_type": "code",
      "metadata": {
        "id": "qDht4BGyoKEp"
      },
      "source": [
        ""
      ],
      "execution_count": null,
      "outputs": []
    }
  ]
}