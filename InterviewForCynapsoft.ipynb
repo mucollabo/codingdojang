{
  "nbformat": 4,
  "nbformat_minor": 0,
  "metadata": {
    "colab": {
      "name": "InterviewForCynapsoft.ipynb",
      "provenance": [],
      "authorship_tag": "ABX9TyOtN4cF3hmLuH/vEukMIPXn",
      "include_colab_link": true
    },
    "kernelspec": {
      "name": "python3",
      "display_name": "Python 3"
    },
    "language_info": {
      "name": "python"
    }
  },
  "cells": [
    {
      "cell_type": "markdown",
      "metadata": {
        "id": "view-in-github",
        "colab_type": "text"
      },
      "source": [
        "<a href=\"https://colab.research.google.com/github/mucollabo/codingdojang/blob/main/InterviewForCynapsoft.ipynb\" target=\"_parent\"><img src=\"https://colab.research.google.com/assets/colab-badge.svg\" alt=\"Open In Colab\"/></a>"
      ]
    },
    {
      "cell_type": "markdown",
      "metadata": {
        "id": "w9fnIqegsflL"
      },
      "source": [
        "출처 : http://okjsp.net/bbs?seq=92230\n",
        "\n",
        "주어진 문자열(공백 없이 쉼표로 구분되어 있음)을 가지고 아래 문제에 대한 프로그램을 작성하세요.\n",
        "\n",
        "이유덕,이재영,권종표,이재영,박민호,강상희,이재영,김지완,최승혁,이성연,박영서,박민호,전경헌,송정환,김재성,이유덕,전경헌\n",
        "\n",
        "1. 김씨와 이씨는 각각 몇 명 인가요?\n",
        "2. \"이재영\"이란 이름이 몇 번 반복되나요?\n",
        "3. 중복을 제거한 이름을 출력하세요.\n",
        "4. 중복을 제거한 이름을 오름차순으로 정렬하여 출력하세요.\n"
      ]
    },
    {
      "cell_type": "code",
      "metadata": {
        "colab": {
          "base_uri": "https://localhost:8080/"
        },
        "id": "J1U4Oxx_s9AR",
        "outputId": "276486dd-c2e3-4c9e-b93d-d55854384aa7"
      },
      "source": [
        "law_t = '이유덕,이재영,권종표,이재영,박민호,강상희,이재영,김지완,최승혁,이성연,박영서,박민호,전경헌,송정환,김재성,이유덕,전경헌'\n",
        "\n",
        "list_t = law_t.split(',')\n",
        "\n",
        "kcount, lcount, ljycount = 0, 0, 0\n",
        "\n",
        "for name in list_t:\n",
        "  if name[0] == '김':\n",
        "    kcount += 1\n",
        "\n",
        "  elif name[0] == '이':\n",
        "    lcount += 1\n",
        "    if name == '이재영':\n",
        "      ljycount += 1\n",
        "\n",
        "print(\"김씨: {}명 이씨: {}명 '이재영': {}번 반복\".format(kcount, lcount, ljycount))\n",
        "print(sorted(set(list_t)))\n"
      ],
      "execution_count": 19,
      "outputs": [
        {
          "output_type": "stream",
          "text": [
            "김씨: 2명 이씨: 6명 '이재영': 3번 반복\n",
            "['강상희', '권종표', '김재성', '김지완', '박민호', '박영서', '송정환', '이성연', '이유덕', '이재영', '전경헌', '최승혁']\n"
          ],
          "name": "stdout"
        }
      ]
    }
  ]
}