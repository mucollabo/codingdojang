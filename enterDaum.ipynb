{
 "cells": [
  {
   "cell_type": "markdown",
   "metadata": {
    "collapsed": true,
    "pycharm": {
     "name": "#%% md\n"
    }
   },
   "source": [
    "다음 입사문제 중에서\n",
    "===\n",
    "[문제] 1차원의 점들이 주어졌을 때, 그 중 가장 거리가 짧은 것의 쌍을 출력하는 함수를 작성하시오. (담 점들의 배열은 모두 정렬되어있다고 가정한다.)\n",
    "---\n",
    "### [예] 예를들어, S = {1, 3, 4, 8, 13, 17, 20} 이 주어졌다면, 결과값은 (3, 4)가 될 것이다."
   ],
   "outputs": []
  },
  {
   "cell_type": "code",
   "execution_count": 85,
   "outputs": [],
   "source": [
    "def findShortest():\n",
    "    S = list(map(int, input('점들의 값을 입력하시오:').split()))\n",
    "    absDic = {}         # 빈 딕셔너리\n",
    "    # 각 점들과의 거리(절대값:abs())를 딕셔너리로 저장\n",
    "    for point1 in S:\n",
    "        for point2 in S:\n",
    "            # 키값이 서로 같지 않고, 뒤집어도 같은 키가 없는 경우 저장\n",
    "            if point1 != point2 and (point2, point1) not in absDic:\n",
    "                absSub = abs(point1 - point2)\n",
    "                absDic[(point1, point2)] = absSub\n",
    "    # 값 중에서 가장 작은 값인 경우 키 출력\n",
    "    for key, value in absDic.items():\n",
    "        if value == min(absDic.values()):\n",
    "            print(key)\n"
   ],
   "metadata": {
    "collapsed": false,
    "pycharm": {
     "name": "#%%\n"
    }
   }
  },
  {
   "cell_type": "code",
   "execution_count": 86,
   "outputs": [
    {
     "name": "stdout",
     "output_type": "stream",
     "text": [
      "(3, 4)\n"
     ]
    }
   ],
   "source": [
    "findShortest()"
   ],
   "metadata": {
    "collapsed": false,
    "pycharm": {
     "name": "#%%\n"
    }
   }
  },
  {
   "cell_type": "code",
   "execution_count": null,
   "outputs": [],
   "source": [],
   "metadata": {
    "collapsed": false,
    "pycharm": {
     "name": "#%%\n"
    }
   }
  }
 ],
 "metadata": {
  "kernelspec": {
   "display_name": "Python 3",
   "language": "python",
   "name": "python3"
  },
  "language_info": {
   "codemirror_mode": {
    "name": "ipython",
    "version": 2
   },
   "file_extension": ".py",
   "mimetype": "text/x-python",
   "name": "python",
   "nbconvert_exporter": "python",
   "pygments_lexer": "ipython2",
   "version": "2.7.6"
  }
 },
 "nbformat": 4,
 "nbformat_minor": 0
}