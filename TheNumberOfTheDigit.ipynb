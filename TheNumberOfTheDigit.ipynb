{
  "nbformat": 4,
  "nbformat_minor": 0,
  "metadata": {
    "colab": {
      "name": "TheNumberOfTheDigit.ipynb",
      "provenance": [],
      "authorship_tag": "ABX9TyNW3P9ZB9krspovr2Rfd3NC",
      "include_colab_link": true
    },
    "kernelspec": {
      "name": "python3",
      "display_name": "Python 3"
    },
    "language_info": {
      "name": "python"
    }
  },
  "cells": [
    {
      "cell_type": "markdown",
      "metadata": {
        "id": "view-in-github",
        "colab_type": "text"
      },
      "source": [
        "<a href=\"https://colab.research.google.com/github/mucollabo/codingdojang/blob/main/TheNumberOfTheDigit.ipynb\" target=\"_parent\"><img src=\"https://colab.research.google.com/assets/colab-badge.svg\" alt=\"Open In Colab\"/></a>"
      ]
    },
    {
      "cell_type": "markdown",
      "source": [
        "[문제] 숫자를 입력 받으면 그에 맞은 자릿수 출력\n",
        "---\n",
        "### [예] 입력 : 156 출력 : 100의 자릿수\n",
        "### [예] 입력 : 18961 출력 : 10000의 자릿수"
      ],
      "metadata": {
        "id": "JTrqCrF2gaYu"
      }
    },
    {
      "cell_type": "code",
      "source": [
        "digit = input(\"숫자를 입력하세요: \")\n",
        "\n",
        "num = 1\n",
        "for i in range(len(digit)-1):\n",
        "  num *= 10\n",
        "\n",
        "print(f\"입력 : {digit} 출력 : {num}의 자릿수\")\n"
      ],
      "metadata": {
        "id": "LQP32ZSlZvil",
        "colab": {
          "base_uri": "https://localhost:8080/"
        },
        "outputId": "5c614e91-49b3-4de2-fe3f-510a7587aa57"
      },
      "execution_count": 14,
      "outputs": [
        {
          "output_type": "stream",
          "name": "stdout",
          "text": [
            "숫자를 입력하세요: 18961\n",
            "입력 : 18961 출력 : 10000의 자릿수\n"
          ]
        }
      ]
    },
    {
      "cell_type": "code",
      "source": [
        ""
      ],
      "metadata": {
        "id": "Ctdps6CQcq6K"
      },
      "execution_count": null,
      "outputs": []
    }
  ]
}