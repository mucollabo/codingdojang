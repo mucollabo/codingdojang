{
  "nbformat": 4,
  "nbformat_minor": 0,
  "metadata": {
    "colab": {
      "name": "get numbers from 1 to 1000.ipynb",
      "provenance": [],
      "authorship_tag": "ABX9TyPRRw9byMAnXJueRohLkucr",
      "include_colab_link": true
    },
    "kernelspec": {
      "name": "python3",
      "display_name": "Python 3"
    },
    "language_info": {
      "name": "python"
    }
  },
  "cells": [
    {
      "cell_type": "markdown",
      "metadata": {
        "id": "view-in-github",
        "colab_type": "text"
      },
      "source": [
        "<a href=\"https://colab.research.google.com/github/mucollabo/codingdojang/blob/main/get_numbers_from_1_to_1000.ipynb\" target=\"_parent\"><img src=\"https://colab.research.google.com/assets/colab-badge.svg\" alt=\"Open In Colab\"/></a>"
      ]
    },
    {
      "cell_type": "markdown",
      "metadata": {
        "id": "6F5ryPn8nYh2"
      },
      "source": [
        "# [문제] 1~1000에서 각 숫자의 개수 구하기\n",
        "### [예] 10 ~ 15 까지의 각 숫자의 개수를 구해보자\n",
        "### 10 = 1, 0\n",
        "### 11 = 1, 1\n",
        "### 12 = 1, 2\n",
        "### 13 = 1, 3\n",
        "### 14 = 1, 4\n",
        "### 15 = 1, 5\n",
        "### 그러므로 이 경우의 답은 0:1개, 1:7개, 2:1개, 3:1개, 4:1개, 5:1개\n"
      ]
    },
    {
      "cell_type": "code",
      "metadata": {
        "colab": {
          "base_uri": "https://localhost:8080/"
        },
        "id": "02rA1oWen6pU",
        "outputId": "e3e78e60-2c33-4beb-b060-e8793b458fda"
      },
      "source": [
        "fn, sn = map(int, input('두개의 정수를 입력하세요: ').split())\n",
        "\n",
        "nl = []\n",
        "for l in range(fn, sn+1):\n",
        "  nl += str(l)\n",
        "\n",
        "for sn in sorted(set(nl)):\n",
        "  c = 0\n",
        "  for cn in nl:\n",
        "    if sn == cn:\n",
        "      c += 1\n",
        "  print(f'{sn}:{c}개 ', end='')\n",
        "  "
      ],
      "execution_count": 26,
      "outputs": [
        {
          "output_type": "stream",
          "name": "stdout",
          "text": [
            "두개의 정수를 입력하세요: 10 15\n",
            "0:1개 1:7개 2:1개 3:1개 4:1개 5:1개 "
          ]
        }
      ]
    },
    {
      "cell_type": "code",
      "metadata": {
        "id": "GGd20FxlrXda"
      },
      "source": [
        ""
      ],
      "execution_count": null,
      "outputs": []
    }
  ]
}