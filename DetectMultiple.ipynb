{
  "nbformat": 4,
  "nbformat_minor": 0,
  "metadata": {
    "colab": {
      "name": "DetectMultiple.ipynb",
      "provenance": [],
      "authorship_tag": "ABX9TyN1uRW6Qr1FqOEx8JkuK6HT",
      "include_colab_link": true
    },
    "kernelspec": {
      "name": "python3",
      "display_name": "Python 3"
    },
    "language_info": {
      "name": "python"
    }
  },
  "cells": [
    {
      "cell_type": "markdown",
      "metadata": {
        "id": "view-in-github",
        "colab_type": "text"
      },
      "source": [
        "<a href=\"https://colab.research.google.com/github/mucollabo/codingdojang/blob/main/DetectMultiple.ipynb\" target=\"_parent\"><img src=\"https://colab.research.google.com/assets/colab-badge.svg\" alt=\"Open In Colab\"/></a>"
      ]
    },
    {
      "cell_type": "markdown",
      "source": [
        "n의 배수 판정법\n",
        "===\n",
        "[문제] 어떤 수 x와 n이 주어졌을때 조건에 따라 x가 n의 배수인지 판별하는 코드를 작성하라. x는 0 이상의 정수이며 조건에 맞지 않는 입력은 주어지지 않는다. 여기서 하나의 함수인지 여러 함수인지는 본인이 선택하면 된다. 단 절대 산술연산자 중 %와 /는 코드에 없도록 한다. 그리고 divmod() 함수를 쓰는것도 금지한다. 코드는 창의적으로 하는 것을 목적으로 한다. 속도는 크게 중점을 두지 않는다. n의 종류는 2,3,5,7,11,13이다. 원하는 n만 선택해서 풀 수도 있다.\n",
        "---\n",
        "#### [예]\n",
        "#### [입력]\n",
        "##### 입력으로 주어질 자연수의 종류를 입력받고 차례로 그 수만큼 점수를 입력받는다.\n",
        "6\n",
        "\n",
        "432 2\n",
        "\n",
        "4 3\n",
        "\n",
        "635 5\n",
        "\n",
        "421 7\n",
        "\n",
        "122 11\n",
        "\n",
        "143 13\n",
        "\n",
        "\n",
        "#### [출력]\n",
        "1\n",
        "\n",
        "0\n",
        "\n",
        "1\n",
        "\n",
        "0\n",
        "\n",
        "0\n",
        "\n",
        "1\n"
      ],
      "metadata": {
        "id": "6x81WvPaF7hg"
      }
    },
    {
      "cell_type": "code",
      "source": [
        "def detectMultiple():\n",
        "  num = int(input())\n",
        "  result = []\n",
        "  for i in range(num):\n",
        "    x, n = map(int, input().split())\n",
        "    for j in range(x):\n",
        "      count = 0\n",
        "      if n * j == x:\n",
        "        count = 1\n",
        "        result.append(1)\n",
        "        break\n",
        "    if count == 0:\n",
        "      result.append(0)\n",
        "    \n",
        "  print(result)\n"
      ],
      "metadata": {
        "id": "58HChAtGHxGk"
      },
      "execution_count": 55,
      "outputs": []
    },
    {
      "cell_type": "code",
      "source": [
        "detectMultiple()"
      ],
      "metadata": {
        "colab": {
          "base_uri": "https://localhost:8080/"
        },
        "id": "rK487cvmNFJx",
        "outputId": "5e296fc2-55ab-496d-a6ce-01717caff270"
      },
      "execution_count": 56,
      "outputs": [
        {
          "output_type": "stream",
          "name": "stdout",
          "text": [
            "6\n",
            "432 2\n",
            "4 3\n",
            "635 5\n",
            "421 7\n",
            "122 11\n",
            "143 13\n",
            "[1, 0, 1, 0, 0, 1]\n"
          ]
        }
      ]
    },
    {
      "cell_type": "code",
      "source": [
        ""
      ],
      "metadata": {
        "id": "Y1qlmLi5Rzsf"
      },
      "execution_count": null,
      "outputs": []
    }
  ]
}