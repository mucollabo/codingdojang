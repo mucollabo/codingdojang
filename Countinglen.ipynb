{
  "nbformat": 4,
  "nbformat_minor": 0,
  "metadata": {
    "colab": {
      "name": "Countinglen.ipynb",
      "provenance": [],
      "collapsed_sections": [],
      "authorship_tag": "ABX9TyNCF2CDeMBLcS7g2C+MEMQ6",
      "include_colab_link": true
    },
    "kernelspec": {
      "name": "python3",
      "display_name": "Python 3"
    },
    "language_info": {
      "name": "python"
    }
  },
  "cells": [
    {
      "cell_type": "markdown",
      "metadata": {
        "id": "view-in-github",
        "colab_type": "text"
      },
      "source": [
        "<a href=\"https://colab.research.google.com/github/mucollabo/codingdojang/blob/main/Countinglen.ipynb\" target=\"_parent\"><img src=\"https://colab.research.google.com/assets/colab-badge.svg\" alt=\"Open In Colab\"/></a>"
      ]
    },
    {
      "cell_type": "markdown",
      "source": [
        "### 공백을 제외한 글자수 세기\n",
        "#### 네이버 글자수세기 등 특정 글의 글자를 세는 프로그램은 일반적으로 공백을 제외한 글자수만을 세는 기능도 가지고 있다.\n",
        "#### 어떠한 문자열을 입력받았을 때 줄바꿈과 공백을 제외한 글자수만을 리턴하는 코드를 작성하시오.\n",
        "#### [입력 예시]\n",
        "#### 공백을 제외한\n",
        "#### 글자수만을 세는 코드 테스트\n",
        "#### [출력 예시]\n",
        "#### 18\n"
      ],
      "metadata": {
        "id": "eTq9ptSCuANV"
      }
    },
    {
      "cell_type": "code",
      "source": [
        "sen = '''공백을 제외한\n",
        "글자수만을 세는 코드 테스트'''\n",
        "count = 0\n",
        "\n",
        "for sel in sen:\n",
        "  if sel == ' ' or sel == '\\n':\n",
        "    continue\n",
        "  else:\n",
        "    count += 1\n",
        "  \n",
        "print(count)"
      ],
      "metadata": {
        "colab": {
          "base_uri": "https://localhost:8080/"
        },
        "id": "VmJik6vLuzoq",
        "outputId": "d5ade453-70fd-4c38-8835-1fb6a8d40456"
      },
      "execution_count": 27,
      "outputs": [
        {
          "output_type": "stream",
          "name": "stdout",
          "text": [
            "18\n"
          ]
        }
      ]
    },
    {
      "cell_type": "code",
      "source": [
        ""
      ],
      "metadata": {
        "id": "ZvcI97ga4IhP"
      },
      "execution_count": null,
      "outputs": []
    }
  ]
}