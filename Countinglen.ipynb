{
  "nbformat": 4,
  "nbformat_minor": 0,
  "metadata": {
    "colab": {
      "name": "Countinglen.ipynb",
      "provenance": [],
      "authorship_tag": "ABX9TyODfSqz5V0LQemPdR9JcZDC",
      "include_colab_link": true
    },
    "kernelspec": {
      "name": "python3",
      "display_name": "Python 3"
    },
    "language_info": {
      "name": "python"
    }
  },
  "cells": [
    {
      "cell_type": "markdown",
      "metadata": {
        "id": "view-in-github",
        "colab_type": "text"
      },
      "source": [
        "<a href=\"https://colab.research.google.com/github/mucollabo/codingdojang/blob/main/Countinglen.ipynb\" target=\"_parent\"><img src=\"https://colab.research.google.com/assets/colab-badge.svg\" alt=\"Open In Colab\"/></a>"
      ]
    },
    {
      "cell_type": "markdown",
      "source": [
        "### 공백을 제외한 글자수 세기\n",
        "#### 네이버 글자수세기 등 특정 글의 글자를 세는 프로그램은 일반적으로 공백을 제외한 글자수만을 세는 기능도 가지고 있다.\n",
        "#### 어떠한 문자열을 입력받았을 때 줄바꿈과 공백을 제외한 글자수만을 리턴하는 코드를 작성하시오.\n",
        "#### [입력 예시]\n",
        "#### 공백을 제외한\n",
        "#### 글자수만을 세는 코드 테스트\n",
        "#### [출력 예시]\n",
        "#### 18\n"
      ],
      "metadata": {
        "id": "eTq9ptSCuANV"
      }
    },
    {
      "cell_type": "code",
      "source": [
        "sen = input('문자열을 입력하시오: ')\n",
        "count = 0\n",
        "\n",
        "for sel in sen:\n",
        "  if sel != ' ':\n",
        "    count += 1\n",
        "\n",
        "print(count)"
      ],
      "metadata": {
        "colab": {
          "base_uri": "https://localhost:8080/"
        },
        "id": "VmJik6vLuzoq",
        "outputId": "401fa16c-6628-466a-ccf8-7e820ea02cfc"
      },
      "execution_count": 4,
      "outputs": [
        {
          "output_type": "stream",
          "name": "stdout",
          "text": [
            "문자열을 입력하시오: 공백을 제외한\n",
            "6\n"
          ]
        }
      ]
    },
    {
      "cell_type": "code",
      "source": [
        "s_list = [input() for _ in range(3)]"
      ],
      "metadata": {
        "colab": {
          "base_uri": "https://localhost:8080/"
        },
        "id": "RABPwS48wl17",
        "outputId": "fe105c1e-598e-4a1e-c5d8-479219a7f8b7"
      },
      "execution_count": 6,
      "outputs": [
        {
          "name": "stdout",
          "output_type": "stream",
          "text": [
            "첫째줄\n",
            "둘째줄\n",
            "셋째줄\n"
          ]
        }
      ]
    },
    {
      "cell_type": "code",
      "source": [
        "print(s_list)"
      ],
      "metadata": {
        "colab": {
          "base_uri": "https://localhost:8080/"
        },
        "id": "mrvSlxSD0Cgr",
        "outputId": "b2797fe5-1148-4746-e09a-548af84ed138"
      },
      "execution_count": 7,
      "outputs": [
        {
          "output_type": "stream",
          "name": "stdout",
          "text": [
            "['첫째줄', '둘째줄', '셋째줄']\n"
          ]
        }
      ]
    },
    {
      "cell_type": "code",
      "source": [
        ""
      ],
      "metadata": {
        "id": "0p01s-x70MGf"
      },
      "execution_count": null,
      "outputs": []
    }
  ]
}