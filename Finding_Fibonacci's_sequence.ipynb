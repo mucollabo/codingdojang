{
  "nbformat": 4,
  "nbformat_minor": 0,
  "metadata": {
    "colab": {
      "name": "Finding Fibonacci's sequence.ipynb",
      "provenance": [],
      "authorship_tag": "ABX9TyMLhH52184dkh1zluylgfxD",
      "include_colab_link": true
    },
    "kernelspec": {
      "name": "python3",
      "display_name": "Python 3"
    },
    "language_info": {
      "name": "python"
    }
  },
  "cells": [
    {
      "cell_type": "markdown",
      "metadata": {
        "id": "view-in-github",
        "colab_type": "text"
      },
      "source": [
        "<a href=\"https://colab.research.google.com/github/mucollabo/codingdojang/blob/main/Finding_Fibonacci's_sequence.ipynb\" target=\"_parent\"><img src=\"https://colab.research.google.com/assets/colab-badge.svg\" alt=\"Open In Colab\"/></a>"
      ]
    },
    {
      "cell_type": "markdown",
      "metadata": {
        "id": "V9vpumU3WE3U"
      },
      "source": [
        "# 피보나치 수열 구하기\n",
        "## 피보나치 수열이란, 첫 번째 항의 값이 0이고 두 번째 항의 값이 1일 때, 이후의 항들은 이전의 두 항을 더한 값으로 이루어지는 수열을 말한다.\n",
        "\n",
        "### 예) 0, 1, 1, 2, 3, 5, 8, 13\n",
        "\n",
        "### 인풋을 정수 n으로 받았을때, n 이하까지의 피보나치 수열을 출력하는 프로그램을 작성하세요"
      ]
    },
    {
      "cell_type": "code",
      "metadata": {
        "colab": {
          "base_uri": "https://localhost:8080/"
        },
        "id": "4DGfxgd_WfIn",
        "outputId": "03500eae-a6c8-4ec4-baec-5d584350eeb8"
      },
      "source": [
        "p = [0, 1]\n",
        "s = 0\n",
        "c = 0\n",
        "\n",
        "n = int(input('정수를 입력하세요: '))\n",
        "\n",
        "while True:\n",
        "  s = p[c] + p[c+1]\n",
        "  if s > n:\n",
        "    break\n",
        "  p.append(s)\n",
        "  c += 1\n",
        "\n",
        "print('정수n이하의 피보나치 수열: {}'.format(p))"
      ],
      "execution_count": 145,
      "outputs": [
        {
          "output_type": "stream",
          "name": "stdout",
          "text": [
            "정수를 입력하세요: 3\n",
            "정수n이하의 피보나치 수열: [0, 1, 1, 2, 3]\n"
          ]
        }
      ]
    },
    {
      "cell_type": "code",
      "metadata": {
        "colab": {
          "base_uri": "https://localhost:8080/"
        },
        "id": "piTt48fRHCQh",
        "outputId": "abd54666-4f14-40e4-8729-73b08562415d"
      },
      "source": [
        "n = int(input(\"\"))\n",
        "fib = [0,1]\n",
        "while (fib[-1]+fib[-2]) <= n :\n",
        "    fib.append(fib[-1]+fib[-2])\n",
        "\n",
        "print(fib)"
      ],
      "execution_count": 162,
      "outputs": [
        {
          "output_type": "stream",
          "name": "stdout",
          "text": [
            "8\n",
            "[0, 1, 1, 2, 3, 5, 8]\n"
          ]
        }
      ]
    },
    {
      "cell_type": "code",
      "metadata": {
        "id": "6vmKo7IPH06w"
      },
      "source": [
        ""
      ],
      "execution_count": null,
      "outputs": []
    }
  ]
}