{
  "nbformat": 4,
  "nbformat_minor": 0,
  "metadata": {
    "colab": {
      "name": "FindOddEven.ipynb",
      "provenance": [],
      "authorship_tag": "ABX9TyMcvVeSZetEwZcBnbQYIRUN",
      "include_colab_link": true
    },
    "kernelspec": {
      "name": "python3",
      "display_name": "Python 3"
    },
    "language_info": {
      "name": "python"
    }
  },
  "cells": [
    {
      "cell_type": "markdown",
      "metadata": {
        "id": "view-in-github",
        "colab_type": "text"
      },
      "source": [
        "<a href=\"https://colab.research.google.com/github/mucollabo/codingdojang/blob/main/FindOddEven.ipynb\" target=\"_parent\"><img src=\"https://colab.research.google.com/assets/colab-badge.svg\" alt=\"Open In Colab\"/></a>"
      ]
    },
    {
      "cell_type": "markdown",
      "source": [
        "홀수와 짝수의 개수를 구하기\n",
        "===\n",
        "[문제]홀수와 짝수의 개수를 구하는 프로그램을 만들어라.\n",
        "---\n",
        "#### [예]\n",
        "##### [3, 4, 5, 6, 7]\n",
        "##### = 홀수 3개, 짝수 2개\n",
        "##### [12, 16, 22, 24, 29]\n",
        "##### = 홀수 1개, 짝수 4개 \n",
        "##### [41, 43, 45, 47, 49]\n",
        "##### = 홀수 5개, 짝수 0개\n",
        "\n",
        "##### 홀수 : 2로 나누어 떨어지지 않는 정수\n",
        "##### 짝수 : 2로 나누어 떨어지는 정수"
      ],
      "metadata": {
        "id": "UdUAnuym6vA8"
      }
    },
    {
      "cell_type": "code",
      "source": [
        "def findOddEven():\n",
        "  nums = list(map(int, input().split()))\n",
        "  evenNums = 0\n",
        "  oddNums = 0\n",
        "  for num in nums:\n",
        "    if num%2 == 0:\n",
        "      evenNums += 1\n",
        "    else:\n",
        "      oddNums += 1\n",
        "\n",
        "  print(nums)\n",
        "  print(f\"= 홀수 {oddNums}개, 짝수 {evenNums}개\")\n",
        "  "
      ],
      "metadata": {
        "id": "0NkEwkRq7kqH"
      },
      "execution_count": 24,
      "outputs": []
    },
    {
      "cell_type": "code",
      "source": [
        "findOddEven()"
      ],
      "metadata": {
        "colab": {
          "base_uri": "https://localhost:8080/"
        },
        "id": "zc5MZzIA8z9i",
        "outputId": "e3bdb154-a746-4bb8-9339-c10d1212fd21"
      },
      "execution_count": 26,
      "outputs": [
        {
          "output_type": "stream",
          "name": "stdout",
          "text": [
            "41 43 45 47 49\n",
            "[41, 43, 45, 47, 49]\n",
            "= 홀수 5개, 짝수 0개\n"
          ]
        }
      ]
    },
    {
      "cell_type": "code",
      "source": [
        ""
      ],
      "metadata": {
        "id": "dlMBGe2a-yKQ"
      },
      "execution_count": null,
      "outputs": []
    }
  ]
}