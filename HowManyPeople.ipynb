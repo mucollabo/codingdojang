{
 "cells": [
  {
   "cell_type": "markdown",
   "source": [
    "그 시간 사무실에 몇 명이 있었나?\n",
    "===\n",
    "출처: [http://www.careercup.com/question?id=13817668](http://www.careercup.com/question?id=13817668)\n",
    "##### 아마존 면접문제\n",
    "### [문제] A사무실에는 특정일자의 출퇴근 시간이 기록된 거대한 로그파일이 있다고 한다.\n",
    "###       파일의 형식은 다음과 같다. (한 라인에서 앞부분은 출근시간(HH:MM:SS), 뒷부분은 퇴근시간이다.)\n",
    "#### [예시]\n",
    ">#### 09:12:23 11:14:35\n",
    ">#### 10:34:01 13:23:40\n",
    ">#### 10:34:31 11:20:10\n",
    "### 특정시간을 입력(예: 11:05:20)으로 주었을 때 그 시간에 총 몇 명이 사무실에 있었는지 알려주는 함수를 작성하시오."
   ],
   "metadata": {
    "collapsed": false,
    "pycharm": {
     "name": "#%% md\n"
    }
   }
  },
  {
   "cell_type": "code",
   "execution_count": 60,
   "outputs": [
    {
     "name": "stdout",
     "output_type": "stream",
     "text": [
      "11:14:36에 사무실에는 총 2명이 있었다.\n"
     ]
    }
   ],
   "source": [
    "import time\n",
    "from datetime import datetime\n",
    "\n",
    "# 출퇴근 로그 파일\n",
    "members_log = [['09:12:23', '11:14:35'], ['10:34:01', '13:23:40'], ['10:34:31', '11:20:10']]\n",
    "\n",
    "# 체크 하고 싶은 특정 시간 입력\n",
    "check_time = input(\"체크 하고 싶은 특정 시간(예:HH:MM:SS)을 입력 하시요: \")\n",
    "\n",
    "# 입력 된 시간을 timestamp 시간으로 변환\n",
    "dtimestamp = time.mktime(datetime.strptime(check_time, '%H:%M:%S').timetuple())\n",
    "\n",
    "#해당되는 시간의 사람 수를 카운팅 할 변수 초기화\n",
    "count = 0\n",
    "\n",
    "# 로그 파일에서 각 시간을 탐색\n",
    "for io_time in members_log:\n",
    "    # 출근 시간과 퇴근 시간 각각 timestamp 으로 변환\n",
    "    i_timestamp = time.mktime(datetime.strptime(io_time[0], '%H:%M:%S').timetuple())\n",
    "    o_timestamp = time.mktime(datetime.strptime(io_time[1], '%H:%M:%S').timetuple())\n",
    "    # 체크할 시간이 출근 시간과 퇴근 시간 사이에 있는지 체크하여 카운팅\n",
    "    if dtimestamp >= i_timestamp and dtimestamp <= o_timestamp:\n",
    "        count += 1\n",
    "\n",
    "# 특정 시간에 카운팅 된 사람 수 출력\n",
    "print(f\"{check_time}에 사무실에는 총 {count}명이 있었다.\")"
   ],
   "metadata": {
    "collapsed": false,
    "pycharm": {
     "name": "#%%\n"
    }
   }
  },
  {
   "cell_type": "code",
   "execution_count": null,
   "outputs": [],
   "source": [],
   "metadata": {
    "collapsed": false,
    "pycharm": {
     "name": "#%%\n"
    }
   }
  }
 ],
 "metadata": {
  "kernelspec": {
   "display_name": "Python 3",
   "language": "python",
   "name": "python3"
  },
  "language_info": {
   "codemirror_mode": {
    "name": "ipython",
    "version": 2
   },
   "file_extension": ".py",
   "mimetype": "text/x-python",
   "name": "python",
   "nbconvert_exporter": "python",
   "pygments_lexer": "ipython2",
   "version": "2.7.6"
  }
 },
 "nbformat": 4,
 "nbformat_minor": 0
}