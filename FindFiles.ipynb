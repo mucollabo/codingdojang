{
 "cells": [
  {
   "cell_type": "markdown",
   "metadata": {
    "collapsed": true,
    "pycharm": {
     "name": "#%% md\n"
    }
   },
   "source": [
    "파일찾기\n",
    "===\n",
    "\n",
    "### [문제] A라는 디렉토리 하위에 있는 텍스트 파일(*.txt) 중에서 LIFE IS TOO SHORT 라는 문자열을 포함하고 있는 파일들을 모두 찾을 수 있는 프로그램을 작성하시오.\n",
    "### 단, 하위 디렉토리도 포함해서 검색해야 함."
   ]
  },
  {
   "cell_type": "code",
   "execution_count": 39,
   "outputs": [
    {
     "name": "stdout",
     "output_type": "stream",
     "text": [
      "['text2', 'b.txt', 'a.txt']\n"
     ]
    },
    {
     "data": {
      "text/plain": "['b.txt']"
     },
     "execution_count": 39,
     "metadata": {},
     "output_type": "execute_result"
    }
   ],
   "source": [
    "import os\n",
    "\n",
    "def findfiles():\n",
    "    dir_name = input(\"검색하려는 디렉토리를 입력하세요: \")\n",
    "    filesList = os.listdir(\"./\" + dir_name)\n",
    "    print(filesList)\n",
    "    result = []\n",
    "    for file in filesList:\n",
    "        name, ext = os.path.splitext(file)\n",
    "        if ext == '.txt':\n",
    "            if open(dir_name + '/' + file, 'r').read().find('LIFE IS TOO SHORT') == 0:\n",
    "                result.append(file)\n",
    "        elif ext == '':\n",
    "            filesList2 = os.listdir(\"./\" + dir_name + \"/\" + file)\n",
    "            # if open(dir_name + '/' + file)\n",
    "            pass\n",
    "    return result\n",
    "\n",
    "\n",
    "findfiles()"
   ],
   "metadata": {
    "collapsed": false,
    "pycharm": {
     "name": "#%%\n"
    }
   }
  },
  {
   "cell_type": "code",
   "execution_count": null,
   "outputs": [],
   "source": [],
   "metadata": {
    "collapsed": false,
    "pycharm": {
     "name": "#%%\n"
    }
   }
  }
 ],
 "metadata": {
  "kernelspec": {
   "display_name": "Python 3",
   "language": "python",
   "name": "python3"
  },
  "language_info": {
   "codemirror_mode": {
    "name": "ipython",
    "version": 2
   },
   "file_extension": ".py",
   "mimetype": "text/x-python",
   "name": "python",
   "nbconvert_exporter": "python",
   "pygments_lexer": "ipython2",
   "version": "2.7.6"
  }
 },
 "nbformat": 4,
 "nbformat_minor": 0
}