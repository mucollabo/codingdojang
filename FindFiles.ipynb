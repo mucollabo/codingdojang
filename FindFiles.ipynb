{
 "cells": [
  {
   "cell_type": "markdown",
   "metadata": {
    "collapsed": true,
    "pycharm": {
     "name": "#%% md\n"
    }
   },
   "source": [
    "파일찾기\n",
    "===\n",
    "\n",
    "### [문제] A라는 디렉토리 하위에 있는 텍스트 파일(*.txt) 중에서 LIFE IS TOO SHORT 라는 문자열을 포함하고 있는 파일들을 모두 찾을 수 있는 프로그램을 작성하시오.\n",
    "### 단, 하위 디렉토리도 포함해서 검색해야 함."
   ]
  },
  {
   "cell_type": "code",
   "execution_count": 27,
   "outputs": [],
   "source": [
    "import glob\n",
    "import os\n",
    "\n",
    "def findfiles():\n",
    "    dir_name = input(\"검색하려는 디렉토리를 입력하세요: \")     # 검색하고자 하는 디렉토리 입력\n",
    "    filesList = glob.glob(dir_name + '/**', recursive=True)     # 디렉토리(하위 디렉토리 포함: recursive=True, '**'사용)에 있는 파일목록을 리스트로 저장\n",
    "    result = []       # 결과를 저장할 빈 리스트 생성\n",
    "\n",
    "    for file in filesList:\n",
    "        # filesList 의 목록을 파일명(name)과 확장자(ext)로 분리\n",
    "        name, ext = os.path.splitext(file)\n",
    "        # 목록중 확장자가 '.txt' 이고 파일 내용 중 'LIFE IS TOO SHORT'이 있으면 파일명을 저장\n",
    "        if ext == '.txt' and open(file, 'r').read().find('LIFE IS TOO SHORT') == 0:\n",
    "            result.append(file)\n",
    "\n",
    "    return result\n"
   ],
   "metadata": {
    "collapsed": false,
    "pycharm": {
     "name": "#%%\n"
    }
   }
  },
  {
   "cell_type": "code",
   "execution_count": 28,
   "outputs": [
    {
     "data": {
      "text/plain": "['text/text2/c.txt', 'text/b.txt']"
     },
     "execution_count": 28,
     "metadata": {},
     "output_type": "execute_result"
    }
   ],
   "source": [
    "findfiles()"
   ],
   "metadata": {
    "collapsed": false,
    "pycharm": {
     "name": "#%%\n"
    }
   }
  },
  {
   "cell_type": "code",
   "execution_count": null,
   "outputs": [],
   "source": [],
   "metadata": {
    "collapsed": false,
    "pycharm": {
     "name": "#%%\n"
    }
   }
  }
 ],
 "metadata": {
  "kernelspec": {
   "display_name": "Python 3",
   "language": "python",
   "name": "python3"
  },
  "language_info": {
   "codemirror_mode": {
    "name": "ipython",
    "version": 2
   },
   "file_extension": ".py",
   "mimetype": "text/x-python",
   "name": "python",
   "nbconvert_exporter": "python",
   "pygments_lexer": "ipython2",
   "version": "2.7.6"
  }
 },
 "nbformat": 4,
 "nbformat_minor": 0
}