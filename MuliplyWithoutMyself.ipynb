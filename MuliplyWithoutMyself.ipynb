{
  "nbformat": 4,
  "nbformat_minor": 0,
  "metadata": {
    "colab": {
      "name": "MuliplyWithoutMyself.ipynb",
      "provenance": [],
      "authorship_tag": "ABX9TyOD/eOgj4/VDxY8bXVWwsRA",
      "include_colab_link": true
    },
    "kernelspec": {
      "name": "python3",
      "display_name": "Python 3"
    },
    "language_info": {
      "name": "python"
    }
  },
  "cells": [
    {
      "cell_type": "markdown",
      "metadata": {
        "id": "view-in-github",
        "colab_type": "text"
      },
      "source": [
        "<a href=\"https://colab.research.google.com/github/mucollabo/codingdojang/blob/main/MuliplyWithoutMyself.ipynb\" target=\"_parent\"><img src=\"https://colab.research.google.com/assets/colab-badge.svg\" alt=\"Open In Colab\"/></a>"
      ]
    },
    {
      "cell_type": "code",
      "execution_count": 16,
      "metadata": {
        "colab": {
          "base_uri": "https://localhost:8080/"
        },
        "id": "gBWMQq8hqWzL",
        "outputId": "cee56ec8-1064-4864-a69f-94792f671d1b"
      },
      "outputs": [
        {
          "output_type": "stream",
          "name": "stdout",
          "text": [
            "배열을 입력하시오: 2, 4, 6, 7\n",
            "(0, '2')\n",
            "(1, '4')\n",
            "(2, '6')\n",
            "(3, '7')\n"
          ]
        }
      ],
      "source": [
        "import re\n",
        "\n",
        "numlist = re.findall(r'\\d+', input('배열을 입력하시오: '))\n",
        "result = []\n",
        "\n",
        "for num, element in enumerate(numlist):\n",
        "    print(num, element)\n",
        "    for "
      ]
    },
    {
      "cell_type": "code",
      "source": [
        ""
      ],
      "metadata": {
        "id": "fjYzusWG75ft"
      },
      "execution_count": null,
      "outputs": []
    }
  ]
}