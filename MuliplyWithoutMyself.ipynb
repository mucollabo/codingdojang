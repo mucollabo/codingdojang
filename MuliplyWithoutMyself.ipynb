{
  "nbformat": 4,
  "nbformat_minor": 0,
  "metadata": {
    "colab": {
      "name": "MuliplyWithoutMyself.ipynb",
      "provenance": [],
      "authorship_tag": "ABX9TyM7TjxdENJkVRsAgDJCOYMf",
      "include_colab_link": true
    },
    "kernelspec": {
      "name": "python3",
      "display_name": "Python 3"
    },
    "language_info": {
      "name": "python"
    }
  },
  "cells": [
    {
      "cell_type": "markdown",
      "metadata": {
        "id": "view-in-github",
        "colab_type": "text"
      },
      "source": [
        "<a href=\"https://colab.research.google.com/github/mucollabo/codingdojang/blob/main/MuliplyWithoutMyself.ipynb\" target=\"_parent\"><img src=\"https://colab.research.google.com/assets/colab-badge.svg\" alt=\"Open In Colab\"/></a>"
      ]
    },
    {
      "cell_type": "markdown",
      "source": [
        "### 자신을 제외한 곱셈\n",
        "#### [문제] 배열 [a, b, c, d]를 입력하면 배열[bcd, acd, abd, abc]를 출력하는 코드를 작성하시오.\n",
        "#### (단, 나눗셈 사용 금지)\n",
        "#### 입출력되는 배열은 어떤 형식이든 상관없습니다.\n",
        "#### (입력 예시)\n",
        "#### 2, 6, 4, 7\n",
        "#### (출력 예시)\n",
        "#### 168, 56, 84, 48\n"
      ],
      "metadata": {
        "id": "KYtIHK8YIHnE"
      }
    },
    {
      "cell_type": "code",
      "execution_count": 7,
      "metadata": {
        "colab": {
          "base_uri": "https://localhost:8080/"
        },
        "id": "gBWMQq8hqWzL",
        "outputId": "3a5cd641-2db7-49e1-9dca-2162a9f12a7c"
      },
      "outputs": [
        {
          "output_type": "stream",
          "name": "stdout",
          "text": [
            "배열을 입력하시오: 2, 6, 4, 7\n",
            "[168, 56, 84, 48]\n"
          ]
        }
      ],
      "source": [
        "import re\n",
        "\n",
        "numlist = re.findall(r'\\d+', input('배열을 입력하시오: '))\n",
        "result = []\n",
        "\n",
        "for i in range(len(numlist)):\n",
        "    value = 1\n",
        "    for j, element in enumerate(numlist):\n",
        "      if i == j:\n",
        "        continue\n",
        "      else:\n",
        "        value *= int(element)\n",
        "\n",
        "    result.append(value)\n",
        "\n",
        "print(result)\n"
      ]
    },
    {
      "cell_type": "code",
      "source": [
        ""
      ],
      "metadata": {
        "id": "fjYzusWG75ft"
      },
      "execution_count": null,
      "outputs": []
    }
  ]
}