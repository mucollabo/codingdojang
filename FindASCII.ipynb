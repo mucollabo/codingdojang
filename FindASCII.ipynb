{
  "nbformat": 4,
  "nbformat_minor": 0,
  "metadata": {
    "colab": {
      "name": "FindASCII.ipynb",
      "provenance": [],
      "authorship_tag": "ABX9TyN+gPFlwNZfPrM0zidMhOo3",
      "include_colab_link": true
    },
    "kernelspec": {
      "name": "python3",
      "display_name": "Python 3"
    },
    "language_info": {
      "name": "python"
    }
  },
  "cells": [
    {
      "cell_type": "markdown",
      "metadata": {
        "id": "view-in-github",
        "colab_type": "text"
      },
      "source": [
        "<a href=\"https://colab.research.google.com/github/mucollabo/codingdojang/blob/main/FindASCII.ipynb\" target=\"_parent\"><img src=\"https://colab.research.google.com/assets/colab-badge.svg\" alt=\"Open In Colab\"/></a>"
      ]
    },
    {
      "cell_type": "markdown",
      "source": [
        "### [문제] 문자에 해당하는 아스키코드 알아내는 코드"
      ],
      "metadata": {
        "id": "w4tb6U0IcZz7"
      }
    },
    {
      "cell_type": "code",
      "source": [
        "text = input('아스키코드로 변환 할 문자를 입력하세요: ')\n",
        "ascii_values = [ord(character) for character in text]\n",
        "print(f'{text}는 아스키코드로 {ascii_values}입니다.')"
      ],
      "metadata": {
        "colab": {
          "base_uri": "https://localhost:8080/"
        },
        "id": "JsU_BVMUcfjv",
        "outputId": "5e2443e3-a3be-462c-bf8b-19402b3b4540"
      },
      "execution_count": 11,
      "outputs": [
        {
          "output_type": "stream",
          "name": "stdout",
          "text": [
            "아스키코드로 변환 할 문자를 입력하세요: charles\n",
            "charles는 아스키코드로 [99, 104, 97, 114, 108, 101, 115]입니다.\n"
          ]
        }
      ]
    },
    {
      "cell_type": "code",
      "source": [
        ""
      ],
      "metadata": {
        "id": "xM91ejx6e45a"
      },
      "execution_count": null,
      "outputs": []
    }
  ]
}