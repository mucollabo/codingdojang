{
  "nbformat": 4,
  "nbformat_minor": 0,
  "metadata": {
    "colab": {
      "name": "PrintingOXs.ipynb",
      "provenance": [],
      "authorship_tag": "ABX9TyOaYuo1+/UhMLrWTO3xqlTR",
      "include_colab_link": true
    },
    "kernelspec": {
      "name": "python3",
      "display_name": "Python 3"
    },
    "language_info": {
      "name": "python"
    }
  },
  "cells": [
    {
      "cell_type": "markdown",
      "metadata": {
        "id": "view-in-github",
        "colab_type": "text"
      },
      "source": [
        "<a href=\"https://colab.research.google.com/github/mucollabo/codingdojang/blob/main/PrintingOXs.ipynb\" target=\"_parent\"><img src=\"https://colab.research.google.com/assets/colab-badge.svg\" alt=\"Open In Colab\"/></a>"
      ]
    },
    {
      "cell_type": "markdown",
      "metadata": {
        "id": "uvNepJQ39x6y"
      },
      "source": [
        "### 앞의 문제들 중 비슷한 알고리즘이 있던 것 같지만, 같은 건 없다고 생각해서 올립니다. 문제를 푸는데 많은 approach가 있을 듯 싶습니다. 이 문제의 핵심은 비트 연산을 얼마나 잘 이해하고 있냐이기 때문에 비트 연산으로 풀어주세요.\n",
        "# [문제] input은 int n을 입력 받아 첫번째 row는 (n-1)의 O와 X, 두번째 row는 (n-2)의 O와 XX, 세번째 row는 (n-3)의 0와 XXX... n번째 row는 n의 X을 출력하시오.\n",
        "### 입력 예시: 6\n",
        "### 출력 예시:\n",
        "### -----------------------------------\n",
        "### OOOOOX\n",
        "### OOOOXX\n",
        "### OOOXXX\n",
        "### OOXXXX\n",
        "### OXXXXX\n",
        "### XXXXXX\n",
        "### -----------------------------------"
      ]
    },
    {
      "cell_type": "code",
      "metadata": {
        "colab": {
          "base_uri": "https://localhost:8080/"
        },
        "id": "Xt2TgTsX-qgW",
        "outputId": "890e00dd-3a60-4dde-bdb0-6694352db7da"
      },
      "source": [
        "n = int(input('정수를 입력하세요: '))\n",
        "\n",
        "for i in range(n, 0, -1):\n",
        "  for j in range(i-1, 0, -1):\n",
        "    print(\"O\", end='')\n",
        "  for k in range(n-i+1):\n",
        "    print(\"X\", end='')\n",
        "  print('')"
      ],
      "execution_count": 45,
      "outputs": [
        {
          "output_type": "stream",
          "name": "stdout",
          "text": [
            "정수를 입력하세요: 6\n",
            "OOOOOX\n",
            "OOOOXX\n",
            "OOOXXX\n",
            "OOXXXX\n",
            "OXXXXX\n",
            "XXXXXX\n"
          ]
        }
      ]
    },
    {
      "cell_type": "code",
      "metadata": {
        "id": "tbZ8uQVUNqI0"
      },
      "source": [
        ""
      ],
      "execution_count": null,
      "outputs": []
    }
  ]
}