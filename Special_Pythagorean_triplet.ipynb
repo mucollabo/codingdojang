{
  "nbformat": 4,
  "nbformat_minor": 0,
  "metadata": {
    "colab": {
      "name": "Special Pythagorean triplet.ipynb",
      "provenance": [],
      "authorship_tag": "ABX9TyNQ1esVo5gU47asgKk1VKt3",
      "include_colab_link": true
    },
    "kernelspec": {
      "name": "python3",
      "display_name": "Python 3"
    },
    "language_info": {
      "name": "python"
    }
  },
  "cells": [
    {
      "cell_type": "markdown",
      "metadata": {
        "id": "view-in-github",
        "colab_type": "text"
      },
      "source": [
        "<a href=\"https://colab.research.google.com/github/mucollabo/codingdojang/blob/main/Special_Pythagorean_triplet.ipynb\" target=\"_parent\"><img src=\"https://colab.research.google.com/assets/colab-badge.svg\" alt=\"Open In Colab\"/></a>"
      ]
    },
    {
      "cell_type": "markdown",
      "metadata": {
        "id": "pwO92_25FEb8"
      },
      "source": [
        "### [문제] 세 자연수 a, b, c 가 피타고라스 정리 a^2 + b^2 = c^2 를 만족하면 피타고라스 수라고 부릅니다 (여기서 a < b < c ). 예를 들면 3^2 + 4^2 = 9 + 16 = 25 = 5^2 이므로 3, 4, 5는 피타고라스 수입니다.\n",
        "### a + b + c = 1000 인 피타고라스 수 a, b, c는 한 가지 뿐입니다. 이 때, a × b × c 는 얼마입니까?\n"
      ]
    },
    {
      "cell_type": "code",
      "metadata": {
        "colab": {
          "base_uri": "https://localhost:8080/"
        },
        "id": "WtS-s4lRF0gm",
        "outputId": "afd975e6-1afd-416c-d367-7c8562f0d733"
      },
      "source": [
        "from sympy import symbols, solve\n",
        "\n",
        "a, b, c = symbols('a, b, c')\n",
        "\n",
        "c = (a**2 + b**2)**(1/2)\n",
        "\n",
        "if solve(c) == c and (a+b+c) == 1000:\n",
        "  if a < b and b < c:\n",
        "    print(a, b, c)\n",
        "\n",
        "solve(c)"
      ],
      "execution_count": 9,
      "outputs": [
        {
          "output_type": "execute_result",
          "data": {
            "text/plain": [
              "[{a: -sqrt(-b**2)}, {a: sqrt(-b**2)}]"
            ]
          },
          "metadata": {},
          "execution_count": 9
        }
      ]
    },
    {
      "cell_type": "code",
      "metadata": {
        "id": "k3ER4Zx2R8qF"
      },
      "source": [
        ""
      ],
      "execution_count": null,
      "outputs": []
    }
  ]
}