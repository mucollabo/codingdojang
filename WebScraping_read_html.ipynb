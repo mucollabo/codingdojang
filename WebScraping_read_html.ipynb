{
 "nbformat": 4,
 "nbformat_minor": 0,
 "metadata": {
  "colab": {
   "name": "WebScraping_read_html.ipynb",
   "provenance": [],
   "authorship_tag": "ABX9TyMFWGLrI6QhinhhkzqrURVU"
  },
  "kernelspec": {
   "name": "python3",
   "display_name": "Python 3"
  },
  "language_info": {
   "name": "python"
  }
 },
 "cells": [
  {
   "cell_type": "code",
   "source": [
    "import pandas as pd\n",
    "import numpy as np\n",
    "import matplotlib.pyplot as plt\n",
    "from unicodedata import normalize"
   ],
   "metadata": {
    "id": "jVYC6DgXbcf4",
    "executionInfo": {
     "status": "ok",
     "timestamp": 1656053206856,
     "user_tz": -540,
     "elapsed": 946,
     "user": {
      "displayName": "Charles An",
      "userId": "03663604814907636288"
     }
    },
    "pycharm": {
     "name": "#%%\n"
    }
   },
   "execution_count": 1,
   "outputs": []
  },
  {
   "cell_type": "code",
   "source": [
    "table_NBA = pd.read_html(\"https://en.wikipedia.org/wiki/NBA_Finals\")"
   ],
   "metadata": {
    "id": "3yKfpoXXbsak",
    "executionInfo": {
     "status": "ok",
     "timestamp": 1656053208840,
     "user_tz": -540,
     "elapsed": 636,
     "user": {
      "displayName": "Charles An",
      "userId": "03663604814907636288"
     }
    },
    "pycharm": {
     "name": "#%%\n"
    }
   },
   "execution_count": 2,
   "outputs": []
  },
  {
   "cell_type": "code",
   "source": [
    "print(f'Total tables: {len(table_NBA)}')"
   ],
   "metadata": {
    "colab": {
     "base_uri": "https://localhost:8080/"
    },
    "id": "p4-yD1OOb_nK",
    "executionInfo": {
     "status": "ok",
     "timestamp": 1656053210288,
     "user_tz": -540,
     "elapsed": 372,
     "user": {
      "displayName": "Charles An",
      "userId": "03663604814907636288"
     }
    },
    "outputId": "ad368fe9-8d1b-4234-b271-8439e838e884",
    "pycharm": {
     "name": "#%%\n"
    }
   },
   "execution_count": 3,
   "outputs": [
    {
     "name": "stdout",
     "output_type": "stream",
     "text": [
      "Total tables: 27\n"
     ]
    }
   ]
  },
  {
   "cell_type": "code",
   "source": [
    "table_NBA = pd.read_html(\"https://en.wikipedia.org/wiki/NBA_Finals\", match='Finals appearances')\n",
    "len(table_NBA)"
   ],
   "metadata": {
    "colab": {
     "base_uri": "https://localhost:8080/"
    },
    "id": "tFR90dQecPt7",
    "executionInfo": {
     "status": "ok",
     "timestamp": 1656053211563,
     "user_tz": -540,
     "elapsed": 266,
     "user": {
      "displayName": "Charles An",
      "userId": "03663604814907636288"
     }
    },
    "outputId": "9d590acb-a3f3-416c-8aa1-f431a1613411",
    "pycharm": {
     "name": "#%%\n"
    }
   },
   "execution_count": 4,
   "outputs": [
    {
     "data": {
      "text/plain": "2"
     },
     "execution_count": 4,
     "metadata": {},
     "output_type": "execute_result"
    }
   ]
  },
  {
   "cell_type": "code",
   "source": [
    "df = table_NBA[1]\n",
    "df"
   ],
   "metadata": {
    "colab": {
     "base_uri": "https://localhost:8080/",
     "height": 896
    },
    "id": "lurIJFjPcg0r",
    "executionInfo": {
     "status": "ok",
     "timestamp": 1656053213177,
     "user_tz": -540,
     "elapsed": 477,
     "user": {
      "displayName": "Charles An",
      "userId": "03663604814907636288"
     }
    },
    "outputId": "147663da-f5fe-4f12-9946-e2fa8428b108",
    "pycharm": {
     "name": "#%%\n"
    }
   },
   "execution_count": 5,
   "outputs": [
    {
     "data": {
      "text/plain": "      P                    Team   W   L    Win  \\\n0   185      Los Angeles Lakers  93  92  0.503   \n1   129          Boston Celtics  77  52  0.597   \n2    65   Golden State Warriors  38  27  0.585   \n3    53      Philadelphia 76ers  24  29  0.453   \n4    48         New York Knicks  20  28  0.417   \n5    40         Detroit Pistons  22  18  0.550   \n6    35           Chicago Bulls  24  11  0.686   \n7    34       San Antonio Spurs  23  11  0.676   \n8    35              Miami Heat  17  18  0.486   \n9    25           Atlanta Hawks  11  14  0.440   \n10   23         Houston Rockets  12  11  0.522   \n11   23   Oklahoma City Thunder  10  13  0.435   \n12   26     Cleveland Cavaliers   7  19  0.269   \n13   20      Washington Wizards   5  15  0.250   \n14   18            Phoenix Suns   6  12  0.333   \n15   17         Milwaukee Bucks  11   6  0.647   \n16   17  Portland Trail Blazers   7  10  0.412   \n17   12        Dallas Mavericks   6   6  0.500   \n18   12               Utah Jazz   4   8  0.333   \n19   10           Brooklyn Nets   2   8  0.200   \n20    9           Orlando Magic   1   8  0.111   \n21    7        Sacramento Kings   4   3  0.571   \n22    6       Baltimore Bullets   4   2  0.667   \n23    6         Toronto Raptors   4   2  0.667   \n24    6          Indiana Pacers   2   4  0.333   \n25    6     Washington Capitols   2   4  0.333   \n26    5           Chicago Stags   1   4  0.200   \n\n                                                Notes  \n0   Holds the record for the most games in a Final...  \n1   Recorded the first ever sweep in the Finals. L...  \n2   Includes records of 10–6 while in Philadelphia...  \n3   Includes a record of 9–11 while in Syracuse, a...  \n4   Lost 4–1 in their last Finals appearance in 1999.  \n5   Includes a record of 4–8 while in Fort Wayne, ...  \n6    Won 4–2 in their last Finals appearance in 1998.  \n7    Won 4–1 in their last Finals appearance in 2014.  \n8   Lost 2–4 in their last Finals appearance in 2020.  \n9   All appearances in the Finals occurred while t...  \n10   Won 4–0 in their last Finals appearance in 1995.  \n11  Includes a record of 9–9 while in Seattle, and...  \n12  Lost 4–0 in their last Finals appearance in 20...  \n13  Includes a record of 0–4 in Baltimore and 5–11...  \n14  Lost 4–2 in their last Finals appearance in 2021.  \n15   Won 4–2 in their last Finals appearance in 2021.  \n16  Lost 4–2 in their last Finals appearance in 1992.  \n17  All games played during the Finals have been a...  \n18  Lost 4–2 in both Finals appearances in 1997 an...  \n19  All Finals appearances have occurred while the...  \n20  Lost 4–1 in their last Finals appearance in 2009.  \n21  All appearances have occurred while the team w...  \n22  Franchise defunct; not to be confused with cur...  \n23   Won 4–2 in their last Finals appearance in 2019.  \n24  Lost 4–2 in their last Finals appearance in 2000.  \n25                                 Franchise defunct.  \n26                                 Franchise defunct.  ",
      "text/html": "<div>\n<style scoped>\n    .dataframe tbody tr th:only-of-type {\n        vertical-align: middle;\n    }\n\n    .dataframe tbody tr th {\n        vertical-align: top;\n    }\n\n    .dataframe thead th {\n        text-align: right;\n    }\n</style>\n<table border=\"1\" class=\"dataframe\">\n  <thead>\n    <tr style=\"text-align: right;\">\n      <th></th>\n      <th>P</th>\n      <th>Team</th>\n      <th>W</th>\n      <th>L</th>\n      <th>Win</th>\n      <th>Notes</th>\n    </tr>\n  </thead>\n  <tbody>\n    <tr>\n      <th>0</th>\n      <td>185</td>\n      <td>Los Angeles Lakers</td>\n      <td>93</td>\n      <td>92</td>\n      <td>0.503</td>\n      <td>Holds the record for the most games in a Final...</td>\n    </tr>\n    <tr>\n      <th>1</th>\n      <td>129</td>\n      <td>Boston Celtics</td>\n      <td>77</td>\n      <td>52</td>\n      <td>0.597</td>\n      <td>Recorded the first ever sweep in the Finals. L...</td>\n    </tr>\n    <tr>\n      <th>2</th>\n      <td>65</td>\n      <td>Golden State Warriors</td>\n      <td>38</td>\n      <td>27</td>\n      <td>0.585</td>\n      <td>Includes records of 10–6 while in Philadelphia...</td>\n    </tr>\n    <tr>\n      <th>3</th>\n      <td>53</td>\n      <td>Philadelphia 76ers</td>\n      <td>24</td>\n      <td>29</td>\n      <td>0.453</td>\n      <td>Includes a record of 9–11 while in Syracuse, a...</td>\n    </tr>\n    <tr>\n      <th>4</th>\n      <td>48</td>\n      <td>New York Knicks</td>\n      <td>20</td>\n      <td>28</td>\n      <td>0.417</td>\n      <td>Lost 4–1 in their last Finals appearance in 1999.</td>\n    </tr>\n    <tr>\n      <th>5</th>\n      <td>40</td>\n      <td>Detroit Pistons</td>\n      <td>22</td>\n      <td>18</td>\n      <td>0.550</td>\n      <td>Includes a record of 4–8 while in Fort Wayne, ...</td>\n    </tr>\n    <tr>\n      <th>6</th>\n      <td>35</td>\n      <td>Chicago Bulls</td>\n      <td>24</td>\n      <td>11</td>\n      <td>0.686</td>\n      <td>Won 4–2 in their last Finals appearance in 1998.</td>\n    </tr>\n    <tr>\n      <th>7</th>\n      <td>34</td>\n      <td>San Antonio Spurs</td>\n      <td>23</td>\n      <td>11</td>\n      <td>0.676</td>\n      <td>Won 4–1 in their last Finals appearance in 2014.</td>\n    </tr>\n    <tr>\n      <th>8</th>\n      <td>35</td>\n      <td>Miami Heat</td>\n      <td>17</td>\n      <td>18</td>\n      <td>0.486</td>\n      <td>Lost 2–4 in their last Finals appearance in 2020.</td>\n    </tr>\n    <tr>\n      <th>9</th>\n      <td>25</td>\n      <td>Atlanta Hawks</td>\n      <td>11</td>\n      <td>14</td>\n      <td>0.440</td>\n      <td>All appearances in the Finals occurred while t...</td>\n    </tr>\n    <tr>\n      <th>10</th>\n      <td>23</td>\n      <td>Houston Rockets</td>\n      <td>12</td>\n      <td>11</td>\n      <td>0.522</td>\n      <td>Won 4–0 in their last Finals appearance in 1995.</td>\n    </tr>\n    <tr>\n      <th>11</th>\n      <td>23</td>\n      <td>Oklahoma City Thunder</td>\n      <td>10</td>\n      <td>13</td>\n      <td>0.435</td>\n      <td>Includes a record of 9–9 while in Seattle, and...</td>\n    </tr>\n    <tr>\n      <th>12</th>\n      <td>26</td>\n      <td>Cleveland Cavaliers</td>\n      <td>7</td>\n      <td>19</td>\n      <td>0.269</td>\n      <td>Lost 4–0 in their last Finals appearance in 20...</td>\n    </tr>\n    <tr>\n      <th>13</th>\n      <td>20</td>\n      <td>Washington Wizards</td>\n      <td>5</td>\n      <td>15</td>\n      <td>0.250</td>\n      <td>Includes a record of 0–4 in Baltimore and 5–11...</td>\n    </tr>\n    <tr>\n      <th>14</th>\n      <td>18</td>\n      <td>Phoenix Suns</td>\n      <td>6</td>\n      <td>12</td>\n      <td>0.333</td>\n      <td>Lost 4–2 in their last Finals appearance in 2021.</td>\n    </tr>\n    <tr>\n      <th>15</th>\n      <td>17</td>\n      <td>Milwaukee Bucks</td>\n      <td>11</td>\n      <td>6</td>\n      <td>0.647</td>\n      <td>Won 4–2 in their last Finals appearance in 2021.</td>\n    </tr>\n    <tr>\n      <th>16</th>\n      <td>17</td>\n      <td>Portland Trail Blazers</td>\n      <td>7</td>\n      <td>10</td>\n      <td>0.412</td>\n      <td>Lost 4–2 in their last Finals appearance in 1992.</td>\n    </tr>\n    <tr>\n      <th>17</th>\n      <td>12</td>\n      <td>Dallas Mavericks</td>\n      <td>6</td>\n      <td>6</td>\n      <td>0.500</td>\n      <td>All games played during the Finals have been a...</td>\n    </tr>\n    <tr>\n      <th>18</th>\n      <td>12</td>\n      <td>Utah Jazz</td>\n      <td>4</td>\n      <td>8</td>\n      <td>0.333</td>\n      <td>Lost 4–2 in both Finals appearances in 1997 an...</td>\n    </tr>\n    <tr>\n      <th>19</th>\n      <td>10</td>\n      <td>Brooklyn Nets</td>\n      <td>2</td>\n      <td>8</td>\n      <td>0.200</td>\n      <td>All Finals appearances have occurred while the...</td>\n    </tr>\n    <tr>\n      <th>20</th>\n      <td>9</td>\n      <td>Orlando Magic</td>\n      <td>1</td>\n      <td>8</td>\n      <td>0.111</td>\n      <td>Lost 4–1 in their last Finals appearance in 2009.</td>\n    </tr>\n    <tr>\n      <th>21</th>\n      <td>7</td>\n      <td>Sacramento Kings</td>\n      <td>4</td>\n      <td>3</td>\n      <td>0.571</td>\n      <td>All appearances have occurred while the team w...</td>\n    </tr>\n    <tr>\n      <th>22</th>\n      <td>6</td>\n      <td>Baltimore Bullets</td>\n      <td>4</td>\n      <td>2</td>\n      <td>0.667</td>\n      <td>Franchise defunct; not to be confused with cur...</td>\n    </tr>\n    <tr>\n      <th>23</th>\n      <td>6</td>\n      <td>Toronto Raptors</td>\n      <td>4</td>\n      <td>2</td>\n      <td>0.667</td>\n      <td>Won 4–2 in their last Finals appearance in 2019.</td>\n    </tr>\n    <tr>\n      <th>24</th>\n      <td>6</td>\n      <td>Indiana Pacers</td>\n      <td>2</td>\n      <td>4</td>\n      <td>0.333</td>\n      <td>Lost 4–2 in their last Finals appearance in 2000.</td>\n    </tr>\n    <tr>\n      <th>25</th>\n      <td>6</td>\n      <td>Washington Capitols</td>\n      <td>2</td>\n      <td>4</td>\n      <td>0.333</td>\n      <td>Franchise defunct.</td>\n    </tr>\n    <tr>\n      <th>26</th>\n      <td>5</td>\n      <td>Chicago Stags</td>\n      <td>1</td>\n      <td>4</td>\n      <td>0.200</td>\n      <td>Franchise defunct.</td>\n    </tr>\n  </tbody>\n</table>\n</div>"
     },
     "execution_count": 5,
     "metadata": {},
     "output_type": "execute_result"
    }
   ]
  },
  {
   "cell_type": "code",
   "execution_count": 7,
   "outputs": [],
   "source": [
    "import mitosheet"
   ],
   "metadata": {
    "collapsed": false,
    "pycharm": {
     "name": "#%%\n"
    }
   }
  },
  {
   "cell_type": "code",
   "execution_count": 8,
   "outputs": [
    {
     "data": {
      "text/plain": "MitoWidget(analysis_data_json='{\"analysisName\": \"id-xlivbfojrm\", \"analysisToReplay\": null, \"code\": [], \"stepSu…",
      "application/vnd.jupyter.widget-view+json": {
       "version_major": 2,
       "version_minor": 0,
       "model_id": "bab7ff79d42a4e45a5449ece9eef21b3"
      }
     },
     "metadata": {},
     "output_type": "display_data"
    }
   ],
   "source": [
    "mitosheet.sheet(df)"
   ],
   "metadata": {
    "collapsed": false,
    "pycharm": {
     "name": "#%%\n"
    }
   }
  },
  {
   "cell_type": "code",
   "execution_count": null,
   "outputs": [],
   "source": [],
   "metadata": {
    "collapsed": false,
    "pycharm": {
     "name": "#%%\n"
    }
   }
  }
 ]
}