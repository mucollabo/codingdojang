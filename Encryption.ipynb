{
  "nbformat": 4,
  "nbformat_minor": 0,
  "metadata": {
    "colab": {
      "name": "Encryption.ipynb",
      "provenance": [],
      "authorship_tag": "ABX9TyNMSMo6gj3IzqBIgLpFs5f2",
      "include_colab_link": true
    },
    "kernelspec": {
      "name": "python3",
      "display_name": "Python 3"
    },
    "language_info": {
      "name": "python"
    }
  },
  "cells": [
    {
      "cell_type": "markdown",
      "metadata": {
        "id": "view-in-github",
        "colab_type": "text"
      },
      "source": [
        "<a href=\"https://colab.research.google.com/github/mucollabo/codingdojang/blob/main/Encryption.ipynb\" target=\"_parent\"><img src=\"https://colab.research.google.com/assets/colab-badge.svg\" alt=\"Open In Colab\"/></a>"
      ]
    },
    {
      "cell_type": "markdown",
      "source": [
        "수 암호화 프로그램\n",
        "===\n",
        "[문제] 0~25만의 수 1개를 입력으로 받으면 그 수를 암호화하여 출력하는 프로그램을 작성하세요. 방법은 다음과 같습니다.\n",
        "---\n",
        "1. 입력받은 수의 제곱근에 1000을 곱한다. (예시: 2 => 1.414213... *1000 => 1414.213...)\n",
        "2. 1의 결과에서 소수점 이하를 버림한다. (예시: 1414.213... => 1414)\n",
        "3. 2의 결과에서 입력받은 수를 뺀다. (예시: 1414 => 1414 - 2 => 1412) 이렇게 하면 2를 입력 받았을 때 1412를 출력합니다. 다음 결과로 테스트하세요.\n",
        "\n",
        "### [예]\n",
        "#### >>> password(2)\n",
        "#### 1412\n",
        "#### >>> password(125000)\n",
        "#### 228553\n",
        "#### >>> password(250000)\n",
        "#### 250000\n",
        "#### >>> password(100000)\n",
        "#### 216227\n",
        "\n"
      ],
      "metadata": {
        "id": "0Q12ESAFHuq4"
      }
    },
    {
      "cell_type": "code",
      "source": [
        "import math\n",
        "\n",
        "def password(x):\n",
        "  return math.floor((math.sqrt(x) * 1000)) - x\n"
      ],
      "metadata": {
        "id": "piiktilFJ8Az"
      },
      "execution_count": 1,
      "outputs": []
    },
    {
      "cell_type": "code",
      "source": [
        "password(2)"
      ],
      "metadata": {
        "colab": {
          "base_uri": "https://localhost:8080/"
        },
        "id": "PLzH0ZAmNIic",
        "outputId": "6b2547d1-055d-4b26-cd63-f9fd4b84c5ef"
      },
      "execution_count": 2,
      "outputs": [
        {
          "output_type": "execute_result",
          "data": {
            "text/plain": [
              "1412"
            ]
          },
          "metadata": {},
          "execution_count": 2
        }
      ]
    },
    {
      "cell_type": "code",
      "source": [
        "password(125000)"
      ],
      "metadata": {
        "colab": {
          "base_uri": "https://localhost:8080/"
        },
        "id": "UWsP_Y88NNan",
        "outputId": "f28ef659-f5aa-4d04-fe17-467856e97be2"
      },
      "execution_count": 3,
      "outputs": [
        {
          "output_type": "execute_result",
          "data": {
            "text/plain": [
              "228553"
            ]
          },
          "metadata": {},
          "execution_count": 3
        }
      ]
    },
    {
      "cell_type": "code",
      "source": [
        "password(250000)"
      ],
      "metadata": {
        "colab": {
          "base_uri": "https://localhost:8080/"
        },
        "id": "eI2ZiqKNNQo2",
        "outputId": "95ad48a6-47b7-4868-cbbc-cbb37fd868d9"
      },
      "execution_count": 4,
      "outputs": [
        {
          "output_type": "execute_result",
          "data": {
            "text/plain": [
              "250000"
            ]
          },
          "metadata": {},
          "execution_count": 4
        }
      ]
    },
    {
      "cell_type": "code",
      "source": [
        "password(100000)"
      ],
      "metadata": {
        "colab": {
          "base_uri": "https://localhost:8080/"
        },
        "id": "tCzuvNzuNTKV",
        "outputId": "3322cd52-0d11-4b79-ef0e-34efe3187e0d"
      },
      "execution_count": 5,
      "outputs": [
        {
          "output_type": "execute_result",
          "data": {
            "text/plain": [
              "216227"
            ]
          },
          "metadata": {},
          "execution_count": 5
        }
      ]
    },
    {
      "cell_type": "code",
      "source": [
        ""
      ],
      "metadata": {
        "id": "GbvGzkHtNWGS"
      },
      "execution_count": null,
      "outputs": []
    }
  ]
}