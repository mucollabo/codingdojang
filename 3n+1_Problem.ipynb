{
 "cells": [
  {
   "cell_type": "markdown",
   "metadata": {
    "collapsed": true,
    "pycharm": {
     "name": "#%% md\n"
    }
   },
   "source": [
    "3n+1 Problem\n",
    "===\n",
    "[문제] 어떤 정수 nd에서 시작해, n이 짝수면 2로 나누고, 홀수면 3을 곱한 다음 1을 더한다. 이렇게 해서 새로 만들어진 숫자를 n으로 놓고, n=1 이 될때까지 같은 작업을 계속 반복한다. 예를 들어, n=22이면 다음과 같은 수열이 만들어진다.\n",
    "---\n",
    "### 22 11 34 17 52 26 13 40 20 10 5 16 8 4 2 1\n",
    "#### n이라는 값이 입력 되었을 때 1이 나올 때까지 만들어진 수의 개수(1을 포함)를 n의 사이클 길이 라고 한다. 위에 있는 수열을 예로 들면 22의 사이클 길이는 16이다. i와 j라는 두개의 수가 주어 졌을 때, i와 j사이의 모든 수(i, j포함)에 대해 최대 사이클 길이를 구하라.\n",
    "### [입력예]\n",
    "#### 1    10\n",
    "#### 100  200\n",
    "#### 201  210\n",
    "#### 900  1000\n",
    "### [출력 예]\n",
    "#### 1    10    20\n",
    "#### 100  200   125\n",
    "#### 201  210   89\n",
    "#### 900  1000  174\n",
    "#### ※ 참고\n",
    "##### 어떤 자연수 n에 대해서도, 이 조작을 유한 번 시행하면 1이 될 것이라고 예상하는데, 700,000,000,000보다 작은 모든 짝수에 대해 성립한다는 것이 밝혀져 있긴 하지만, 아직 아무도 증명하지 못했습니다. 유명한 헝가리 수학자 폴에르되시(Paul Erd' os)는, \"우리의 수학은 아직 이 문제를 풀 준비가 되어 있지 않다.\"라고 했습니다."
   ]
  },
  {
   "cell_type": "code",
   "execution_count": 26,
   "outputs": [],
   "source": [
    "# 사이클 길이를 구하는 함수\n",
    "def FindCycleLength(n):\n",
    "    nList = []              # 수열 저장을 위한 빈 리스트 생성\n",
    "    while n != 1:           # n = 1 이 될 때까지 반복\n",
    "        if n % 2 == 0:      # 쩍수 일 경우 2로 나누어 리스트에 저장\n",
    "            n /= 2\n",
    "            nList.append(n)\n",
    "        else:               # 홀수 일 경우 3을 곱해서 1을 더한 값 저장\n",
    "            n = 3*n + 1\n",
    "            nList.append(n)\n",
    "    nList.append(n)         # 마지막 n=1 일 때 n값 저장\n",
    "    return len(nList)\n",
    "\n",
    "# 2개의 정수 사이의 모든 수의 최대 싸이클 길이 구하는 함수\n",
    "def FindMaxCycleLength():\n",
    "    a, b = map(int, input(\"두개의 정수를 입력하세요: \").split())    # 2개의 정수를 입력\n",
    "    cycleLenList = []          # 사이클 길리을 저장하는 빈 리스트 생성\n",
    "    for num in range(a, b+1):      # 두 정수를 포함한 사이값을 순회\n",
    "        cycleLenList.append(FindCycleLength(num))    # FindCycleLength()를 호출하여 사이클 길이를 리스트에 저장\n",
    "    return max(cycleLenList)     # 리스트 중 가장 큰 값을 반환\n"
   ],
   "metadata": {
    "collapsed": false,
    "pycharm": {
     "name": "#%%\n"
    }
   }
  },
  {
   "cell_type": "code",
   "execution_count": 27,
   "outputs": [
    {
     "data": {
      "text/plain": "20"
     },
     "execution_count": 27,
     "metadata": {},
     "output_type": "execute_result"
    }
   ],
   "source": [
    "FindMaxCycleLength()   # 1 10"
   ],
   "metadata": {
    "collapsed": false,
    "pycharm": {
     "name": "#%%\n"
    }
   }
  },
  {
   "cell_type": "code",
   "execution_count": 28,
   "outputs": [
    {
     "data": {
      "text/plain": "125"
     },
     "execution_count": 28,
     "metadata": {},
     "output_type": "execute_result"
    }
   ],
   "source": [
    "FindMaxCycleLength()   # 100 200"
   ],
   "metadata": {
    "collapsed": false,
    "pycharm": {
     "name": "#%%\n"
    }
   }
  },
  {
   "cell_type": "code",
   "execution_count": 29,
   "outputs": [
    {
     "data": {
      "text/plain": "89"
     },
     "execution_count": 29,
     "metadata": {},
     "output_type": "execute_result"
    }
   ],
   "source": [
    "FindMaxCycleLength()   # 201 210"
   ],
   "metadata": {
    "collapsed": false,
    "pycharm": {
     "name": "#%%\n"
    }
   }
  },
  {
   "cell_type": "code",
   "execution_count": 30,
   "outputs": [
    {
     "data": {
      "text/plain": "174"
     },
     "execution_count": 30,
     "metadata": {},
     "output_type": "execute_result"
    }
   ],
   "source": [
    "FindMaxCycleLength()   # 900 1000"
   ],
   "metadata": {
    "collapsed": false,
    "pycharm": {
     "name": "#%%\n"
    }
   }
  },
  {
   "cell_type": "code",
   "execution_count": null,
   "outputs": [],
   "source": [],
   "metadata": {
    "collapsed": false,
    "pycharm": {
     "name": "#%%\n"
    }
   }
  }
 ],
 "metadata": {
  "kernelspec": {
   "display_name": "Python 3",
   "language": "python",
   "name": "python3"
  },
  "language_info": {
   "codemirror_mode": {
    "name": "ipython",
    "version": 2
   },
   "file_extension": ".py",
   "mimetype": "text/x-python",
   "name": "python",
   "nbconvert_exporter": "python",
   "pygments_lexer": "ipython2",
   "version": "2.7.6"
  }
 },
 "nbformat": 4,
 "nbformat_minor": 0
}