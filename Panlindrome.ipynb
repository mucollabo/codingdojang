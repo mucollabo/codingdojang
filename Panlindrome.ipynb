{
  "nbformat": 4,
  "nbformat_minor": 0,
  "metadata": {
    "colab": {
      "name": "Panlindrome.ipynb",
      "provenance": [],
      "authorship_tag": "ABX9TyOq4DCqc1U05TxBGD6lf0o5",
      "include_colab_link": true
    },
    "kernelspec": {
      "name": "python3",
      "display_name": "Python 3"
    },
    "language_info": {
      "name": "python"
    }
  },
  "cells": [
    {
      "cell_type": "markdown",
      "metadata": {
        "id": "view-in-github",
        "colab_type": "text"
      },
      "source": [
        "<a href=\"https://colab.research.google.com/github/mucollabo/codingdojang/blob/main/Panlindrome.ipynb\" target=\"_parent\"><img src=\"https://colab.research.google.com/assets/colab-badge.svg\" alt=\"Open In Colab\"/></a>"
      ]
    },
    {
      "cell_type": "markdown",
      "source": [
        "### Panlindrome\n",
        "#### [문제] 앞에서부터 읽을 때나 뒤어서부터 읽을 때나 모양이 같은 수를 대칭수(panlindrome)라고 부릅니다. 두 자리 수를 곱해 만들 수 있는 대칭수 중 가장 큰 수는 9009 (=91 X 99)입니다. 세 자리 수를 곱해 만들 수 있는 가장 큰 대칭수는 얼마입니까?\n"
      ],
      "metadata": {
        "id": "0AwcFoFRFSXN"
      }
    },
    {
      "cell_type": "code",
      "source": [
        "# 세자리를 곱해서 나올 수있는 가장 작은 수: 10000 (=100 X 100)\n",
        "# 세자리를 곱해서 나올 수있는 가장 큰 수: 998001 (=999 X 999)"
      ],
      "metadata": {
        "id": "EAnpS_biF0p0"
      },
      "execution_count": 1,
      "outputs": []
    },
    {
      "cell_type": "code",
      "source": [
        "maxNum = 0\n",
        "for i in range(999, 99, -1):\n",
        "  for j in range(999, 99, -1):\n",
        "    pldr = str(i * j)\n",
        "    if pldr == pldr[::-1] and int(pldr) > maxNum:\n",
        "      maxNum = int(pldr)\n",
        "print(maxNum)\n"
      ],
      "metadata": {
        "colab": {
          "base_uri": "https://localhost:8080/"
        },
        "id": "Mg2TjMF3Gagj",
        "outputId": "8ab31687-cb1b-4646-b996-4c64381255ad"
      },
      "execution_count": 51,
      "outputs": [
        {
          "output_type": "stream",
          "name": "stdout",
          "text": [
            "906609\n"
          ]
        }
      ]
    }
  ]
}