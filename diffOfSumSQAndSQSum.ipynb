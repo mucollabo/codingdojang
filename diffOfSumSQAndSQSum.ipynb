{
  "nbformat": 4,
  "nbformat_minor": 0,
  "metadata": {
    "colab": {
      "name": "diffOfSumSQAndSQSum.ipynb",
      "provenance": [],
      "authorship_tag": "ABX9TyMQYS4o5LPqMWRDsTEv3jwN",
      "include_colab_link": true
    },
    "kernelspec": {
      "name": "python3",
      "display_name": "Python 3"
    },
    "language_info": {
      "name": "python"
    }
  },
  "cells": [
    {
      "cell_type": "markdown",
      "metadata": {
        "id": "view-in-github",
        "colab_type": "text"
      },
      "source": [
        "<a href=\"https://colab.research.google.com/github/mucollabo/codingdojang/blob/main/diffOfSumSQAndSQSum.ipynb\" target=\"_parent\"><img src=\"https://colab.research.google.com/assets/colab-badge.svg\" alt=\"Open In Colab\"/></a>"
      ]
    },
    {
      "cell_type": "code",
      "metadata": {
        "colab": {
          "base_uri": "https://localhost:8080/"
        },
        "id": "PUtM0lOwRGOQ",
        "outputId": "f98bab06-03d9-4a15-9932-83e843f31f78"
      },
      "source": [
        "sum = 0\n",
        "sqSum = 0\n",
        "\n",
        "for i in range(1, 101):\n",
        "  sum += i\n",
        "  sqSum += i*i\n",
        "\n",
        "print((sum * sum) - sqSum)"
      ],
      "execution_count": 9,
      "outputs": [
        {
          "output_type": "stream",
          "name": "stdout",
          "text": [
            "25164150\n"
          ]
        }
      ]
    },
    {
      "cell_type": "code",
      "metadata": {
        "id": "TmLSh1UjRjql"
      },
      "source": [
        ""
      ],
      "execution_count": null,
      "outputs": []
    }
  ]
}