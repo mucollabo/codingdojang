{
  "nbformat": 4,
  "nbformat_minor": 0,
  "metadata": {
    "colab": {
      "name": "DashInsert.ipynb",
      "provenance": [],
      "authorship_tag": "ABX9TyOYmDKK/bAHau6F2Qbv/CkU",
      "include_colab_link": true
    },
    "kernelspec": {
      "name": "python3",
      "display_name": "Python 3"
    },
    "language_info": {
      "name": "python"
    }
  },
  "cells": [
    {
      "cell_type": "markdown",
      "metadata": {
        "id": "view-in-github",
        "colab_type": "text"
      },
      "source": [
        "<a href=\"https://colab.research.google.com/github/mucollabo/codingdojang/blob/main/DashInsert.ipynb\" target=\"_parent\"><img src=\"https://colab.research.google.com/assets/colab-badge.svg\" alt=\"Open In Colab\"/></a>"
      ]
    },
    {
      "cell_type": "markdown",
      "metadata": {
        "id": "r130IY6G9MuK"
      },
      "source": [
        "### [문제] DashInsert 함수는 숫자로 구성된 문자열을 입력받은 뒤, 문자열 내에서 홀수가 연속되면 두 수 사이에 - 를 추가하고, 짝수가 연속되면 * 를 추가하는 기능을 갖고 있다. (예, 454 => 454, 4546793 => 454*67-9-3) DashInsert 함수를 완성하자.\n",
        "#### [예]\n",
        "*   입력 - 화면에서 숫자로 된 문자열을 입력받는다.\n",
        "##### \"4546793\"\n",
        "*   출력 - *, -가 적절히 추가된 문자열을 화면에 출력한다.\n",
        "##### \"454*67-9-3\"\n",
        "\n",
        "\n"
      ]
    },
    {
      "cell_type": "code",
      "metadata": {
        "colab": {
          "base_uri": "https://localhost:8080/"
        },
        "id": "Db9htmKS-giZ",
        "outputId": "ebda42db-7e31-4c84-d8c3-3c0a735564cd"
      },
      "source": [
        "def DashInsert():\n",
        "  num = list(input('숫자를 입력하세요: '))\n",
        "  indexlist = []\n",
        "  for elnum in num:\n",
        "    if int(elnum)%2 == 0:\n",
        "      indexlist += [0]\n",
        "    else:\n",
        "      indexlist += [1]\n",
        "  \n",
        "  for i in range(len(num)-1):\n",
        "    print(num[i], end='')\n",
        "    if indexlist[i] == indexlist[i+1] and indexlist[i] == 0:\n",
        "      print('*', end='')\n",
        "    elif indexlist[i] == indexlist[i+1] and indexlist[i] == 1:\n",
        "      print('-', end='')\n",
        "  print(num[-1])\n",
        "\n",
        "DashInsert()"
      ],
      "execution_count": 17,
      "outputs": [
        {
          "output_type": "stream",
          "name": "stdout",
          "text": [
            "숫자를 입력하세요: 4556677894088976532\n",
            "45-56*67-7894*0*8*89-765-32\n"
          ]
        }
      ]
    }
  ]
}