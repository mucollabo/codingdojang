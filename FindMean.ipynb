{
  "nbformat": 4,
  "nbformat_minor": 0,
  "metadata": {
    "colab": {
      "name": "FindMean.ipynb",
      "provenance": [],
      "authorship_tag": "ABX9TyNqEda4PdFHb4zhN3Ecmf15",
      "include_colab_link": true
    },
    "kernelspec": {
      "name": "python3",
      "display_name": "Python 3"
    },
    "language_info": {
      "name": "python"
    }
  },
  "cells": [
    {
      "cell_type": "markdown",
      "metadata": {
        "id": "view-in-github",
        "colab_type": "text"
      },
      "source": [
        "<a href=\"https://colab.research.google.com/github/mucollabo/codingdojang/blob/main/FindMean.ipynb\" target=\"_parent\"><img src=\"https://colab.research.google.com/assets/colab-badge.svg\" alt=\"Open In Colab\"/></a>"
      ]
    },
    {
      "cell_type": "markdown",
      "source": [
        "평균 구하기\n",
        "===\n",
        "\n",
        "### [문제] 리스트에 있는 숫자들의 평균을 구하는 프로그램을 만들어라.\n",
        "#### [예] \n",
        "#### [4, 5, 8] = 6\n",
        "#### [11, 17, 20, 24] = 18\n",
        "#### [26, 33, 45, 51, 60] = 43\n"
      ],
      "metadata": {
        "id": "kuCUPUSZD88Y"
      }
    },
    {
      "cell_type": "code",
      "source": [
        "a = [4, 5, 8]\n",
        "b = [11, 17, 20, 24]\n",
        "c = [26, 33, 45, 51, 60]\n",
        "\n",
        "print(f\"{a} = {round(sum(a)/len(a))} \")\n",
        "print(f\"{b} = {round(sum(b)/len(b))} \")\n",
        "print(f\"{c} = {round(sum(c)/len(c))} \")\n"
      ],
      "metadata": {
        "colab": {
          "base_uri": "https://localhost:8080/"
        },
        "id": "7fisj8d4GdfD",
        "outputId": "4bfcf080-0407-49fd-cc58-10a6cd0302ab"
      },
      "execution_count": 9,
      "outputs": [
        {
          "output_type": "stream",
          "name": "stdout",
          "text": [
            "[4, 5, 8] = 6 \n",
            "[11, 17, 20, 24] = 18 \n",
            "[26, 33, 45, 51, 60] = 43 \n"
          ]
        }
      ]
    },
    {
      "cell_type": "code",
      "source": [
        "# 재사용성을 위해 함수와 input으로 구현\n",
        "\n",
        "def findMean():\n",
        "  nums = [int(nums) for nums in input(\"평균을 구할 숫자를 입력하시오: \").split()]\n",
        "  print(f\"{nums} = {round(sum(nums)/len(nums))}\")\n",
        "\n",
        "findMean()"
      ],
      "metadata": {
        "colab": {
          "base_uri": "https://localhost:8080/"
        },
        "id": "Be8ylpDXNTUG",
        "outputId": "6ccbe6df-ad5b-45aa-ee86-d4d1a80f30dc"
      },
      "execution_count": 15,
      "outputs": [
        {
          "output_type": "stream",
          "name": "stdout",
          "text": [
            "평균을 구할 숫자를 입력하시오: 26 33 45 51 60\n",
            "[26, 33, 45, 51, 60] = 43\n"
          ]
        }
      ]
    },
    {
      "cell_type": "code",
      "source": [
        ""
      ],
      "metadata": {
        "id": "m0xfjNbdQBsM"
      },
      "execution_count": null,
      "outputs": []
    }
  ]
}