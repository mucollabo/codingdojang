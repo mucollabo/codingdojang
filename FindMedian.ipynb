{
  "nbformat": 4,
  "nbformat_minor": 0,
  "metadata": {
    "colab": {
      "name": "FindMedian.ipynb",
      "provenance": [],
      "authorship_tag": "ABX9TyMNZzgAw4BwGuhKQb1cbCw6",
      "include_colab_link": true
    },
    "kernelspec": {
      "name": "python3",
      "display_name": "Python 3"
    },
    "language_info": {
      "name": "python"
    }
  },
  "cells": [
    {
      "cell_type": "markdown",
      "metadata": {
        "id": "view-in-github",
        "colab_type": "text"
      },
      "source": [
        "<a href=\"https://colab.research.google.com/github/mucollabo/codingdojang/blob/main/FindMedian.ipynb\" target=\"_parent\"><img src=\"https://colab.research.google.com/assets/colab-badge.svg\" alt=\"Open In Colab\"/></a>"
      ]
    },
    {
      "cell_type": "markdown",
      "source": [
        "중앙값 구하기\n",
        "===\n",
        "[문제] 리스트에 있는 숫자들의 중앙값을 구하는 프로그램을 만들어라.\n",
        "---\n",
        "#### [예]\n",
        "#### [7, 9, 14]\n",
        "#### [24, 31, 35, 49]\n",
        "#### [17, 37, 37, 47, 57]\n",
        "###### 중앙값 : 자료를 작은 값에서부터 크기순으로 나열할 때 중앙에 위치한 값\n",
        "- 자료의 개수가 홀수이면 가운데 위치한 값이 중앙값이다.\n",
        "- 자료의 개수가 짝수이면 가운데 위치한 두 값의 평균이 중앙값이다.\n"
      ],
      "metadata": {
        "id": "op8InLQs-qT-"
      }
    },
    {
      "cell_type": "code",
      "execution_count": 12,
      "metadata": {
        "colab": {
          "base_uri": "https://localhost:8080/"
        },
        "id": "AQh3VZ5Q5ML1",
        "outputId": "0c46f963-1fd1-4528-d13c-58c5037c44bf"
      },
      "outputs": [
        {
          "output_type": "stream",
          "name": "stdout",
          "text": [
            "[7, 9, 14] = 9\n",
            "[24, 31, 35, 49] = 33\n",
            "[17, 37, 37, 47, 57] = 37\n"
          ]
        }
      ],
      "source": [
        "a = [7, 9, 14]\n",
        "b = [24, 31, 35, 49]\n",
        "c = [17, 37, 37, 47, 57]\n",
        "\n",
        "print(f\"{a} = {(a[len(a)//2] + a[-(len(a)//2) - 1])//2}\")\n",
        "print(f\"{b} = {(b[len(b)//2] + b[-(len(b)//2) - 1])//2}\")\n",
        "print(f\"{c} = {(c[len(c)//2] + c[-(len(c)//2) - 1])//2}\")\n"
      ]
    },
    {
      "cell_type": "code",
      "source": [
        "# numpy median를 이용한 방법\n",
        "\n",
        "import numpy as np\n",
        "\n",
        "print(f\"{a} = {int(np.median(a))}\")\n",
        "print(f\"{b} = {int(np.median(b))}\")\n",
        "print(f\"{c} = {int(np.median(c))}\")\n"
      ],
      "metadata": {
        "colab": {
          "base_uri": "https://localhost:8080/"
        },
        "id": "6vLIhYhr_-QV",
        "outputId": "b1b7f2a5-89a9-4872-bb66-2453c3e55186"
      },
      "execution_count": 17,
      "outputs": [
        {
          "output_type": "stream",
          "name": "stdout",
          "text": [
            "[7, 9, 14] = 9\n",
            "[24, 31, 35, 49] = 33\n",
            "[17, 37, 37, 47, 57] = 37\n"
          ]
        }
      ]
    },
    {
      "cell_type": "code",
      "source": [
        ""
      ],
      "metadata": {
        "id": "PckBqmFXBtnI"
      },
      "execution_count": null,
      "outputs": []
    }
  ]
}