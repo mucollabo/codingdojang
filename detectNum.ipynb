{
  "nbformat": 4,
  "nbformat_minor": 0,
  "metadata": {
    "colab": {
      "name": "detectNum.ipynb",
      "provenance": [],
      "authorship_tag": "ABX9TyOTGt/Ii/I0+69GWNioa1ZZ",
      "include_colab_link": true
    },
    "kernelspec": {
      "name": "python3",
      "display_name": "Python 3"
    },
    "language_info": {
      "name": "python"
    }
  },
  "cells": [
    {
      "cell_type": "markdown",
      "metadata": {
        "id": "view-in-github",
        "colab_type": "text"
      },
      "source": [
        "<a href=\"https://colab.research.google.com/github/mucollabo/codingdojang/blob/main/detectNum.ipynb\" target=\"_parent\"><img src=\"https://colab.research.google.com/assets/colab-badge.svg\" alt=\"Open In Colab\"/></a>"
      ]
    },
    {
      "cell_type": "markdown",
      "source": [
        "### 자릿수를 출력하는 프로그램\n",
        "#### [문제] 양의 정수만 입력으로 받고 그 수의 자릿수를 출력해보자. ex1) 3 > 1자리수, ex2) 649 > 3자리수 ..."
      ],
      "metadata": {
        "id": "5q2bzr14kA0B"
      }
    },
    {
      "cell_type": "code",
      "source": [
        "n = input('양의 정수를 입력하세요: ')\n",
        "\n",
        "try:\n",
        "  int(n)\n",
        "  val = True\n",
        "except ValueError:\n",
        "  print('잘못된 입력입니다.')\n"
      ],
      "metadata": {
        "colab": {
          "base_uri": "https://localhost:8080/"
        },
        "id": "tkaF-uKskZaG",
        "outputId": "5f1ef5bd-84c5-4ec4-b311-1bbd05241feb"
      },
      "execution_count": 27,
      "outputs": [
        {
          "output_type": "stream",
          "name": "stdout",
          "text": [
            "양의 정수를 입력하세요: ㅎㅇㄴ\n",
            "잘못된 입력입니다.\n"
          ]
        }
      ]
    },
    {
      "cell_type": "code",
      "source": [
        ""
      ],
      "metadata": {
        "id": "MvWqg3xNrwwv"
      },
      "execution_count": null,
      "outputs": []
    }
  ]
}