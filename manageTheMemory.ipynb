{
  "nbformat": 4,
  "nbformat_minor": 0,
  "metadata": {
    "colab": {
      "name": "manageTheMemory.ipynb",
      "provenance": [],
      "authorship_tag": "ABX9TyNRKXlnKH0aJNCxQNK4sMzF",
      "include_colab_link": true
    },
    "kernelspec": {
      "name": "python3",
      "display_name": "Python 3"
    },
    "language_info": {
      "name": "python"
    }
  },
  "cells": [
    {
      "cell_type": "markdown",
      "metadata": {
        "id": "view-in-github",
        "colab_type": "text"
      },
      "source": [
        "<a href=\"https://colab.research.google.com/github/mucollabo/codingdojang/blob/main/manageTheMemory.ipynb\" target=\"_parent\"><img src=\"https://colab.research.google.com/assets/colab-badge.svg\" alt=\"Open In Colab\"/></a>"
      ]
    },
    {
      "cell_type": "markdown",
      "metadata": {
        "id": "dbw9I_7tmX95"
      },
      "source": [
        "# [문제] 메모리공간을 동적으로 사용하여 데이터 관리하기\n",
        "\n",
        "### 프로그램 실행 순서\n",
        "\n",
        "1. 입력할 정수의 개수를 사용자로부터 입력 받는다.\n",
        "2. 입력받은 정수의 개수만큼 정수를 입력받는다.\n",
        "3. 입력받은 정수의 합과 평균 값을 출력한다.\n",
        "4. 할당된 메모리공간을 비운다.\n",
        "\n",
        "### 요구사항\n",
        "\n",
        "1. 메모리공간은 사용자의 입력 수의 따라 변동된다.\n",
        "2. 사용한 공간은 마지막에 비워야 한다.\n",
        "3. 배열을 사용하면 안된다.\n",
        "\n",
        "\n"
      ]
    },
    {
      "cell_type": "code",
      "metadata": {
        "colab": {
          "base_uri": "https://localhost:8080/"
        },
        "id": "79P46u2-nixs",
        "outputId": "b09ff35d-8ac6-411a-c50b-3e26efcff430"
      },
      "source": [
        "x = 10\n",
        "print(type(x))"
      ],
      "execution_count": 1,
      "outputs": [
        {
          "output_type": "stream",
          "name": "stdout",
          "text": [
            "<class 'int'>\n"
          ]
        }
      ]
    },
    {
      "cell_type": "code",
      "metadata": {
        "colab": {
          "base_uri": "https://localhost:8080/"
        },
        "id": "NUwQwUmyOSX4",
        "outputId": "33e94fa1-8b60-4776-b12c-00099d1b626d"
      },
      "source": [
        "y = x\n",
        "if (id(x) == id(y)):\n",
        "  print(\"x and y refer to the same object\")"
      ],
      "execution_count": 3,
      "outputs": [
        {
          "output_type": "stream",
          "name": "stdout",
          "text": [
            "x and y refer to the same object\n"
          ]
        }
      ]
    },
    {
      "cell_type": "code",
      "metadata": {
        "colab": {
          "base_uri": "https://localhost:8080/"
        },
        "id": "PbFGbVPyOiS-",
        "outputId": "2e720c50-5ca2-42cc-c74b-5e2094132cf4"
      },
      "source": [
        "x = x + 1\n",
        "if (id(x) != id(y)):\n",
        "  print(\"x and y refer to DIFFERENT object!\")"
      ],
      "execution_count": 4,
      "outputs": [
        {
          "output_type": "stream",
          "name": "stdout",
          "text": [
            "x and y refer to DIFFERENT object!\n"
          ]
        }
      ]
    },
    {
      "cell_type": "code",
      "metadata": {
        "colab": {
          "base_uri": "https://localhost:8080/"
        },
        "id": "sU5-BDi8O1hl",
        "outputId": "25af4b50-b1e9-4119-e3d1-4a0fc220a6d3"
      },
      "source": [
        "z = 10\n",
        "if (id(y) == id(z)):\n",
        "  print(\"y and z point to the SAME memory!!\")\n",
        "else:\n",
        "  print(\"y and z point DIFFERENT object!\")"
      ],
      "execution_count": 7,
      "outputs": [
        {
          "output_type": "stream",
          "name": "stdout",
          "text": [
            "y and z point to the SAME memory!!\n"
          ]
        }
      ]
    },
    {
      "cell_type": "code",
      "metadata": {
        "colab": {
          "base_uri": "https://localhost:8080/"
        },
        "id": "wQ0ueGHRPKgd",
        "outputId": "e5d09f53-4721-4bf9-fe79-41b29de2c7f2"
      },
      "source": [
        "def Car():\n",
        "  print('OK')\n",
        "\n",
        "z = Car()\n",
        "print(type(z))"
      ],
      "execution_count": 14,
      "outputs": [
        {
          "output_type": "stream",
          "name": "stdout",
          "text": [
            "OK\n",
            "<class 'NoneType'>\n"
          ]
        }
      ]
    },
    {
      "cell_type": "code",
      "metadata": {
        "colab": {
          "base_uri": "https://localhost:8080/"
        },
        "id": "KZfiCHOqPycL",
        "outputId": "6f18f5f5-e254-4ac7-e91c-40dd2ac273c5"
      },
      "source": [
        "def f2(x):\n",
        "  x = x + 1\n",
        "  return x\n",
        "\n",
        "def f1(x):\n",
        "  x = x * 2\n",
        "  y = f2(x)\n",
        "  return y\n",
        "\n",
        "#main\n",
        "y = 5\n",
        "z = f1(y)\n",
        "print(f'x: {x} y: {y} z: {z}')"
      ],
      "execution_count": 19,
      "outputs": [
        {
          "output_type": "stream",
          "name": "stdout",
          "text": [
            "x: 11 y: 5 z: 11\n"
          ]
        }
      ]
    },
    {
      "cell_type": "code",
      "metadata": {
        "id": "_O8C6Q7BRzdO"
      },
      "source": [
        "class Car:\n",
        "  def __init__(self, w):\n",
        "    self.wheels = w\n",
        "\n",
        "  def getWheels(self):\n",
        "    return self.wheels\n",
        "\n",
        "#main\n",
        "c = Car(4)"
      ],
      "execution_count": 20,
      "outputs": []
    },
    {
      "cell_type": "code",
      "metadata": {
        "id": "Tc6bGdthWwzo"
      },
      "source": [
        "n = c.getWheels()"
      ],
      "execution_count": 21,
      "outputs": []
    },
    {
      "cell_type": "code",
      "metadata": {
        "colab": {
          "base_uri": "https://localhost:8080/"
        },
        "id": "XexmYa9NXkcf",
        "outputId": "581eba92-d59a-42cd-945f-5f68a444024e"
      },
      "source": [
        "numOfn = int(input(\"입력할 정수 개수: \"))\n",
        "\n",
        "Sum = 0\n",
        "for x in range(numOfn):\n",
        "  Sum += int(input(\"Enter num%d: \" %(x + 1)))\n",
        "\n",
        "print(f\"Sum: {Sum}\")\n",
        "print(f\"Avg: {(Sum/numOfn)}\")\n",
        "\n",
        "del numOfn, Sum, x\n"
      ],
      "execution_count": 25,
      "outputs": [
        {
          "output_type": "stream",
          "name": "stdout",
          "text": [
            "입력할 정수 개수: 3\n",
            "Enter num1: 3\n",
            "Enter num2: 3\n",
            "Enter num3: 4\n",
            "Sum: 10\n",
            "Avg: 3.3333333333333335\n"
          ]
        }
      ]
    },
    {
      "cell_type": "code",
      "metadata": {
        "id": "n-yO9rFuaPWS"
      },
      "source": [
        ""
      ],
      "execution_count": null,
      "outputs": []
    }
  ]
}