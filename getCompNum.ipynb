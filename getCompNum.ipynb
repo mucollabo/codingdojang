{
  "nbformat": 4,
  "nbformat_minor": 0,
  "metadata": {
    "colab": {
      "name": "getCompNum.ipynb",
      "provenance": [],
      "authorship_tag": "ABX9TyOZ+8rtjHdrhvOILnv35J+x",
      "include_colab_link": true
    },
    "kernelspec": {
      "name": "python3",
      "display_name": "Python 3"
    },
    "language_info": {
      "name": "python"
    }
  },
  "cells": [
    {
      "cell_type": "markdown",
      "metadata": {
        "id": "view-in-github",
        "colab_type": "text"
      },
      "source": [
        "<a href=\"https://colab.research.google.com/github/mucollabo/codingdojang/blob/main/getCompNum.ipynb\" target=\"_parent\"><img src=\"https://colab.research.google.com/assets/colab-badge.svg\" alt=\"Open In Colab\"/></a>"
      ]
    },
    {
      "cell_type": "markdown",
      "metadata": {
        "id": "rZEFgUYIousp"
      },
      "source": [
        "# 완전수 구하기\n",
        "### [문제] 자기 자신을 제외한 모든 양의 약수들의 합이 자기 자신이 되는 자연수를 완전수라고 한다. 예를 들면, 6과 28은 완전수이다. 6=1+2+3 // 1,2,3은 각각 6의 약수 28=1+2+4+7+14 // 1,2,4,7,14는 각각 28의 약수이다. 입력으로 자연수 N을 받고, 출력으로 N 이하의 모든 완전수를 출력하는 코드를 작성하라."
      ]
    },
    {
      "cell_type": "code",
      "metadata": {
        "colab": {
          "base_uri": "https://localhost:8080/"
        },
        "id": "nz-lS2yLqaHk",
        "outputId": "7aabfd3c-6f5d-44a1-f258-794ca30f9b73"
      },
      "source": [
        "N = int(input('자연수를 입력하세요: '))\n",
        "\n",
        "for i in range(1, N+1):\n",
        "  # print(i)\n",
        "  total = 0\n",
        "  for j in range(1, i):\n",
        "    if i%j == 0:\n",
        "      total += j\n",
        "  if i == total:\n",
        "    print(total, end=' ')"
      ],
      "execution_count": 90,
      "outputs": [
        {
          "output_type": "stream",
          "name": "stdout",
          "text": [
            "자연수를 입력하세요: 1000\n",
            "6 28 496 "
          ]
        }
      ]
    },
    {
      "cell_type": "code",
      "metadata": {
        "id": "nbECCcIh65Dm"
      },
      "source": [
        ""
      ],
      "execution_count": null,
      "outputs": []
    }
  ]
}