{
  "nbformat": 4,
  "nbformat_minor": 0,
  "metadata": {
    "colab": {
      "name": "SpecialSort.ipynb",
      "provenance": [],
      "collapsed_sections": [],
      "authorship_tag": "ABX9TyNRthmXnH9FPCOR4yXeRgeo",
      "include_colab_link": true
    },
    "kernelspec": {
      "name": "python3",
      "display_name": "Python 3"
    },
    "language_info": {
      "name": "python"
    }
  },
  "cells": [
    {
      "cell_type": "markdown",
      "metadata": {
        "id": "view-in-github",
        "colab_type": "text"
      },
      "source": [
        "<a href=\"https://colab.research.google.com/github/mucollabo/codingdojang/blob/main/SpecialSort.ipynb\" target=\"_parent\"><img src=\"https://colab.research.google.com/assets/colab-badge.svg\" alt=\"Open In Colab\"/></a>"
      ]
    },
    {
      "cell_type": "markdown",
      "metadata": {
        "id": "yFd27TlPOQU5"
      },
      "source": [
        "출처 : http://www.careercup.com/question?id=5201559730257920\n",
        "\n",
        "구글 전화면접 문제\n",
        "\n",
        "n개의 정수를 가진 배열이 있다. 이 배열은 양의정수와 음의 정수를 모두 가지고 있다. 이제 당신은 이 배열을 좀 특별한 방법으로 정렬해야 한다.\n",
        "\n",
        "정렬이 되고 난 후, 음의 정수는 앞쪽에 양의정수는 뒷쪽에 있어야 한다. 또한 양의정수와 음의정수의 순서에는 변함이 없어야 한다.\n",
        "\n",
        "예. -1 1 3 -2 2 ans: -1 -2 1 3 2.\n",
        "\n"
      ]
    },
    {
      "cell_type": "code",
      "metadata": {
        "colab": {
          "base_uri": "https://localhost:8080/"
        },
        "id": "CEhexOQJOnrX",
        "outputId": "98283222-315b-4c51-93e7-3057542b0633"
      },
      "source": [
        "arr = [-1, 1, 3, -2, 2]\n",
        "\n",
        "narr = []\n",
        "parr = []\n",
        "\n",
        "for idx in range(len(arr)):\n",
        "  if arr[idx] < 0:\n",
        "    narr.append(arr[idx])\n",
        "\n",
        "  else:\n",
        "    parr.append(arr[idx])\n",
        "\n",
        "print(narr + parr)"
      ],
      "execution_count": 14,
      "outputs": [
        {
          "output_type": "stream",
          "text": [
            "[-1, -2, 1, 3, 2]\n"
          ],
          "name": "stdout"
        }
      ]
    }
  ]
}